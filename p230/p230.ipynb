{
 "cells": [
  {
   "cell_type": "markdown",
   "metadata": {},
   "source": [
    "# Problem 230: Fibonacci Words\n",
    "\n",
    "For any two strings of digits, $A$ and $B$, we define $F_{A, B}$ to be the sequence $(A,B,AB,BAB,ABBAB,\\dots)$ in which each term is the concatenation of the previous two.\n",
    "\n",
    "Further, we define $D_{A, B}(n)$ to be the $n$<sup>th</sup> digit in the first term of $F_{A, B}$ that contains at least $n$ digits.\n",
    "\n",
    "Example:\n",
    "\n",
    "Let $A=1415926535$, $B=8979323846$. We wish to find $D_{A, B}(35)$, say.\n",
    "\n",
    "The first few terms of $F_{A, B}$ are:\\\n",
    "$1415926535$\\\n",
    "$8979323846$\\\n",
    "$14159265358979323846$\\\n",
    "$897932384614159265358979323846$\\\n",
    "$1415926535897932384689793238461415{\\color{red}\\mathbf 9}265358979323846$\n",
    "\n",
    "Then $D_{A, B}(35)$ is the $35$<sup>th</sup> digit in the fifth term, which is $9$.\n",
    "\n",
    "Now we use for $A$ the first $100$ digits of $\\pi$ behind the decimal point:\n",
    "$14159265358979323846264338327950288419716939937510$\\\n",
    "$58209749445923078164062862089986280348253421170679$\n",
    "\n",
    "and for $B$ the next hundred digits:\n",
    "\n",
    "$82148086513282306647093844609550582231725359408128$\\\n",
    "$48111745028410270193852110555964462294895493038196$.\n",
    "\n",
    "Find $\\sum_{n = 0}^{17} 10^n \\times D_{A,B}((127+19n) \\times 7^n)$."
   ]
  },
  {
   "cell_type": "code",
   "execution_count": 1,
   "metadata": {},
   "outputs": [
    {
     "name": "stdout",
     "output_type": "stream",
     "text": [
      "f_ab(1): 1\n",
      "f_ab(2): 0\n",
      "f_ab(3): 10\n",
      "f_ab(4): 010\n",
      "f_ab(5): 10010\n",
      "f_ab(6): 01010010\n",
      "f_ab(7): 1001001010010\n",
      "f_ab(8): 010100101001001010010\n",
      "f_ab(9): 1001001010010010100101001001010010\n",
      "f_ab(10): 0101001010010010100101001001010010010100101001001010010\n"
     ]
    }
   ],
   "source": [
    "from functools import cache\n",
    "\n",
    "\n",
    "@cache\n",
    "def f_ab(n: int) -> str:\n",
    "    if n == 1:\n",
    "        return \"1\"\n",
    "    elif n == 2:\n",
    "        return \"0\"\n",
    "    else:\n",
    "        return f_ab(n - 2) + f_ab(n - 1)\n",
    "\n",
    "\n",
    "# sanity checks\n",
    "for i in range(1, 11):\n",
    "    print(f\"f_ab({i}):\", f_ab(i))"
   ]
  },
  {
   "cell_type": "code",
   "execution_count": 2,
   "metadata": {},
   "outputs": [
    {
     "name": "stdout",
     "output_type": "stream",
     "text": [
      "nth_fib_word(1): 1\n",
      "nth_fib_word(2): 0\n",
      "nth_fib_word(3): 0\n",
      "nth_fib_word(4): 1\n",
      "nth_fib_word(10): 0\n"
     ]
    }
   ],
   "source": [
    "from decimal import Decimal\n",
    "\n",
    "\n",
    "# 1 correspond to A\n",
    "# 0 correspond to B\n",
    "def nth_fib_word(n: int):\n",
    "    if n == 1:\n",
    "        return 1  # assuming the total length of the fib word is 1\n",
    "    if n == 2:\n",
    "        return 0  # assuming the total length of the fib word is 2\n",
    "    phi = (Decimal(1) + Decimal(5).sqrt()) / Decimal(\n",
    "        2\n",
    "    )  # need better than float precision\n",
    "    return 2 + int((n - 2) * phi) - int((n - 1) * phi)\n",
    "\n",
    "\n",
    "# sanity checks\n",
    "print(\"nth_fib_word(1):\", nth_fib_word(1))\n",
    "print(\"nth_fib_word(2):\", nth_fib_word(2))\n",
    "print(\"nth_fib_word(3):\", nth_fib_word(3))\n",
    "print(\"nth_fib_word(4):\", nth_fib_word(4))\n",
    "print(\"nth_fib_word(10):\", nth_fib_word(10))"
   ]
  },
  {
   "cell_type": "code",
   "execution_count": 3,
   "metadata": {},
   "outputs": [
    {
     "name": "stdout",
     "output_type": "stream",
     "text": [
      "D_ab(35): 9\n",
      "D_ab(1): 1\n",
      "D_ab(20): 6\n",
      "D_ab(451): 1\n",
      "D_ab(639): 3\n"
     ]
    }
   ],
   "source": [
    "from typing import List\n",
    "\n",
    "\n",
    "a = [1, 4, 1, 5, 9, 2, 6, 5, 3, 5]\n",
    "b = [8, 9, 7, 9, 3, 2, 3, 8, 4, 6]\n",
    "\n",
    "\n",
    "def d_ab(n: int, a: List[int], b: List[int]) -> int:\n",
    "    la = len(a)\n",
    "    if la != len(b):\n",
    "        raise RuntimeError(\"len(a) != len(b)\")\n",
    "    word_index, digit_num = divmod(n, la)\n",
    "    match nth_fib_word(word_index + 1):\n",
    "        case 0:\n",
    "            return b[digit_num - 1]\n",
    "        case 1:\n",
    "            return a[digit_num - 1]\n",
    "\n",
    "\n",
    "# sanity checks\n",
    "print(\"D_ab(35):\", d_ab(35, a, b))  # 9 (fifth digit of a)\n",
    "print(\"D_ab(1):\", d_ab(1, a, b))  # 1 (first digit of a)\n",
    "print(\"D_ab(20):\", d_ab(20, a, b))  # 6 (last digit of b)\n",
    "print(\"D_ab(451):\", d_ab(451, a, b))  # 1 (from forum)\n",
    "print(\"D_ab(639):\", d_ab(639, a, b))  # 3 (from forum)"
   ]
  },
  {
   "cell_type": "code",
   "execution_count": 4,
   "metadata": {},
   "outputs": [
    {
     "name": "stdout",
     "output_type": "stream",
     "text": [
      "Result: 850481152593119296\n"
     ]
    }
   ],
   "source": [
    "a = [\n",
    "    int(d)\n",
    "    for d in \"1415926535897932384626433832795028841971693993751058209749445923078164062862089986280348253421170679\"\n",
    "]\n",
    "b = [\n",
    "    int(d)\n",
    "    for d in \"8214808651328230664709384460955058223172535940812848111745028410270193852110555964462294895493038196\"\n",
    "]\n",
    "\n",
    "result = 0\n",
    "for n in range(18):\n",
    "    ndigit = (127 + 19 * n) * 7**n\n",
    "    result += 10**n * d_ab(ndigit, a, b)\n",
    "\n",
    "print(\"Result:\", result)"
   ]
  },
  {
   "cell_type": "code",
   "execution_count": null,
   "metadata": {},
   "outputs": [],
   "source": []
  }
 ],
 "metadata": {
  "kernelspec": {
   "display_name": "project-euler",
   "language": "python",
   "name": "python3"
  },
  "language_info": {
   "codemirror_mode": {
    "name": "ipython",
    "version": 3
   },
   "file_extension": ".py",
   "mimetype": "text/x-python",
   "name": "python",
   "nbconvert_exporter": "python",
   "pygments_lexer": "ipython3",
   "version": "3.12.2"
  }
 },
 "nbformat": 4,
 "nbformat_minor": 2
}
