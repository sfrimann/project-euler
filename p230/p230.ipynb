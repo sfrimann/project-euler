{
 "cells": [
  {
   "cell_type": "markdown",
   "metadata": {},
   "source": [
    "# Problem 230: Fibonacci Words\n",
    "\n",
    "For any two strings of digits, $A$ and $B$, we define $F_{A, B}$ to be the sequence $(A,B,AB,BAB,ABBAB,\\dots)$ in which each term is the concatenation of the previous two.\n",
    "\n",
    "Further, we define $D_{A, B}(n)$ to be the $n$<sup>th</sup> digit in the first term of $F_{A, B}$ that contains at least $n$ digits.\n",
    "\n",
    "Example:\n",
    "\n",
    "Let $A=1415926535$, $B=8979323846$. We wish to find $D_{A, B}(35)$, say.\n",
    "\n",
    "The first few terms of $F_{A, B}$ are:\\\n",
    "$1415926535$\\\n",
    "$8979323846$\\\n",
    "$14159265358979323846$\\\n",
    "$897932384614159265358979323846$\\\n",
    "$1415926535897932384689793238461415{\\color{red}\\mathbf 9}265358979323846$\n",
    "\n",
    "Then $D_{A, B}(35)$ is the $35$<sup>th</sup> digit in the fifth term, which is $9$.\n",
    "\n",
    "Now we use for $A$ the first $100$ digits of $\\pi$ behind the decimal point:\n",
    "$14159265358979323846264338327950288419716939937510$\\\n",
    "$58209749445923078164062862089986280348253421170679$\n",
    "\n",
    "and for $B$ the next hundred digits:\n",
    "\n",
    "$82148086513282306647093844609550582231725359408128$\\\n",
    "$48111745028410270193852110555964462294895493038196$.\n",
    "\n",
    "Find $\\sum_{n = 0}^{17} 10^n \\times D_{A,B}((127+19n) \\times 7^n)$."
   ]
  },
  {
   "cell_type": "markdown",
   "metadata": {},
   "source": []
  }
 ],
 "metadata": {
  "language_info": {
   "name": "python"
  }
 },
 "nbformat": 4,
 "nbformat_minor": 2
}
