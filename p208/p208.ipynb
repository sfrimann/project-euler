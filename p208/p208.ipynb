{
 "cells": [
  {
   "cell_type": "markdown",
   "metadata": {},
   "source": [
    "# Problem 208: Robot Walks\n",
    "\n",
    "A robot moves in a series of one-fifth circular arcs ($72^\\circ$), with a free choice of a clockwise or an anticlockwise arc for each step, but no turning on the spot.\n",
    "\n",
    "One of $70932$ possible closed paths of $25$ arcs starting northward is\n",
    "\n",
    "![](./0208_robotwalk.gif)\n",
    "\n",
    "Given that the robot starts facing North, how many journeys of $70$ arcs in length can it take that return it, after the final arc, to its starting position?\\\n",
    "(Any arc may be traversed multiple times.) \n"
   ]
  },
  {
   "cell_type": "code",
   "execution_count": null,
   "metadata": {},
   "outputs": [],
   "source": []
  },
  {
   "cell_type": "code",
   "execution_count": null,
   "metadata": {},
   "outputs": [],
   "source": []
  }
 ],
 "metadata": {
  "kernelspec": {
   "display_name": "project-euler",
   "language": "python",
   "name": "python3"
  },
  "language_info": {
   "name": "python",
   "version": "3.12.2"
  }
 },
 "nbformat": 4,
 "nbformat_minor": 2
}
