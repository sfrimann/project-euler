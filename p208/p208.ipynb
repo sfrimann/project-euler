{
 "cells": [
  {
   "cell_type": "markdown",
   "metadata": {},
   "source": [
    "# Problem 208: Robot Walks\n",
    "\n",
    "A robot moves in a series of one-fifth circular arcs ($72^\\circ$), with a free choice of a clockwise or an anticlockwise arc for each step, but no turning on the spot.\n",
    "\n",
    "One of $70932$ possible closed paths of $25$ arcs starting northward is\n",
    "\n",
    "![](./0208_robotwalk.gif)\n",
    "\n",
    "Given that the robot starts facing North, how many journeys of $70$ arcs in length can it take that return it, after the final arc, to its starting position?\\\n",
    "(Any arc may be traversed multiple times.) \n"
   ]
  },
  {
   "cell_type": "code",
   "execution_count": 61,
   "metadata": {},
   "outputs": [
    {
     "name": "stdout",
     "output_type": "stream",
     "text": [
      "one left circle = 1\n",
      "no complete circle = 0\n",
      "two left circles = 1\n",
      "one of each circle = 10\n"
     ]
    }
   ],
   "source": [
    "import functools\n",
    "\n",
    "\n",
    "@functools.cache\n",
    "def num_path(arc: str, l1: int, l2: int, l3: int, l4: int, l5: int, r1: int, r2: int, r3: int, r4: int, r5: int) -> int:\n",
    "    args =  [l1, l2, l3, l4, l5, r1, r2, r3, r4, r5]\n",
    "    if any([x <0 for x in args]):\n",
    "        return 0\n",
    "    if all([x == 0 for x in args]):\n",
    "        return 1\n",
    "    match arc:\n",
    "        case \"\":\n",
    "            return num_path(\"l1\", l1-1, l2, l3, l4, l5, r1, r2, r3, r4, r5) + num_path(\"r1\", l1, l2, l3, l4, l5, r1-1, r2, r3, r4, r5)\n",
    "        case \"l1\":\n",
    "            return num_path(\"l2\", l1, l2-1, l3, l4, l5, r1, r2, r3, r4, r5) + num_path(\"r5\", l1, l2, l3, l4, l5, r1, r2, r3, r4, r5-1)\n",
    "        case \"l2\":\n",
    "            return num_path(\"l3\", l1, l2, l3-1, l4, l5, r1, r2, r3, r4, r5) + num_path(\"r4\", l1, l2, l3, l4, l5, r1, r2, r3, r4-1, r5)\n",
    "        case \"l3\":\n",
    "            return num_path(\"l4\", l1, l2, l3, l4-1, l5, r1, r2, r3, r4, r5) + num_path(\"r3\", l1, l2, l3, l4, l5, r1, r2, r3-1, r4, r5)\n",
    "        case \"l4\":\n",
    "            return num_path(\"l5\", l1, l2, l3, l4, l5-1, r1, r2, r3, r4, r5) + num_path(\"r2\", l1, l2, l3, l4, l5, r1, r2-1, r3, r4, r5)\n",
    "        case \"l5\":\n",
    "            return num_path(\"l1\", l1-1, l2, l3, l4, l5, r1, r2, r3, r4, r5) + num_path(\"r1\", l1, l2, l3, l4, l5, r1-1, r2, r3, r4, r5)\n",
    "        case \"r1\":\n",
    "            return num_path(\"l5\", l1, l2, l3, l4, l5-1, r1, r2, r3, r4, r5) + num_path(\"r2\", l1, l2, l3, l4, l5, r1, r2-1, r3, r4, r5)\n",
    "        case \"r2\":\n",
    "            return num_path(\"l4\", l1, l2, l3, l4-1, l5, r1, r2, r3, r4, r5) + num_path(\"r3\", l1, l2, l3, l4, l5, r1, r2, r3-1, r4, r5)\n",
    "        case \"r3\":\n",
    "            return num_path(\"l3\", l1, l2, l3-1, l4, l5, r1, r2, r3, r4, r5) + num_path(\"r4\", l1, l2, l3, l4, l5, r1, r2, r3, r4-1, r5)\n",
    "        case \"r4\":\n",
    "            return num_path(\"l2\", l1, l2-1, l3, l4, l5, r1, r2, r3, r4, r5) + num_path(\"r5\", l1, l2, l3, l4, l5, r1, r2, r3, r4, r5-1)\n",
    "        case \"r5\":\n",
    "            return num_path(\"l1\", l1-1, l2, l3, l4, l5, r1, r2, r3, r4, r5) + num_path(\"r1\", l1, l2, l3, l4, l5, r1-1, r2, r3, r4, r5)\n",
    "\n",
    "# sanity checks\n",
    "print(\"one left circle =\", num_path(\"\", 1, 1, 1, 1, 1, 0, 0, 0, 0, 0))\n",
    "print(\"no complete circle =\", num_path(\"\", 1, 1, 0, 1, 1, 0, 0, 0, 0, 0))\n",
    "print(\"two left circles =\", num_path(\"\", 2, 2, 2, 2, 2, 0, 0, 0, 0, 0))\n",
    "print(\"one of each circle =\", num_path(\"\", 1, 1, 1, 1, 1, 1, 1, 1, 1, 1))"
   ]
  },
  {
   "cell_type": "code",
   "execution_count": 62,
   "metadata": {},
   "outputs": [
    {
     "name": "stdout",
     "output_type": "stream",
     "text": [
      "70932\n",
      "331951449665644800\n"
     ]
    }
   ],
   "source": [
    "def num_walks(num_arcs: int):\n",
    "    if num_arcs % 5 != 0:\n",
    "        return 0\n",
    "    num_circles = num_arcs // 5\n",
    "    _total = 0\n",
    "    for i in range(num_circles + 1):\n",
    "        lc = i # number of left circles\n",
    "        rc = num_circles - i # number of right circles\n",
    "        _total += num_path(\"\", lc, lc, lc, lc, lc, rc, rc, rc, rc, rc)\n",
    "    return _total\n",
    "\n",
    "\n",
    "num_path.cache_clear()\n",
    "print(num_walks(25))\n",
    "print(num_walks(70))"
   ]
  },
  {
   "cell_type": "code",
   "execution_count": null,
   "metadata": {},
   "outputs": [],
   "source": []
  }
 ],
 "metadata": {
  "kernelspec": {
   "display_name": "project-euler",
   "language": "python",
   "name": "python3"
  },
  "language_info": {
   "codemirror_mode": {
    "name": "ipython",
    "version": 3
   },
   "file_extension": ".py",
   "mimetype": "text/x-python",
   "name": "python",
   "nbconvert_exporter": "python",
   "pygments_lexer": "ipython3",
   "version": "3.12.2"
  }
 },
 "nbformat": 4,
 "nbformat_minor": 2
}
