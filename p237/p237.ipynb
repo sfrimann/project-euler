{
 "cells": [
  {
   "cell_type": "markdown",
   "metadata": {},
   "source": [
    "# Problem 237: Tours on a $4 \\times N$ Playing Board\n",
    "\n",
    "Let $T(n)$ be the number of tours over a $4 \\times n$ playing board such that:\n",
    "\n",
    "<ul><li>The tour starts in the top left corner.</li>\n",
    "<li>The tour consists of moves that are up, down, left, or right one square.</li>\n",
    "<li>The tour visits each square exactly once.</li>\n",
    "<li>The tour ends in the bottom left corner.</li>\n",
    "</ul>\n",
    "\n",
    "The diagram shows one tour over a $4 \\times 10$ board:\n",
    "\n",
    "<div class=\"center\">\n",
    "<img src=\"./0237.gif?1678992055\" class=\"dark_img\" alt=\"\"></div>\n",
    "\n",
    "$T(10)$ is $2329$. What is $T(10^{12})$ modulo $10^8$?"
   ]
  },
  {
   "cell_type": "markdown",
   "metadata": {},
   "source": []
  }
 ],
 "metadata": {
  "language_info": {
   "name": "python"
  }
 },
 "nbformat": 4,
 "nbformat_minor": 2
}
