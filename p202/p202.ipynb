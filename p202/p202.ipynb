{
 "cells": [
  {
   "cell_type": "markdown",
   "metadata": {},
   "source": [
    "# Problem 202: Laserbeam\n",
    "\n",
    "Three mirrors are arranged in the shape of an equilateral triangle, with their reflective surfaces pointing inwards. There is an infinitesimal gap at each vertex of the triangle through which a laser beam may pass.\n",
    "\n",
    "Label the vertices $A$, $B$ and $C$. There are $2$ ways in which a laser beam may enter vertex $C$, bounce off $11$ surfaces, then exit through the same vertex: one way is shown below; the other is the reverse of that.\n",
    "\n",
    "![](./0202_laserbeam.gif)\n",
    "\n",
    "There are $80840$ ways in which a laser beam may enter vertex $C$, bounce off $1000001$ surfaces, then exit through the same vertex.\n",
    "\n",
    "In how many ways can a laser beam enter at vertex $C$, bounce off $12017639147$ surfaces, then exit through the same vertex?"
   ]
  },
  {
   "cell_type": "markdown",
   "metadata": {},
   "source": [
    "## Description\n",
    "\n",
    "The problem is equivalent to forming an infinite grid of triangles and finding lines between vertices in such a way that the line does not intersect any other vertex. The number of bounces is equal to the number of triangle walls the line cross.\n",
    "\n",
    "To make calculations simpler, we can construct a coordinate system such that each vertex correspond to an integer coordinate. Specifically:\n",
    "\n",
    "Each point in the grid corresponding to the vertex point $C$ has coordinates $(x, y)$\n",
    "\n",
    "$$(i, 3n - (x \\mod 3))$$\n",
    "\n",
    "A line between $(0, 0)$ and $(x, y)$ passes through no other lattice points (vertices) if x and y are co prime. The number of intersections (bounces) with triangle walls is equal to\n",
    "\n",
    "$$N_\\mathrm{bounce} = 1 + 2(y-2).$$\n",
    "\n",
    "Finally, the search can be restricted to areas where $x>0$ and $y>2x$. This will miss symmetric solutions, but these can be solved by simply multiplying the number of found paths with two."
   ]
  },
  {
   "cell_type": "code",
   "execution_count": 4,
   "metadata": {},
   "outputs": [],
   "source": [
    "from itertools import count\n",
    "from math import gcd\n",
    "\n",
    "\n",
    "def num_paths(n_bounce: int) -> int:\n",
    "    if n_bounce % 2 == 0:\n",
    "        return 0\n",
    "    num_solutions = 0\n",
    "    for x in count(1):\n",
    "        y = (n_bounce - 1) // 2 + 2\n",
    "        y_offset = x % 3\n",
    "        match (x, y):\n",
    "            case _ if y <= 2 * x:\n",
    "                break\n",
    "            case _ if (y + y_offset) % 3 == 0 and gcd(x, y) == 1:\n",
    "                num_solutions += 1\n",
    "    return 2 * num_solutions"
   ]
  },
  {
   "cell_type": "code",
   "execution_count": 5,
   "metadata": {},
   "outputs": [
    {
     "name": "stdout",
     "output_type": "stream",
     "text": [
      "2\n",
      "80840\n",
      "1209002624\n"
     ]
    }
   ],
   "source": [
    "print(num_paths(11))\n",
    "print(num_paths(1000001))\n",
    "print(num_paths(12017639147))"
   ]
  }
 ],
 "metadata": {
  "kernelspec": {
   "display_name": "project-euler",
   "language": "python",
   "name": "python3"
  },
  "language_info": {
   "codemirror_mode": {
    "name": "ipython",
    "version": 3
   },
   "file_extension": ".py",
   "mimetype": "text/x-python",
   "name": "python",
   "nbconvert_exporter": "python",
   "pygments_lexer": "ipython3",
   "version": "3.12.2"
  }
 },
 "nbformat": 4,
 "nbformat_minor": 2
}
