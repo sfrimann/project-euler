{
 "cells": [
  {
   "cell_type": "markdown",
   "metadata": {},
   "source": [
    "# Problem 211: Divisor Square Sum\n",
    "\n",
    "For a positive integer $n$, let $\\sigma_2(n)$ be the sum of the squares of its divisors. For example,\n",
    "\n",
    "$$\\sigma_2(10) = 1 + 4 + 25 + 100 = 130.$$\n",
    "\n",
    "Find the sum of all $n$, $0 \\lt n \\lt 64\\,000\\,000$ such that $\\sigma_2(n)$ is a perfect square."
   ]
  },
  {
   "cell_type": "markdown",
   "metadata": {},
   "source": []
  }
 ],
 "metadata": {
  "language_info": {
   "name": "python"
  }
 },
 "nbformat": 4,
 "nbformat_minor": 2
}
