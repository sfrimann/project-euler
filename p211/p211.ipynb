{
 "cells": [
  {
   "cell_type": "markdown",
   "metadata": {},
   "source": [
    "# Problem 211: Divisor Square Sum\n",
    "\n",
    "For a positive integer $n$, let $\\sigma_2(n)$ be the sum of the squares of its divisors. For example,\n",
    "\n",
    "$$\\sigma_2(10) = 1 + 4 + 25 + 100 = 130.$$\n",
    "\n",
    "Find the sum of all $n$, $0 \\lt n \\lt 64\\,000\\,000$ such that $\\sigma_2(n)$ is a perfect square."
   ]
  },
  {
   "cell_type": "code",
   "execution_count": 101,
   "metadata": {},
   "outputs": [
    {
     "name": "stdout",
     "output_type": "stream",
     "text": [
      "nmax = 100. Sum = 43\n",
      "nmax = 1000. Sum = 1304\n",
      "nmax = 10000. Sum = 36446\n",
      "nmax = 100000. Sum = 462294\n",
      "nmax = 1000000. Sum = 9890738\n",
      "nmax = 64000000. Sum = 1922364685\n"
     ]
    }
   ],
   "source": [
    "from math import sqrt\n",
    "from typing import Dict\n",
    "from sympy import sieve\n",
    "from itertools import count\n",
    "\n",
    "\n",
    "def solution(nmax: int):\n",
    "    sigma_2: Dict[int, int] = dict()\n",
    "    for prime in sieve.primerange(nmax):\n",
    "        _prev_sigma_2_prime_power = 1\n",
    "        for k in count(1):\n",
    "            prime_power = prime**k\n",
    "            if prime_power >= nmax:\n",
    "                break\n",
    "            sigma_2_prime_power = prime_power**2 + _prev_sigma_2_prime_power\n",
    "            sigma_2[prime_power] = sigma_2_prime_power\n",
    "            _prev_sigma_2_prime_power = sigma_2_prime_power\n",
    "\n",
    "            for composite in range(2, (nmax - 1) // prime_power + 1):\n",
    "                if composite not in sigma_2:\n",
    "                    continue\n",
    "                sigma_2[composite * prime_power] = (\n",
    "                    sigma_2_prime_power * sigma_2[composite]\n",
    "                )\n",
    "    sigma_2[1] = 1\n",
    "\n",
    "    max_s2 = int(sqrt(max(sigma_2.values())))\n",
    "    perfect_squares = set([s**2 for s in range(1, max_s2 + 1)])\n",
    "\n",
    "    _total = 0\n",
    "    for n, s2 in sigma_2.items():\n",
    "        if s2 in perfect_squares:\n",
    "            _total += n\n",
    "\n",
    "    print(f\"nmax = {nmax}. Sum = {_total}\")\n",
    "\n",
    "\n",
    "solution(10**2)\n",
    "solution(10**3)\n",
    "solution(10**4)\n",
    "solution(10**5)\n",
    "solution(10**6)\n",
    "solution(64000000)"
   ]
  }
 ],
 "metadata": {
  "kernelspec": {
   "display_name": "project-euler",
   "language": "python",
   "name": "python3"
  },
  "language_info": {
   "codemirror_mode": {
    "name": "ipython",
    "version": 3
   },
   "file_extension": ".py",
   "mimetype": "text/x-python",
   "name": "python",
   "nbconvert_exporter": "python",
   "pygments_lexer": "ipython3",
   "version": "3.12.2"
  }
 },
 "nbformat": 4,
 "nbformat_minor": 2
}
