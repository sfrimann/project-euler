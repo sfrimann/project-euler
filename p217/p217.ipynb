{
 "cells": [
  {
   "cell_type": "markdown",
   "metadata": {},
   "source": [
    "# Problem 217: Balanced Numbers\n",
    "\n",
    "A positive integer with $k$ (decimal) digits is called balanced if its first $\\lceil k/2 \\rceil$ digits sum to the same value as its last $\\lceil k/2 \\rceil$ digits, where $\\lceil x \\rceil$, pronounced <i>ceiling</i> of $x$, is the smallest integer $\\ge x$, thus $\\lceil \\pi \\rceil = 4$ and $\\lceil 5 \\rceil = 5$.\n",
    "\n",
    "So, for example, all palindromes are balanced, as is $13722$.\n",
    "\n",
    "Let $T(n)$ be the sum of all balanced numbers less than $10^n$.\\\n",
    "Thus: $T(1) = 45$, $T(2) = 540$ and $T(5) = 334795890$.\n",
    "\n",
    "Find $T(47) \\bmod 3^{15}$."
   ]
  },
  {
   "cell_type": "code",
   "execution_count": 1,
   "metadata": {},
   "outputs": [
    {
     "name": "stdout",
     "output_type": "stream",
     "text": [
      "Digits of 394002: [2, 0, 0, 4, 9, 3]\n",
      "Digit sum of 394002: 18\n",
      "is_balanced(5): True\n",
      "is_balanced(11): True\n",
      "is_balanced(141): True\n",
      "is_balanced(2314): True\n",
      "is_balanced(13722): True\n"
     ]
    }
   ],
   "source": [
    "# ith digit of n, indexed from the last digit\n",
    "from math import ceil, log10\n",
    "\n",
    "\n",
    "def d(n: int, i: int) -> int:\n",
    "    if n == 0:\n",
    "        return 0\n",
    "    return (n % 10 ** (i + 1) - n % 10**i) // 10**i\n",
    "\n",
    "\n",
    "def digit_sum(n: int) -> int:\n",
    "    if n == 0:\n",
    "        return 0\n",
    "    return sum([d(n, i) for i in range(int(log10(n)) + 1)])\n",
    "\n",
    "\n",
    "def is_balanced(n: int) -> bool:\n",
    "    num_digits = int(log10(n)) + 1\n",
    "    _part1 = 0\n",
    "    _part2 = 0\n",
    "    for i in range(num_digits):\n",
    "        digit = d(n, i)\n",
    "        _part1 += digit if i <= ceil(num_digits // 2) - 1 else 0\n",
    "        _part2 += digit if i >= num_digits - ceil(num_digits // 2) else 0\n",
    "\n",
    "    return _part1 == _part2\n",
    "\n",
    "\n",
    "# sanity check\n",
    "print(\"Digits of 394002:\", [d(394002, i) for i in range(6)])\n",
    "print(\"Digit sum of 394002:\", digit_sum(394002))\n",
    "print(\"is_balanced(5):\", is_balanced(5))\n",
    "print(\"is_balanced(11):\", is_balanced(11))\n",
    "print(\"is_balanced(141):\", is_balanced(141))\n",
    "print(\"is_balanced(2314):\", is_balanced(2314))\n",
    "print(\"is_balanced(13722):\", is_balanced(13722))"
   ]
  },
  {
   "cell_type": "code",
   "execution_count": 2,
   "metadata": {},
   "outputs": [
    {
     "name": "stdout",
     "output_type": "stream",
     "text": [
      "T_bf(1) =  45\n",
      "T_bf(2) =  540\n",
      "T_bf(3) =  50040\n",
      "T_bf(4) =  3364890\n",
      "T_bf(5) =  334795890\n",
      "T_bf(6) =  27671338200\n"
     ]
    }
   ],
   "source": [
    "# sum of all balanced number < 10**n (brute force)\n",
    "def T_bf(n: int) -> int:\n",
    "    _total = 0\n",
    "    for _n in range(1, 10**n):\n",
    "        if is_balanced(_n):\n",
    "            _total += _n\n",
    "    return _total\n",
    "\n",
    "\n",
    "print(\"T_bf(1) = \", T_bf(1))\n",
    "print(\"T_bf(2) = \", T_bf(2))\n",
    "print(\"T_bf(3) = \", T_bf(3))\n",
    "print(\"T_bf(4) = \", T_bf(4))\n",
    "print(\"T_bf(5) = \", T_bf(5))\n",
    "print(\"T_bf(6) = \", T_bf(6))"
   ]
  },
  {
   "cell_type": "code",
   "execution_count": 3,
   "metadata": {},
   "outputs": [
    {
     "name": "stdout",
     "output_type": "stream",
     "text": [
      "bf_s(1, 1) 1\n",
      "bf_s(8, 1) 8\n",
      "bf_s(2, 2) 33\n",
      "bf_s(2, 5) 66666\n",
      "bf_s(3, 3) 1110\n"
     ]
    }
   ],
   "source": [
    "# sum of all numbers < 10**dmax where the digits sum to sdigit (brute foce)\n",
    "def bf_s(sdigit: int, dmax: int) -> int:\n",
    "    if 0 < sdigit <= 9 * dmax:\n",
    "        return sum([n for n in range(1, 10**dmax) if digit_sum(n) == sdigit])\n",
    "    else:\n",
    "        return 0\n",
    "\n",
    "\n",
    "print(\"bf_s(1, 1)\", bf_s(1, 1))\n",
    "print(\"bf_s(8, 1)\", bf_s(8, 1))\n",
    "print(\"bf_s(2, 2)\", bf_s(2, 2))\n",
    "print(\"bf_s(2, 5)\", bf_s(2, 5))\n",
    "print(\"bf_s(3, 3)\", bf_s(3, 3))"
   ]
  },
  {
   "cell_type": "code",
   "execution_count": 4,
   "metadata": {},
   "outputs": [
    {
     "name": "stdout",
     "output_type": "stream",
     "text": [
      "s(1, 1) (1, 1)\n",
      "s(8, 1) (1, 8)\n",
      "s(2, 2) (3, 33)\n",
      "s(2, 5) (15, 66666)\n",
      "s(3, 3) (10, 1110)\n",
      "s(100, 20) (2295217152050316613, 127512064002795367387613768248860935215)\n"
     ]
    }
   ],
   "source": [
    "from functools import cache\n",
    "from typing import Tuple\n",
    "\n",
    "\n",
    "# sum of all numbers < 10**dmax where the digits sum to sdigit\n",
    "# also returns how many integers make up the sum\n",
    "@cache\n",
    "def s(sdigit: int, ndigit: int) -> Tuple[int, int]:\n",
    "    if ndigit == 0:\n",
    "        return 1, 0\n",
    "    _multiplicity, _sum = 0, 0\n",
    "    for digit in range(10):\n",
    "        match sdigit - digit:\n",
    "            case ds if ds > 0 and ndigit - 1 == 0:\n",
    "                continue\n",
    "            case ds if ds >= 0:\n",
    "                _m, _s = s(sdigit - digit, ndigit - 1)\n",
    "                _sum += _m * digit * 10 ** (ndigit - 1) + _s\n",
    "                _multiplicity += _m\n",
    "    return _multiplicity, _sum\n",
    "\n",
    "\n",
    "s.cache_clear()\n",
    "print(\"s(1, 1)\", s(1, 1))\n",
    "print(\"s(8, 1)\", s(8, 1))\n",
    "print(\"s(2, 2)\", s(2, 2))\n",
    "print(\"s(2, 5)\", s(2, 5))\n",
    "print(\"s(3, 3)\", s(3, 3))\n",
    "print(\"s(100, 20)\", s(100, 20))"
   ]
  },
  {
   "cell_type": "code",
   "execution_count": 5,
   "metadata": {},
   "outputs": [
    {
     "name": "stdout",
     "output_type": "stream",
     "text": [
      "T(1) =  45\n",
      "T(2) =  540\n",
      "T(3) =  50040\n",
      "T(4) =  3364890\n",
      "T(5) =  334795890\n",
      "T(6) =  27671338200\n",
      "T(47) =  102046816840408378801546174937467503924727519749183651680790418160257686837140983269435948860\n",
      "T(47) mod 3**15 =  6273134\n"
     ]
    }
   ],
   "source": [
    "# sum of all balanced numbers with ndigit digits\n",
    "def t(ndigit: int) -> int:\n",
    "    if ndigit == 1:\n",
    "        return 45\n",
    "    _ndigit = ndigit // 2\n",
    "    _total = 0\n",
    "    for _digit_sum in range(1, 9 * _ndigit + 1):\n",
    "        m_post, s_post = s(_digit_sum, _ndigit)\n",
    "        (_m, _s) = s(_digit_sum, _ndigit - 1) if _ndigit > 1 else (0, 0)\n",
    "        m_pre, s_pre = m_post - _m, s_post - _s\n",
    "        if ndigit % 2 == 0:\n",
    "            _total += m_post * 10**_ndigit * s_pre + m_pre * s_post\n",
    "        else:\n",
    "            _total += (\n",
    "                m_post * 10**_ndigit * (100 * s_pre + m_pre * 45) + 10 * m_pre * s_post\n",
    "            )\n",
    "    return _total\n",
    "\n",
    "\n",
    "def T(dmax: int) -> int:\n",
    "    return sum([t(_d) for _d in range(1, dmax + 1)])\n",
    "\n",
    "\n",
    "# sanity checks\n",
    "print(\"T(1) = \", T(1))\n",
    "print(\"T(2) = \", T(2))\n",
    "print(\"T(3) = \", T(3))\n",
    "print(\"T(4) = \", T(4))\n",
    "print(\"T(5) = \", T(5))\n",
    "print(\"T(6) = \", T(6))\n",
    "print(\"T(47) = \", T(47))\n",
    "print(\"T(47) mod 3**15 = \", T(47) % pow(3, 15))"
   ]
  }
 ],
 "metadata": {
  "kernelspec": {
   "display_name": "project-euler",
   "language": "python",
   "name": "python3"
  },
  "language_info": {
   "codemirror_mode": {
    "name": "ipython",
    "version": 3
   },
   "file_extension": ".py",
   "mimetype": "text/x-python",
   "name": "python",
   "nbconvert_exporter": "python",
   "pygments_lexer": "ipython3",
   "version": "3.12.2"
  }
 },
 "nbformat": 4,
 "nbformat_minor": 2
}
