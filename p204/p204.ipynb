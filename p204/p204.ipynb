{
 "cells": [
  {
   "cell_type": "markdown",
   "metadata": {},
   "source": [
    "# Problem 204: Generalised Hamming Numbers\n",
    "\n",
    "A Hamming number is a positive number which has no prime factor larger than $5$.\\\n",
    "So the first few Hamming numbers are $1, 2, 3, 4, 5, 6, 8, 9, 10, 12, 15$.\\\n",
    "There are $1105$ Hamming numbers not exceeding $10^8$.\n",
    "\n",
    "We will call a positive number a generalised Hamming number of type $n$, if it has no prime factor larger than $n$.\\\n",
    "Hence the Hamming numbers are the generalised Hamming numbers of type $5$.\n",
    "\n",
    "How many generalised Hamming numbers of type $100$ are there which don't exceed $10^9$?"
   ]
  },
  {
   "cell_type": "markdown",
   "metadata": {},
   "source": []
  }
 ],
 "metadata": {
  "kernelspec": {
   "display_name": "project-euler",
   "language": "python",
   "name": "python3"
  },
  "language_info": {
   "name": "python",
   "version": "3.12.2"
  }
 },
 "nbformat": 4,
 "nbformat_minor": 2
}
