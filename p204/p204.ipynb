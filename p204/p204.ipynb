{
 "cells": [
  {
   "cell_type": "markdown",
   "metadata": {},
   "source": [
    "# Problem 204: Generalised Hamming Numbers\n",
    "\n",
    "A Hamming number is a positive number which has no prime factor larger than $5$.\\\n",
    "So the first few Hamming numbers are $1, 2, 3, 4, 5, 6, 8, 9, 10, 12, 15$.\\\n",
    "There are $1105$ Hamming numbers not exceeding $10^8$.\n",
    "\n",
    "We will call a positive number a generalised Hamming number of type $n$, if it has no prime factor larger than $n$.\\\n",
    "Hence the Hamming numbers are the generalised Hamming numbers of type $5$.\n",
    "\n",
    "How many generalised Hamming numbers of type $100$ are there which don't exceed $10^9$?"
   ]
  },
  {
   "cell_type": "code",
   "execution_count": 42,
   "metadata": {},
   "outputs": [
    {
     "name": "stdout",
     "output_type": "stream",
     "text": [
      "limit = 5, k = 5: 5\n",
      "limit = 10**8, k = 5: 1105\n",
      "limit = 10**9, k = 100: 2944730\n"
     ]
    }
   ],
   "source": [
    "import functools\n",
    "from itertools import count\n",
    "\n",
    "from sympy import prevprime\n",
    "\n",
    "\n",
    "@functools.cache\n",
    "def num_k_smooth(limit: int, k: int) -> int:\n",
    "    if k < 2:\n",
    "        return 1\n",
    "    p = prevprime(k + 1)\n",
    "    _count = num_k_smooth(limit, p - 1)\n",
    "    for n in count(1):\n",
    "        if p**n > limit:\n",
    "            break\n",
    "        _count += num_k_smooth(limit // p**n, p - 1)\n",
    "    return _count\n",
    "\n",
    "\n",
    "num_k_smooth.cache_clear()\n",
    "print(\"limit = 5, k = 5:\", num_k_smooth(5, 5))\n",
    "print(\"limit = 10**8, k = 5:\", num_k_smooth(10**8, 5))\n",
    "print(\"limit = 10**9, k = 100:\", num_k_smooth(10**9, 100))"
   ]
  }
 ],
 "metadata": {
  "kernelspec": {
   "display_name": "project-euler",
   "language": "python",
   "name": "python3"
  },
  "language_info": {
   "codemirror_mode": {
    "name": "ipython",
    "version": 3
   },
   "file_extension": ".py",
   "mimetype": "text/x-python",
   "name": "python",
   "nbconvert_exporter": "python",
   "pygments_lexer": "ipython3",
   "version": "3.12.2"
  }
 },
 "nbformat": 4,
 "nbformat_minor": 2
}
