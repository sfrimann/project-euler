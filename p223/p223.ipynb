{
 "cells": [
  {
   "cell_type": "markdown",
   "metadata": {},
   "source": [
    "# Problem 223: Almost Right-angled Triangles I\n",
    "\n",
    "Let us call an integer sided triangle with sides $a \\le b \\le c$ <dfn>barely acute</dfn> if the sides satisfy $a^2 + b^2 = c^2 + 1$.\n",
    "\n",
    "How many barely acute triangles are there with perimeter $\\le 25\\,000\\,000$?"
   ]
  },
  {
   "cell_type": "code",
   "execution_count": 28,
   "metadata": {},
   "outputs": [
    {
     "name": "stdout",
     "output_type": "stream",
     "text": [
      "167\n"
     ]
    }
   ],
   "source": [
    "# brute force\n",
    "\n",
    "from math import isqrt\n",
    "\n",
    "pmax = 2 * 10**2\n",
    "\n",
    "ntriple = 0\n",
    "for a in range(1, pmax // 2 + 1):\n",
    "    for b in range(a, pmax // 2 + 1):\n",
    "        c2 = a**2 + b**2 - 1\n",
    "        c = isqrt(c2)\n",
    "        if a + b + c > pmax:\n",
    "            break\n",
    "        if c2 == c * c:\n",
    "            ntriple += 1\n",
    "print(ntriple)"
   ]
  },
  {
   "cell_type": "code",
   "execution_count": 23,
   "metadata": {},
   "outputs": [],
   "source": [
    "from typing import Tuple\n",
    "\n",
    "\n",
    "# generating an apt from two co prime integers according to https://aperiodical.com/2021/07/the-hunt-for-almost-pythagorean-triples/\n",
    "def apt(s: int, t: int) -> Tuple[int, int, int]:\n",
    "    sp = pow(s, -1, t)\n",
    "    tp = pow(-t, -1, s)\n",
    "\n",
    "    a = s * t - sp * tp\n",
    "    b = s * sp + t * tp\n",
    "    c = s * t + sp * tp\n",
    "    if a > b:\n",
    "        return b, a, c\n",
    "    else:\n",
    "        return a, b, c"
   ]
  },
  {
   "cell_type": "code",
   "execution_count": 59,
   "metadata": {},
   "outputs": [],
   "source": [
    "# generates all odd even co primes (if seeded on m=2, n=1) and all odd-odd co primes (if seeded on m=3, n=1) for m*n < cmax\n",
    "def co_primes(m: int, n: int, cmax: int):\n",
    "    stack = [(m, n)]\n",
    "    while stack:\n",
    "        m, n = stack.pop()\n",
    "        if m * n < cmax:\n",
    "            yield (m, n)\n",
    "            stack.append((2 * m - n, m))\n",
    "            stack.append((2 * m + n, m))\n",
    "            stack.append((m + 2 * n, n))"
   ]
  },
  {
   "cell_type": "code",
   "execution_count": 69,
   "metadata": {},
   "outputs": [
    {
     "name": "stdout",
     "output_type": "stream",
     "text": [
      "61614848\n"
     ]
    }
   ],
   "source": [
    "pmax = 25 * 10**6\n",
    "\n",
    "apts = set((1, 1, 1))\n",
    "\n",
    "for m, n in co_primes(2, 1, pmax):\n",
    "    if n != 1:\n",
    "        a, b, c = apt(m, n)\n",
    "        if a + b + c <= pmax:\n",
    "            apts.add((a, b, c))\n",
    "    if m != 1:\n",
    "        a, b, c = apt(n, m)\n",
    "        if a + b + c <= pmax:\n",
    "            apts.add((a, b, c))\n",
    "\n",
    "for m, n in co_primes(3, 1, pmax):\n",
    "    if n != 1:\n",
    "        a, b, c = apt(m, n)\n",
    "        if a + b + c <= pmax:\n",
    "            apts.add((a, b, c))\n",
    "    if m != 1:\n",
    "        a, b, c = apt(n, m)\n",
    "        if a + b + c <= pmax:\n",
    "            apts.add((a, b, c))\n",
    "\n",
    "print(len(apts))"
   ]
  },
  {
   "cell_type": "markdown",
   "metadata": {},
   "source": [
    "## Updated method\n",
    "\n",
    "From https://mathworld.wolfram.com/PythagoreanTriple.html one, can get primitive pythagorean triplets from any primitive triplet by multiplying by three matrices. It turns out this also works for triplets of the form $(a, b, c \\pm k)$. Thus one only have to identify the appropritate base triplets and iterate from there.\n",
    "\n",
    "Note that if $a=b$ a duplicate pair is created, hence the condition"
   ]
  },
  {
   "cell_type": "code",
   "execution_count": 19,
   "metadata": {},
   "outputs": [],
   "source": [
    "def pythagorean_triplet(a: int, b: int, c: int, pmax: int):\n",
    "    stack = [(a, b, c)]\n",
    "    while stack:\n",
    "        a, b, c = stack.pop()\n",
    "        if a+b+c <= pmax:\n",
    "            yield (a, b, c)\n",
    "            stack.append((2 * c + b - 2 * a, 2 * c + 2 * b - a, 3 * c + 2 * b - 2 * a))\n",
    "            stack.append((2 * c + b + 2 * a, 2 * c + 2 * b + a, 3 * c + 2 * b + 2 * a))\n",
    "            if a != b:\n",
    "                stack.append((2 * c - 2 * b + a, 2 * c - b + 2 * a, 3 * c - 2 * b + 2 * a))"
   ]
  },
  {
   "cell_type": "code",
   "execution_count": 27,
   "metadata": {},
   "outputs": [
    {
     "name": "stdout",
     "output_type": "stream",
     "text": [
      "61614848\n"
     ]
    }
   ],
   "source": [
    "from itertools import chain\n",
    "\n",
    "pmax = 25 * 10**6\n",
    "\n",
    "ntriple = 0\n",
    "for (a, b, c) in chain(pythagorean_triplet(1, 1, 1, pmax), pythagorean_triplet(1, 2, 2, pmax)):\n",
    "    ntriple += 1\n",
    "print(ntriple)"
   ]
  },
  {
   "cell_type": "code",
   "execution_count": null,
   "metadata": {},
   "outputs": [],
   "source": []
  }
 ],
 "metadata": {
  "kernelspec": {
   "display_name": "project-euler",
   "language": "python",
   "name": "python3"
  },
  "language_info": {
   "codemirror_mode": {
    "name": "ipython",
    "version": 3
   },
   "file_extension": ".py",
   "mimetype": "text/x-python",
   "name": "python",
   "nbconvert_exporter": "python",
   "pygments_lexer": "ipython3",
   "version": "3.12.2"
  }
 },
 "nbformat": 4,
 "nbformat_minor": 2
}
