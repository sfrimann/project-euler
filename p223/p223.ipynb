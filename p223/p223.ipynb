{
 "cells": [
  {
   "cell_type": "markdown",
   "metadata": {},
   "source": [
    "# Problem 223: Almost Right-angled Triangles I\n",
    "\n",
    "Let us call an integer sided triangle with sides $a \\le b \\le c$ <dfn>barely acute</dfn> if the sides satisfy $a^2 + b^2 = c^2 + 1$.\n",
    "\n",
    "How many barely acute triangles are there with perimeter $\\le 25\\,000\\,000$?"
   ]
  },
  {
   "cell_type": "markdown",
   "metadata": {},
   "source": []
  }
 ],
 "metadata": {
  "language_info": {
   "name": "python"
  }
 },
 "nbformat": 4,
 "nbformat_minor": 2
}
