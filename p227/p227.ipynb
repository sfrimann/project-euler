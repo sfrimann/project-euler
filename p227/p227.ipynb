{
 "cells": [
  {
   "cell_type": "markdown",
   "metadata": {},
   "source": [
    "# Problem 227: The Chase\n",
    "\n",
    "<dfn>The Chase</dfn> is a game played with two dice and an even number of players.\n",
    "\n",
    "The players sit around a table and the game begins with two opposite players having one die each. On each turn, the two players with a die roll it.\n",
    "\n",
    "If the player rolls 1, then the die passes to the neighbour on the left.\\\n",
    "If the player rolls 6, then the die passes to the neighbour on the right.\\\n",
    "Otherwise, the player keeps the die for the next turn.\n",
    "\n",
    "The game ends when one player has both dice after they have been rolled and passed; that player has then lost.\n",
    "\n",
    "In a game with 100 players, what is the expected number of turns the game lasts?\n",
    "Give your answer rounded to ten significant digits."
   ]
  },
  {
   "cell_type": "markdown",
   "metadata": {},
   "source": []
  }
 ],
 "metadata": {
  "language_info": {
   "name": "python"
  }
 },
 "nbformat": 4,
 "nbformat_minor": 2
}
