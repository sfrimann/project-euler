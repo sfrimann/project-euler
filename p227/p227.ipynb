{
 "cells": [
  {
   "cell_type": "markdown",
   "metadata": {},
   "source": [
    "# Problem 227: The Chase\n",
    "\n",
    "<dfn>The Chase</dfn> is a game played with two dice and an even number of players.\n",
    "\n",
    "The players sit around a table and the game begins with two opposite players having one die each. On each turn, the two players with a die roll it.\n",
    "\n",
    "If the player rolls 1, then the die passes to the neighbour on the left.\\\n",
    "If the player rolls 6, then the die passes to the neighbour on the right.\\\n",
    "Otherwise, the player keeps the die for the next turn.\n",
    "\n",
    "The game ends when one player has both dice after they have been rolled and passed; that player has then lost.\n",
    "\n",
    "In a game with 100 players, what is the expected number of turns the game lasts?\n",
    "Give your answer rounded to ten significant digits."
   ]
  },
  {
   "cell_type": "code",
   "execution_count": 104,
   "metadata": {},
   "outputs": [
    {
     "name": "stdout",
     "output_type": "stream",
     "text": [
      "expected_turns(100): 3780.618622\n"
     ]
    }
   ],
   "source": [
    "import numpy as np\n",
    "\n",
    "\n",
    "# transition matrix of probabilities of going from a state where the dice are i units apart to j units apart.\n",
    "# absorption state is i = 0 where the game ends\n",
    "# dmax is the max distance as is equal to half the number of players\n",
    "def transition_matrix(dmax: int):\n",
    "    _matrix = [[0.0 for j in range(dmax + 1)] for i in range(dmax + 1)]\n",
    "    for i in range(dmax + 1):\n",
    "        if i == 0:\n",
    "            _matrix[0][0] += 1\n",
    "        else:\n",
    "            _matrix[i][i] += 1 / 2\n",
    "            _matrix[i][abs(i - 1)] += 2 / 9\n",
    "            _matrix[i][abs(i - 2)] += 1 / 36\n",
    "            _matrix[i][min(2 * dmax - (i + 1), i + 1)] += 2 / 9\n",
    "            _matrix[i][min(2 * dmax - (i + 2), i + 2)] += 1 / 36\n",
    "\n",
    "    return np.array(_matrix)\n",
    "\n",
    "\n",
    "def expected_turns(nplayers: int) -> float:\n",
    "    if nplayers % 2 != 0:\n",
    "        raise ValueError(\"equal number of players required\")\n",
    "    _transition_matrix = transition_matrix(nplayers // 2)\n",
    "    _transition_matrix = _transition_matrix[1:, 1:]  # ignore absorption state\n",
    "    _tau = np.zeros(nplayers // 2)\n",
    "    _tau[-1] = 1  # beginning state\n",
    "    expected = np.dot(\n",
    "        _tau, np.linalg.inv(np.identity(nplayers // 2) - _transition_matrix)\n",
    "    )\n",
    "    return np.sum(expected)\n",
    "\n",
    "\n",
    "print(\"expected_turns(100):\", round(expected_turns(100), 6))"
   ]
  },
  {
   "cell_type": "code",
   "execution_count": null,
   "metadata": {},
   "outputs": [],
   "source": []
  }
 ],
 "metadata": {
  "kernelspec": {
   "display_name": "project-euler",
   "language": "python",
   "name": "python3"
  },
  "language_info": {
   "codemirror_mode": {
    "name": "ipython",
    "version": 3
   },
   "file_extension": ".py",
   "mimetype": "text/x-python",
   "name": "python",
   "nbconvert_exporter": "python",
   "pygments_lexer": "ipython3",
   "version": "3.12.2"
  }
 },
 "nbformat": 4,
 "nbformat_minor": 2
}
