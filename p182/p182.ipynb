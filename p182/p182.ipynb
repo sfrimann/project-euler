{
 "cells": [
  {
   "cell_type": "markdown",
   "metadata": {},
   "source": [
    "# Problem 182: RSA Encryption\n",
    "\n",
    "The RSA encryption is based on the following procedure:\n",
    "Generate two distinct primes $p$ and $q$.\n",
    "Compute $n = pq$ and $\\phi = (p - 1)(q - 1)$.\n",
    "Find an integer $e$, $1 \\lt e \\lt \\phi$, such that $\\gcd(e, \\phi) = 1$.\n",
    "\n",
    "A message in this system is a number in the interval $[0, n - 1]$.\n",
    "A text to be encrypted is then somehow converted to messages (numbers in the interval $[0, n - 1]$).\n",
    "To encrypt the text, for each message, $m$, $c = m^e \\bmod n$ is calculated.\n",
    "\n",
    "To decrypt the text, the following procedure is needed: calculate $d$ such that $ed = 1 \\bmod \\phi$, then for each encrypted message, $c$, calculate $m = c^d \\bmod n$.\n",
    "\n",
    "There exist values of $e$ and $m$ such that $m^e \\bmod n = m$.<br>We call messages $m$ for which $m^e \\bmod n = m$ unconcealed messages.\n",
    "\n",
    "An issue when choosing $e$ is that there should not be too many unconcealed messages.\n",
    "For instance, let $p = 19$ and $q = 37$.\n",
    "Then $n = 19 \\cdot 37 = 703$ and $\\phi = 18 \\cdot 36 = 648$.\n",
    "If we choose $e = 181$, then, although $\\gcd(181,648) = 1$ it turns out that all possible messages $m$ ($0 \\le m \\le n - 1$) are unconcealed when calculating $m^e \\bmod n$.\n",
    "For any valid choice of $e$ there exist some unconcealed messages.\n",
    "It's important that the number of unconcealed messages is at a minimum.\n",
    "\n",
    "Choose $p = 1009$ and $q = 3643$.\n",
    "Find the sum of all values of $e$, $1 \\lt e \\lt \\phi(1009,3643)$ and $\\gcd(e, \\phi) = 1$, so that the number of unconcealed messages for this value of $e$ is at a minimum."
   ]
  },
  {
   "cell_type": "code",
   "execution_count": 37,
   "metadata": {},
   "outputs": [],
   "source": [
    "from typing import Tuple\n",
    "\n",
    "\n",
    "def getConstants(p: int, q: int) -> Tuple[int, int, int, int]:\n",
    "    n = p * q\n",
    "    phi = (p - 1) * (q - 1)\n",
    "    emax = phi - 1\n",
    "    mmax = n - 1\n",
    "    return (n, phi, emax, mmax)"
   ]
  },
  {
   "cell_type": "code",
   "execution_count": 63,
   "metadata": {},
   "outputs": [
    {
     "name": "stdout",
     "output_type": "stream",
     "text": [
      "9\n"
     ]
    }
   ],
   "source": [
    "from math import gcd\n",
    "\n",
    "\n",
    "# https://math.stackexchange.com/questions/1298664/rsa-fixed-point\n",
    "# number of unconcealed messages for e\n",
    "def nFixedPoints(e: int, p: int, q: int) -> int:\n",
    "\n",
    "    if gcd(e, (p - 1) * (q - 1)) == 1:\n",
    "        return (1 + gcd(e - 1, p - 1)) * (1 + gcd(e - 1, q - 1))\n",
    "    else:\n",
    "        return -1\n",
    "\n",
    "\n",
    "print(nFixedPoints(11, 19, 37))"
   ]
  },
  {
   "cell_type": "code",
   "execution_count": 87,
   "metadata": {},
   "outputs": [
    {
     "name": "stdout",
     "output_type": "stream",
     "text": [
      "17766\n"
     ]
    }
   ],
   "source": [
    "from itertools import count\n",
    "from math import gcd\n",
    "\n",
    "# p = 1009\n",
    "# q = 3643\n",
    "\n",
    "p = 19\n",
    "q = 37\n",
    "\n",
    "n, phi, emax, mmax = getConstants(p, q)\n",
    "\n",
    "# brute force\n",
    "unconcealedMessages = dict()\n",
    "minUnconcealed = 9\n",
    "for e in range(2, emax + 1):\n",
    "    if gcd(e, phi) == 1:\n",
    "        numUnconcealed = 0\n",
    "        for m in range(mmax + 1):\n",
    "            if pow(m, e, n) == m:\n",
    "                numUnconcealed += 1\n",
    "        unconcealedMessages[e] = numUnconcealed\n",
    "counter = 0\n",
    "for _e, u in unconcealedMessages.items():\n",
    "    if u == minUnconcealed:\n",
    "        counter += _e\n",
    "print(counter)"
   ]
  },
  {
   "cell_type": "code",
   "execution_count": 89,
   "metadata": {},
   "outputs": [
    {
     "name": "stdout",
     "output_type": "stream",
     "text": [
      "399788195976\n"
     ]
    }
   ],
   "source": [
    "p = 1009\n",
    "q = 3643\n",
    "\n",
    "# p = 19\n",
    "# q = 37\n",
    "\n",
    "n, phi, emax, mmax = getConstants(p, q)\n",
    "\n",
    "counter = 0\n",
    "for e in range(2, emax + 1):\n",
    "    numUnconcealed = nFixedPoints(e, p, q)\n",
    "    if numUnconcealed == 9:  # minimum of unconcealed messages\n",
    "        counter += e\n",
    "print(counter)"
   ]
  }
 ],
 "metadata": {
  "kernelspec": {
   "display_name": "project-euler",
   "language": "python",
   "name": "python3"
  },
  "language_info": {
   "codemirror_mode": {
    "name": "ipython",
    "version": 3
   },
   "file_extension": ".py",
   "mimetype": "text/x-python",
   "name": "python",
   "nbconvert_exporter": "python",
   "pygments_lexer": "ipython3",
   "version": "3.12.2"
  }
 },
 "nbformat": 4,
 "nbformat_minor": 2
}
