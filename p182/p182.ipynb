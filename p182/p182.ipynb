{
 "cells": [
  {
   "cell_type": "markdown",
   "metadata": {},
   "source": [
    "# Problem 182: RSA Encryption\n",
    "\n",
    "The RSA encryption is based on the following procedure:\n",
    "Generate two distinct primes $p$ and $q$.\n",
    "Compute $n = pq$ and $\\phi = (p - 1)(q - 1)$.\n",
    "Find an integer $e$, $1 \\lt e \\lt \\phi$, such that $\\gcd(e, \\phi) = 1$.\n",
    "\n",
    "A message in this system is a number in the interval $[0, n - 1]$.\n",
    "A text to be encrypted is then somehow converted to messages (numbers in the interval $[0, n - 1]$).\n",
    "To encrypt the text, for each message, $m$, $c = m^e \\bmod n$ is calculated.\n",
    "\n",
    "To decrypt the text, the following procedure is needed: calculate $d$ such that $ed = 1 \\bmod \\phi$, then for each encrypted message, $c$, calculate $m = c^d \\bmod n$.\n",
    "\n",
    "There exist values of $e$ and $m$ such that $m^e \\bmod n = m$.<br>We call messages $m$ for which $m^e \\bmod n = m$ unconcealed messages.\n",
    "\n",
    "An issue when choosing $e$ is that there should not be too many unconcealed messages.\n",
    "For instance, let $p = 19$ and $q = 37$.\n",
    "Then $n = 19 \\cdot 37 = 703$ and $\\phi = 18 \\cdot 36 = 648$.\n",
    "If we choose $e = 181$, then, although $\\gcd(181,648) = 1$ it turns out that all possible messages $m$ ($0 \\le m \\le n - 1$) are unconcealed when calculating $m^e \\bmod n$.\n",
    "For any valid choice of $e$ there exist some unconcealed messages.\n",
    "It's important that the number of unconcealed messages is at a minimum.\n",
    "\n",
    "Choose $p = 1009$ and $q = 3643$.\n",
    "Find the sum of all values of $e$, $1 \\lt e \\lt \\phi(1009,3643)$ and $\\gcd(e, \\phi) = 1$, so that the number of unconcealed messages for this value of $e$ is at a minimum."
   ]
  },
  {
   "cell_type": "markdown",
   "metadata": {},
   "source": []
  }
 ],
 "metadata": {
  "language_info": {
   "name": "python"
  }
 },
 "nbformat": 4,
 "nbformat_minor": 2
}
