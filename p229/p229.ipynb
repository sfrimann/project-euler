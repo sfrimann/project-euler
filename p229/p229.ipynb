{
 "cells": [
  {
   "cell_type": "markdown",
   "metadata": {},
   "source": [
    "# Problem 229: Four Representations Using Squares\n",
    "\n",
    "Consider the number $3600$. It is very special, because\n",
    "\\begin{alignat}{2}\n",
    "3600 &= 48^2 + &&36^2\\\\\n",
    "3600 &= 20^2 + 2 \\times &&40^2\\\\\n",
    "3600 &= 30^2 + 3 \\times &&30^2\\\\\n",
    "3600 &= 45^2 + 7 \\times &&15^2\n",
    "\\end{alignat}\n",
    "\n",
    "Similarly, we find that $88201 = 99^2 + 280^2 = 287^2 + 2 \\times 54^2 = 283^2 + 3 \\times 52^2 = 197^2 + 7 \\times 84^2$.\n",
    "\n",
    "In 1747, Euler proved which numbers are representable as a sum of two squares.\n",
    "We are interested in the numbers $n$ which admit representations of all of the following four types:\n",
    "\\begin{alignat}{2}\n",
    "n &= a_1^2 + && b_1^2\\\\\n",
    "n &= a_2^2 + 2 && b_2^2\\\\\n",
    "n &= a_3^2 + 3 && b_3^2\\\\\n",
    "n &= a_7^2 + 7 && b_7^2,\n",
    "\\end{alignat}\n",
    "where the $a_k$ and $b_k$ are positive integers.\n",
    "\n",
    "There are $75373$ such numbers that do not exceed $10^7$.\\\n",
    "How many such numbers are there that do not exceed $2 \\times 10^9$?"
   ]
  },
  {
   "cell_type": "code",
   "execution_count": 95,
   "metadata": {},
   "outputs": [
    {
     "name": "stdout",
     "output_type": "stream",
     "text": [
      "7 241913631\n",
      "3 241913631\n",
      "2 241913631\n",
      "1 241913631\n",
      "11325263\n"
     ]
    }
   ],
   "source": [
    "from collections import defaultdict\n",
    "from math import isqrt\n",
    "\n",
    "\n",
    "nmax = 2 * 10**9\n",
    "\n",
    "squares = [n * n for n in range(1, isqrt(nmax) + 1)]\n",
    "\n",
    "n = defaultdict(int)\n",
    "\n",
    "for i, k in enumerate((7, 3, 2, 1)):\n",
    "    for s1 in squares:\n",
    "        if k * s1 > nmax:\n",
    "            break\n",
    "        s2_max = nmax - k * s1\n",
    "        for s2 in squares[: isqrt(s2_max)]:\n",
    "            _n = k * s1 + s2\n",
    "            if k == 7 or _n in n:\n",
    "                n[_n] |= 2**i  # bitwise or\n",
    "    print(k, len(n))\n",
    "\n",
    "print(sum([1 for _, v in n.items() if v == 15]))"
   ]
  }
 ],
 "metadata": {
  "kernelspec": {
   "display_name": "project-euler",
   "language": "python",
   "name": "python3"
  },
  "language_info": {
   "codemirror_mode": {
    "name": "ipython",
    "version": 3
   },
   "file_extension": ".py",
   "mimetype": "text/x-python",
   "name": "python",
   "nbconvert_exporter": "python",
   "pygments_lexer": "ipython3",
   "version": "3.12.2"
  }
 },
 "nbformat": 4,
 "nbformat_minor": 2
}
