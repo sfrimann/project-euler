{
 "cells": [
  {
   "cell_type": "markdown",
   "metadata": {},
   "source": [
    "# Problem 229: Four Representations Using Squares\n",
    "\n",
    "Consider the number $3600$. It is very special, because\n",
    "\\begin{alignat}{2}\n",
    "3600 &= 48^2 + &&36^2\\\\\n",
    "3600 &= 20^2 + 2 \\times &&40^2\\\\\n",
    "3600 &= 30^2 + 3 \\times &&30^2\\\\\n",
    "3600 &= 45^2 + 7 \\times &&15^2\n",
    "\\end{alignat}\n",
    "\n",
    "Similarly, we find that $88201 = 99^2 + 280^2 = 287^2 + 2 \\times 54^2 = 283^2 + 3 \\times 52^2 = 197^2 + 7 \\times 84^2$.\n",
    "\n",
    "In 1747, Euler proved which numbers are representable as a sum of two squares.\n",
    "We are interested in the numbers $n$ which admit representations of all of the following four types:\n",
    "\\begin{alignat}{2}\n",
    "n &= a_1^2 + && b_1^2\\\\\n",
    "n &= a_2^2 + 2 && b_2^2\\\\\n",
    "n &= a_3^2 + 3 && b_3^2\\\\\n",
    "n &= a_7^2 + 7 && b_7^2,\n",
    "\\end{alignat}\n",
    "where the $a_k$ and $b_k$ are positive integers.\n",
    "\n",
    "There are $75373$ such numbers that do not exceed $10^7$.\\\n",
    "\n",
    "How many such numbers are there that do not exceed $2 \\times 10^9$?"
   ]
  },
  {
   "cell_type": "markdown",
   "metadata": {},
   "source": []
  }
 ],
 "metadata": {
  "language_info": {
   "name": "python"
  }
 },
 "nbformat": 4,
 "nbformat_minor": 2
}
