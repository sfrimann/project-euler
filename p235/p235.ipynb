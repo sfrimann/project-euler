{
 "cells": [
  {
   "cell_type": "markdown",
   "metadata": {},
   "source": [
    "# Problem 235: An Arithmetic Geometric Sequence\n",
    "\n",
    "Given is the arithmetic-geometric sequence $u(k) = (900-3k)r^{k - 1}$.\\\n",
    "Let $s(n) = \\sum_{k = 1}^n u(k)$.\n",
    "\n",
    "Find the value of $r$ for which $s(5000) = -600\\,000\\,000\\,000$.\n",
    "\n",
    "Give your answer rounded to $12$ places behind the decimal point."
   ]
  },
  {
   "cell_type": "markdown",
   "metadata": {},
   "source": []
  }
 ],
 "metadata": {
  "language_info": {
   "name": "python"
  }
 },
 "nbformat": 4,
 "nbformat_minor": 2
}
