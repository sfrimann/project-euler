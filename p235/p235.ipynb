{
 "cells": [
  {
   "cell_type": "markdown",
   "metadata": {},
   "source": [
    "# Problem 235: An Arithmetic Geometric Sequence\n",
    "\n",
    "Given is the arithmetic-geometric sequence $u(k) = (900-3k)r^{k - 1}$.\\\n",
    "Let $s(n) = \\sum_{k = 1}^n u(k)$.\n",
    "\n",
    "Find the value of $r$ for which $s(5000) = -600\\,000\\,000\\,000$.\n",
    "\n",
    "Give your answer rounded to $12$ places behind the decimal point."
   ]
  },
  {
   "cell_type": "code",
   "execution_count": 41,
   "metadata": {},
   "outputs": [],
   "source": [
    "from fractions import Fraction\n",
    "\n",
    "\n",
    "def u(k: int, r: float) -> float:\n",
    "    return (900 - 3*k)*pow(r, k-1)\n",
    "\n",
    "def uprime(k: int, r: float) -> float:\n",
    "    return (900 - 3*k)*(k-1)*pow(r, k-2)\n",
    "\n",
    "def s(r: float, n: int = 5000) -> float:\n",
    "    print(r)\n",
    "    return sum(u(k, r) for k in range(1, n+1))\n",
    "\n",
    "def sprime(r: float, n: int = 5000) -> float:\n",
    "    return sum(uprime(k, r) for k in range(1, n+1))"
   ]
  },
  {
   "cell_type": "code",
   "execution_count": 68,
   "metadata": {},
   "outputs": [
    {
     "name": "stdout",
     "output_type": "stream",
     "text": [
      "1.00225\n",
      "1.0023355928829525\n",
      "1.0023225211900995\n",
      "1.0023221090268102\n",
      "1.0023221086328764\n",
      "Result: 1.002322108633\n"
     ]
    }
   ],
   "source": [
    "from scipy.optimize import root_scalar\n",
    "\n",
    "result = root_scalar(lambda r: s(r) + 6*10**11, x0=1.00225, fprime=sprime, xtol=1e-12)\n",
    "\n",
    "print(\"Result:\", round(result.root, 12))"
   ]
  }
 ],
 "metadata": {
  "kernelspec": {
   "display_name": "project-euler",
   "language": "python",
   "name": "python3"
  },
  "language_info": {
   "codemirror_mode": {
    "name": "ipython",
    "version": 3
   },
   "file_extension": ".py",
   "mimetype": "text/x-python",
   "name": "python",
   "nbconvert_exporter": "python",
   "pygments_lexer": "ipython3",
   "version": "3.12.2"
  }
 },
 "nbformat": 4,
 "nbformat_minor": 2
}
