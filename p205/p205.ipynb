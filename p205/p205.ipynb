{
 "cells": [
  {
   "cell_type": "markdown",
   "metadata": {},
   "source": [
    "# Problem 205: Dice Game\n",
    "\n",
    "Peter has nine four-sided (pyramidal) dice, each with faces numbered $1, 2, 3, 4$.\\\n",
    "Colin has six six-sided (cubic) dice, each with faces numbered $1, 2, 3, 4, 5, 6$.\n",
    "\n",
    "Peter and Colin roll their dice and compare totals: the highest total wins. The result is a draw if the totals are equal.\n",
    "\n",
    "What is the probability that Pyramidal Peter beats Cubic Colin? Give your answer rounded to seven decimal places in the form 0.abcdefg."
   ]
  },
  {
   "cell_type": "code",
   "execution_count": 16,
   "metadata": {},
   "outputs": [
    {
     "name": "stdout",
     "output_type": "stream",
     "text": [
      "0.5731441\n"
     ]
    }
   ],
   "source": [
    "from collections import defaultdict\n",
    "from itertools import product\n",
    "from math import prod\n",
    "from typing import List, Tuple\n",
    "\n",
    "\n",
    "def convolve(f: List[Tuple[int, float]], repeat: int) -> List[Tuple[int, float]]:\n",
    "    result = defaultdict(float)\n",
    "    for dist in product(f, repeat=repeat):\n",
    "        result[sum(map(lambda x: x[0], dist))] += prod(map(lambda x: x[1], dist))\n",
    "\n",
    "    return sorted(result.items())\n",
    "\n",
    "\n",
    "four_dice = [(_, 1 / 4) for _ in range(1, 5)]\n",
    "six_dice = [(_, 1 / 6) for _ in range(1, 7)]\n",
    "\n",
    "six_six_dice = convolve(six_dice, 6)\n",
    "nine_four_dice = convolve(four_dice, 9)\n",
    "\n",
    "result = 0\n",
    "for six_dice_sum, prob1 in six_six_dice:\n",
    "    for four_dice_sum, prob2 in nine_four_dice:\n",
    "        if four_dice_sum > six_dice_sum:\n",
    "            result += prob1 * prob2\n",
    "\n",
    "print(round(result, 7))"
   ]
  }
 ],
 "metadata": {
  "kernelspec": {
   "display_name": "project-euler",
   "language": "python",
   "name": "python3"
  },
  "language_info": {
   "codemirror_mode": {
    "name": "ipython",
    "version": 3
   },
   "file_extension": ".py",
   "mimetype": "text/x-python",
   "name": "python",
   "nbconvert_exporter": "python",
   "pygments_lexer": "ipython3",
   "version": "3.12.2"
  }
 },
 "nbformat": 4,
 "nbformat_minor": 2
}
