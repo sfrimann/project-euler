{
 "cells": [
  {
   "cell_type": "markdown",
   "metadata": {},
   "source": [
    "# Problem 209: Circular Logic\n",
    "\n",
    "A $k$-input <strong>binary truth table</strong> is a map from $k$ input bits (binary digits, $0$ [false] or $1$ [true]) to $1$ output bit. For example, the $2$-input binary truth tables for the logical $\\mathbin{\\text{AND}}$ and $\\mathbin{\\text{XOR}}$ functions are:\n",
    "\n",
    "<div style=\"float:left;margin:10px 50px;text-align:center;\">\n",
    "<table class=\"grid\"><tr><th style=\"width:50px;\">x</th>\n",
    "<th style=\"width:50px;\">y</th>\n",
    "<th>x AND y</th></tr>\n",
    "<tr><td align=\"center\">0</td><td align=\"center\">0</td><td align=\"center\">0</td></tr><tr><td align=\"center\">0</td><td align=\"center\">1</td><td align=\"center\">0</td></tr><tr><td align=\"center\">1</td><td align=\"center\">0</td><td align=\"center\">0</td></tr><tr><td align=\"center\">1</td><td align=\"center\">1</td><td align=\"center\">1</td></tr></table>\n",
    "</div>\n",
    "<div style=\"float:left;margin:10px 50px;text-align:center;\">\n",
    "<table class=\"grid\"><tr><th style=\"width:50px;\">x</th>\n",
    "<th style=\"width:50px;\">y</th>\n",
    "<th>x XOR y</th></tr>\n",
    "<tr><td align=\"center\">0</td><td align=\"center\">0</td><td align=\"center\">0</td></tr><tr><td align=\"center\">0</td><td align=\"center\">1</td><td align=\"center\">1</td></tr><tr><td align=\"center\">1</td><td align=\"center\">0</td><td align=\"center\">1</td></tr><tr><td align=\"center\">1</td><td align=\"center\">1</td><td align=\"center\">0</td></tr></table>\n",
    "</div>\n",
    "<br clear=\"all\">\n",
    "\n",
    "How many $6$-input binary truth tables, $\\tau$, satisfy the formula\n",
    "$$\\tau(a, b, c, d, e, f) \\mathbin{\\text{AND}} \\tau(b, c, d, e, f, a \\mathbin{\\text{XOR}} (b \\mathbin{\\text{AND}} c)) = 0$$\n",
    "for all $6$-bit inputs $(a, b, c, d, e, f)$?"
   ]
  },
  {
   "cell_type": "markdown",
   "metadata": {},
   "source": [
    "## Description\n",
    "\n",
    "If I have a truth table, $\\tau(a, b, c, d, e, f)$, then each bit combination is associated with a value in a truth table. Since there are $2^6 = 64$ possible bit combinations there are $2^{64} = 18,446,744,073,709,551,616$ possible truth tables.\n",
    "\n",
    "Each bit combination in $\\tau(a, b, c, d, e, f)$ maps to a different bit combination in $\\tau(b, c, d, e, f, a \\mathbin{\\text{XOR}} (b \\mathbin{\\text{AND}} c))$. E.g.\n",
    "\n",
    "$$(0, 0, 0, 1, 0, 1) \\rightarrow (0, 0, 1, 0, 1, 0)$$\n",
    "\n",
    "This means that the row in the $\\tau$ truth table corresponding to $(0, 0, 0, 1, 0, 1)$ and the row in the $\\tau$ truth table corresponding to $(0, 0, 1, 0, 1, 0)$ cannot both be $1$, or the \n",
    "\n",
    "$$\\tau(\\ldots) \\mathbin{\\text{AND}} \\tau(\\ldots) = 0$$ \n",
    "\n",
    "conditions will be violated.\n",
    "\n",
    "## Attempt 1: Recursive algorithm\n",
    "\n",
    "The basis for the attack will be a recursive algorithm that will try to build truth tables without contradictions, and will terminate if a contraditrary state is reached. This way, I can avoid searching through all $2^{64}$ states."
   ]
  },
  {
   "cell_type": "code",
   "execution_count": 21,
   "metadata": {},
   "outputs": [],
   "source": [
    "from typing import List\n",
    "from itertools import product\n",
    "\n",
    "\n",
    "def bit_list_to_decimal(bits: List[int]) -> int:\n",
    "    return int(\"\".join(map(str, bits)), base=2)\n",
    "\n",
    "\n",
    "# two bit case\n",
    "two_bit_table_map = []\n",
    "for a, b in product([0, 1], repeat=2):\n",
    "    two_bit_table_map.append(bit_list_to_decimal([b, a ^ b]))\n",
    "\n",
    "# three bit case\n",
    "three_bit_table_map = []\n",
    "for a, b, c in product([0, 1], repeat=3):\n",
    "    three_bit_table_map.append(bit_list_to_decimal([b, c, a ^ (b and c)]))\n",
    "\n",
    "# four bit case\n",
    "four_bit_table_map = []\n",
    "for a, b, c, d in product([0, 1], repeat=4):\n",
    "    four_bit_table_map.append(bit_list_to_decimal([b, c, d, a ^ (b and c)]))\n",
    "\n",
    "# five bit case\n",
    "five_bit_table_map = []\n",
    "for a, b, c, d, e in product([0, 1], repeat=5):\n",
    "    five_bit_table_map.append(bit_list_to_decimal([b, c, d, e, a ^ (b and c)]))\n",
    "\n",
    "# six bit case\n",
    "six_bit_table_map = []\n",
    "for a, b, c, d, e, f in product([0, 1], repeat=6):\n",
    "    six_bit_table_map.append(bit_list_to_decimal([b, c, d, e, f, a ^ (b and c)]))"
   ]
  },
  {
   "cell_type": "code",
   "execution_count": 28,
   "metadata": {},
   "outputs": [],
   "source": [
    "from typing import Tuple\n",
    "\n",
    "\n",
    "def num_truth_tables(tt_map: List[int], print_output=True) -> Tuple[int, int]:\n",
    "    def _num_truth_tables(truth_table: List[int] = None) -> Tuple[int, int]:\n",
    "        truth_table = [] if truth_table is None else truth_table\n",
    "\n",
    "        for i in range(len(truth_table)):\n",
    "            mapped_index = tt_map[i]\n",
    "            # contradiction\n",
    "            if mapped_index < len(truth_table) and not (truth_table[i] & truth_table[mapped_index] == 0):\n",
    "                return 0, 1\n",
    "\n",
    "        if len(tt_map) == len(truth_table):  # stopping criterion\n",
    "            return 1, 1\n",
    "        else:\n",
    "            left_result, left_calls = _num_truth_tables(truth_table + [0])\n",
    "            right_result, right_calls = _num_truth_tables(truth_table + [1])\n",
    "            return left_result + right_result, left_calls + right_calls\n",
    "    \n",
    "    result, num_calls = _num_truth_tables()\n",
    "\n",
    "    if print_output:\n",
    "        print(\"\")\n",
    "        print(\"len(tt_map): \", len(tt_map))\n",
    "        print(\"num truth table:\", 2**len(tt_map))\n",
    "        print(\"num calls: \", num_calls)\n",
    "        print(\"Call reduction: \", num_calls/2**len(tt_map))\n",
    "        print(\"Result: \", result)\n",
    "    return result, num_calls"
   ]
  },
  {
   "cell_type": "code",
   "execution_count": 23,
   "metadata": {},
   "outputs": [
    {
     "name": "stdout",
     "output_type": "stream",
     "text": [
      "\n",
      "len(tt_map):  4\n",
      "num truth table: 16\n",
      "num calls:  8\n",
      "Call reduction:  0.5\n",
      "Result:  4\n",
      "\n",
      "len(tt_map):  8\n",
      "num truth table: 256\n",
      "num calls:  54\n",
      "Call reduction:  0.2109375\n",
      "Result:  28\n",
      "\n",
      "len(tt_map):  16\n",
      "num truth table: 65536\n",
      "num calls:  3256\n",
      "Call reduction:  0.0496826171875\n",
      "Result:  1596\n",
      "\n",
      "len(tt_map):  32\n",
      "num truth table: 4294967296\n",
      "num calls:  6254173\n",
      "Call reduction:  0.0014561631251126528\n",
      "Result:  2961596\n"
     ]
    },
    {
     "data": {
      "text/plain": [
       "(2961596, 6254173)"
      ]
     },
     "execution_count": 23,
     "metadata": {},
     "output_type": "execute_result"
    }
   ],
   "source": [
    "num_truth_tables(two_bit_table_map)\n",
    "num_truth_tables(three_bit_table_map)\n",
    "num_truth_tables(four_bit_table_map)\n",
    "num_truth_tables(five_bit_table_map)"
   ]
  },
  {
   "cell_type": "markdown",
   "metadata": {},
   "source": [
    "## Attempt 2: Loops\n",
    "\n",
    "The recursive algorithm turns out to be much too slow because, even though I terminate the stack as soon as a contradiction is hit, the number of truth tables that have to be checked go out two orders of magnitude for each additional bit.\n",
    "\n",
    "The basis for the second attempt is the observation that the mapping between rows in the generated truth tables give rise to \"loops\" where two adjacant rows in the loop cannot both be 1, or it would violate the $\\tau(\\ldots) \\mathbin{\\text{AND}} \\tau(\\ldots) = 0$. However, distinct loops can be handled independently of each other, meaning that the number of truth tables that have to be searched through can be drastically reduced. \n",
    "\n",
    "For example, for the thee-bit case, the \"row map\" is the following:\n",
    "\n",
    "```\n",
    "0 -> 0\n",
    "1 -> 2\n",
    "2 -> 4\n",
    "3 -> 7\n",
    "4 -> 1\n",
    "5 -> 3\n",
    "6 -> 5\n",
    "7 -> 6\n",
    "```\n",
    "\n",
    "which means that 0 is paired with itself in the truth table, row 1 is paired with row 2, row 2 is paired with row 4, ...\n",
    "\n",
    "This gives rise to the following three loops\n",
    "\n",
    "$$\n",
    "0 \\rightarrow 0 \\\\\n",
    "1 \\rightarrow 2 \\rightarrow 4 \\rightarrow 1 \\\\\n",
    "3 \\rightarrow 7 \\rightarrow 6 \\rightarrow 5 \\rightarrow 3 \\\\\n",
    "$$\n",
    "\n",
    "Thus, the problem can be decomposed into three subproblems, where no two adjacant elements in the loop can both be equal to 1. For the first loop ($0 \\rightarrow 0$) there is just one way to do this, for the second loop there are four ways, and for the last loop there are 7 ways. So the solution becomes\n",
    "\n",
    "$$1 \\times 4 \\times 7 = 28$$\n",
    "\n",
    "This approach can also be applied to cases with more bits, and should scale well."
   ]
  },
  {
   "cell_type": "code",
   "execution_count": 71,
   "metadata": {},
   "outputs": [
    {
     "name": "stdout",
     "output_type": "stream",
     "text": [
      "[0]\n",
      "[2, 4, 1]\n",
      "[7, 6, 5, 3]\n"
     ]
    }
   ],
   "source": [
    "def find_loops(row_map: List[int]) -> list[list[int]]:\n",
    "    loops = []\n",
    "    for i in row_map:\n",
    "        loop = []\n",
    "        if not any([element == i for sublist in loops for element in sublist]):\n",
    "            loop.append(i)\n",
    "            while True:\n",
    "                i = row_map[i]\n",
    "                if i in loop:\n",
    "                    loops.append(loop)\n",
    "                    break\n",
    "                else:\n",
    "                    loop.append(i)\n",
    "    return loops\n",
    "\n",
    "\n",
    "loops = find_loops(three_bit_table_map)\n",
    "for loop in loops:\n",
    "    print(loop)"
   ]
  },
  {
   "cell_type": "code",
   "execution_count": 81,
   "metadata": {},
   "outputs": [
    {
     "name": "stdout",
     "output_type": "stream",
     "text": [
      "loop size 1:  1\n",
      "loop size 2:  3\n",
      "loop size 3:  4\n",
      "loop size 4:  7\n"
     ]
    }
   ],
   "source": [
    "import functools\n",
    "\n",
    "\n",
    "@functools.cache\n",
    "def valid_truth_tables(\n",
    "    size: int, first_element: int = -1, latest_element: int = -1, current_size: int = -1\n",
    ") -> int:\n",
    "    if first_element == -1: # initiate\n",
    "        return valid_truth_tables(size, 0, 0, 1) + valid_truth_tables(size, 1, 1, 1)\n",
    "    if current_size == size:  # stopping criterion\n",
    "        if latest_element == 1 and first_element == 1:\n",
    "            return 0\n",
    "        else:\n",
    "            return 1\n",
    "    if latest_element == 0:\n",
    "        return valid_truth_tables(size, first_element, 0, current_size + 1) + valid_truth_tables(size, first_element, 1, current_size + 1)\n",
    "    else:\n",
    "        return valid_truth_tables(size, first_element, 0, current_size + 1)\n",
    "\n",
    "\n",
    "# sanity checks\n",
    "print(\"loop size 1: \", valid_truth_tables(1))\n",
    "print(\"loop size 2: \", valid_truth_tables(2))\n",
    "print(\"loop size 3: \", valid_truth_tables(3))\n",
    "print(\"loop size 4: \", valid_truth_tables(4))"
   ]
  },
  {
   "cell_type": "code",
   "execution_count": 85,
   "metadata": {},
   "outputs": [
    {
     "name": "stdout",
     "output_type": "stream",
     "text": [
      "2 bit =  4\n",
      "3 bit =  28\n",
      "4 bit =  1596\n",
      "5 bit =  2961596\n",
      "6 bit =  15964587728784\n"
     ]
    }
   ],
   "source": [
    "def num_truth_tables2(tt_map=List[int]) -> int:\n",
    "    loops = find_loops(tt_map)\n",
    "    num_solutions = 1\n",
    "    valid_truth_tables.cache_clear()\n",
    "    for loop in loops:\n",
    "        num_solutions *= valid_truth_tables(len(loop))\n",
    "    return num_solutions\n",
    "\n",
    "\n",
    "print(\"2 bit = \", num_truth_tables2(two_bit_table_map))\n",
    "print(\"3 bit = \", num_truth_tables2(three_bit_table_map))\n",
    "print(\"4 bit = \", num_truth_tables2(four_bit_table_map))\n",
    "print(\"5 bit = \", num_truth_tables2(five_bit_table_map))\n",
    "print(\"6 bit = \", num_truth_tables2(six_bit_table_map))"
   ]
  }
 ],
 "metadata": {
  "kernelspec": {
   "display_name": "project-euler",
   "language": "python",
   "name": "python3"
  },
  "language_info": {
   "codemirror_mode": {
    "name": "ipython",
    "version": 3
   },
   "file_extension": ".py",
   "mimetype": "text/x-python",
   "name": "python",
   "nbconvert_exporter": "python",
   "pygments_lexer": "ipython3",
   "version": "3.12.2"
  }
 },
 "nbformat": 4,
 "nbformat_minor": 2
}
