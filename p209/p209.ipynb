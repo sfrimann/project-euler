{
 "cells": [
  {
   "cell_type": "markdown",
   "metadata": {},
   "source": [
    "# Problem 209: Circular Logic\n",
    "\n",
    "A $k$-input <strong>binary truth table</strong> is a map from $k$ input bits (binary digits, $0$ [false] or $1$ [true]) to $1$ output bit. For example, the $2$-input binary truth tables for the logical $\\mathbin{\\text{AND}}$ and $\\mathbin{\\text{XOR}}$ functions are:\n",
    "\n",
    "<div style=\"float:left;margin:10px 50px;text-align:center;\">\n",
    "<table class=\"grid\"><tr><th style=\"width:50px;\">x</th>\n",
    "<th style=\"width:50px;\">y</th>\n",
    "<th>x AND y</th></tr>\n",
    "<tr><td align=\"center\">0</td><td align=\"center\">0</td><td align=\"center\">0</td></tr><tr><td align=\"center\">0</td><td align=\"center\">1</td><td align=\"center\">0</td></tr><tr><td align=\"center\">1</td><td align=\"center\">0</td><td align=\"center\">0</td></tr><tr><td align=\"center\">1</td><td align=\"center\">1</td><td align=\"center\">1</td></tr></table>\n",
    "</div>\n",
    "<div style=\"float:left;margin:10px 50px;text-align:center;\">\n",
    "<table class=\"grid\"><tr><th style=\"width:50px;\">x</th>\n",
    "<th style=\"width:50px;\">y</th>\n",
    "<th>x XOR y</th></tr>\n",
    "<tr><td align=\"center\">0</td><td align=\"center\">0</td><td align=\"center\">0</td></tr><tr><td align=\"center\">0</td><td align=\"center\">1</td><td align=\"center\">1</td></tr><tr><td align=\"center\">1</td><td align=\"center\">0</td><td align=\"center\">1</td></tr><tr><td align=\"center\">1</td><td align=\"center\">1</td><td align=\"center\">0</td></tr></table>\n",
    "</div>\n",
    "<br clear=\"all\">\n",
    "\n",
    "How many $6$-input binary truth tables, $\\tau$, satisfy the formula\n",
    "$$\\tau(a, b, c, d, e, f) \\mathbin{\\text{AND}} \\tau(b, c, d, e, f, a \\mathbin{\\text{XOR}} (b \\mathbin{\\text{AND}} c)) = 0$$\n",
    "for all $6$-bit inputs $(a, b, c, d, e, f)$?"
   ]
  },
  {
   "cell_type": "markdown",
   "metadata": {},
   "source": []
  }
 ],
 "metadata": {
  "language_info": {
   "name": "python"
  }
 },
 "nbformat": 4,
 "nbformat_minor": 2
}
