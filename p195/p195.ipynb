{
 "cells": [
  {
   "cell_type": "markdown",
   "metadata": {},
   "source": [
    "# Problem 195: 60-degree Triangle Inscribed Circles\n",
    "\n",
    "Let's call an integer sided triangle with exactly one angle of $60$ degrees a $60$-degree triangle. Let $r$ be the radius of the inscribed circle of such a $60$-degree triangle.\n",
    "\n",
    "There are $1234$ $60$-degree triangles for which $r \\le 100$. Let $T(n)$ be the number of $60$-degree triangles for which $r \\le n$, so $T(100) = 1234$, $T(1000) = 22767$, and $T(10000) = 359912$.\n",
    "\n",
    "Find $T(1053779)$."
   ]
  },
  {
   "cell_type": "markdown",
   "metadata": {},
   "source": [
    "## Solution\n",
    "\n",
    "Based on this [paper](https://arxiv.org/ftp/arxiv/papers/0803/0803.3778.pdf), the integer sided solution to a triangle $ABC$, with sides $a$, $b$ and $c$ where $\\angle B = 60\\degree$ is:\n",
    "\n",
    "$$\n",
    "a = d\\kappa\\lambda \\newline\n",
    "b = \\frac{d(3\\kappa^2 + \\lambda^2)}{4} \\newline\n",
    "c = d\\frac{2\\kappa\\lambda + \\left\\|\\lambda^2 - 4\\kappa^2\\right\\|}{4}\n",
    "$$\n",
    "\n",
    "where $d$, $\\kappa$ and $\\lambda$ are positive integers with \n",
    "\n",
    "$$\n",
    "\\gcd(\\kappa, \\lambda) = 1 \\newline\n",
    "1 \\le \\lambda \\le \\kappa \\wedge 3\\kappa \\le \\lambda\n",
    "$$\n",
    "\n",
    "If $\\kappa$ and $\\lambda$ are both odd $d$ can be any positive integer, otherwise $d$ must be a multiple of $4$.\n",
    "\n",
    "To get the inscribed circle, $r$, note that\n",
    "$$\n",
    "r = \\sqrt{\\frac{(s-a)(s-b)(s-c)}{s}} = \\frac{\\Delta}{s} = \\frac{\\frac{1}{2}\\sin 60\\degree ac}{s}\n",
    "$$\n",
    "\n",
    "where $\\Delta$ is the area of the triangle and $s = \\frac{1}{2}(a + b + c)$.\n",
    "\n",
    "With this we can get an expression for $r$ by $d$, $\\kappa$ and $\\lambda$\n",
    "\n",
    "$$\n",
    "r = \\left\\{ \n",
    "    \\begin{array}{ll}\n",
    "        \\frac{\\sqrt{3}d\\kappa(\\lambda - \\kappa)}{4} \\quad , \\quad 3\\kappa \\le \\lambda \\\\\n",
    "        \\frac{d*\\lambda \\left\\|\\lambda - 3\\kappa\\right\\|}{4*\\sqrt{3}}\n",
    "    \\end{array}\n",
    "\\right.\n",
    "$$.\n",
    "\n",
    "To avoid the equilateral triangle $a = b = c$, we require that\n",
    "\n",
    "$$\n",
    "4\\kappa\\lambda \\ne 3\\kappa^2 + \\lambda^2\n",
    "$$"
   ]
  },
  {
   "cell_type": "code",
   "execution_count": 1,
   "metadata": {},
   "outputs": [
    {
     "name": "stdout",
     "output_type": "stream",
     "text": [
      "kappa = lambda = d = 1, a = b = c = 1\n",
      "Calulated r, rFromSideLenghts: 0.2886751345948129 0.28867513459481287\n",
      "Calculated sides, a, b, c: 1 1 1\n",
      "Equilateral: True\n",
      "\n",
      "kappa = 2, lambda = 1, d = 4, a = 8, b = 13, c = 15\n",
      "Calulated r, rFromSideLenghts: 2.886751345948129 2.886751345948129\n",
      "Calculated sides, a, b, c: 8 13 15\n",
      "Equilateral: False\n",
      "\n",
      "kappa = 1, lambda = 3, d = 1, a = b = c 3\n",
      "Calulated r, rFromSideLenghts: 0.8660254037844386 0.8660254037844386\n",
      "Calculated sides, a, b, c: 3 3 3\n",
      "Equilateral: True\n",
      "\n",
      "kappa = 1, lambda = 4, d = 4, a = 16, b = 19, c = 21\n",
      "Calulated r, rFromSideLenghts: 5.196152422706632 5.196152422706632\n",
      "Calculated sides, a, b, c: 16 19 21\n",
      "Equilateral: False\n",
      "\n"
     ]
    }
   ],
   "source": [
    "from math import sqrt\n",
    "\n",
    "\n",
    "def r(kappa: int, lamb: int, d: int) -> float:\n",
    "    if lamb >= 3 * kappa:\n",
    "        return sqrt(3) * d * kappa * (lamb - kappa) / 4\n",
    "    else:\n",
    "        return d * lamb * abs(lamb - 3 * kappa) / 4 / sqrt(3)\n",
    "\n",
    "\n",
    "def dmax(kappa: int, lamb: int, rmax: int) -> float:\n",
    "    if lamb >= 3 * kappa:\n",
    "        return 4 * rmax / (sqrt(3) * kappa * (lamb - kappa))\n",
    "    else:\n",
    "        return sqrt(3) * 4 * rmax / (lamb * abs(lamb - 3 * kappa))\n",
    "\n",
    "\n",
    "def rFromSideLenghts(a: int, b: int, c: int) -> float:\n",
    "    s = 0.5 * (a + b + c)\n",
    "    return sqrt((s - a) * (s - b) * (s - c) / s)\n",
    "\n",
    "\n",
    "def sideA(kappa: int, lamb: int, d: int) -> int:\n",
    "    return d * kappa * lamb\n",
    "\n",
    "\n",
    "def sideB(kappa: int, lamb: int, d: int) -> int:\n",
    "    return d * (3 * kappa**2 + lamb**2) // 4\n",
    "\n",
    "\n",
    "def sideC(kappa: int, lamb: int, d: int) -> int:\n",
    "    return d * (2 * kappa * lamb + abs(3 * kappa**2 - lamb**2)) // 4\n",
    "\n",
    "\n",
    "def equilateral(kappa: int, lamb: int) -> bool:\n",
    "    if 4 * kappa * lamb == 3 * kappa**2 + lamb**2:\n",
    "        return True\n",
    "    else:\n",
    "        return False\n",
    "\n",
    "\n",
    "# sanity checks\n",
    "print(\"kappa = lambda = d = 1, a = b = c = 1\")\n",
    "print(\"Calulated r, rFromSideLenghts:\", r(1, 1, 1), rFromSideLenghts(1, 1, 1))\n",
    "print(\"Calculated sides, a, b, c:\", sideA(1, 1, 1), sideB(1, 1, 1), sideC(1, 1, 1))\n",
    "print(\"Equilateral:\", equilateral(1, 1))\n",
    "print(\"\")\n",
    "print(\"kappa = 2, lambda = 1, d = 4, a = 8, b = 13, c = 15\")\n",
    "print(\"Calulated r, rFromSideLenghts:\", r(2, 1, 4), rFromSideLenghts(8, 13, 15))\n",
    "print(\"Calculated sides, a, b, c:\", sideA(2, 1, 4), sideB(2, 1, 4), sideC(2, 1, 4))\n",
    "print(\"Equilateral:\", equilateral(2, 1))\n",
    "print(\"\")\n",
    "print(\"kappa = 1, lambda = 3, d = 1, a = b = c 3\")\n",
    "print(\"Calulated r, rFromSideLenghts:\", r(1, 3, 1), rFromSideLenghts(3, 3, 3))\n",
    "print(\"Calculated sides, a, b, c:\", sideA(1, 3, 1), sideB(1, 3, 1), sideC(1, 3, 1))\n",
    "print(\"Equilateral:\", equilateral(1, 3))\n",
    "print(\"\")\n",
    "print(\"kappa = 1, lambda = 4, d = 4, a = 16, b = 19, c = 21\")\n",
    "print(\"Calulated r, rFromSideLenghts:\", r(1, 4, 4), rFromSideLenghts(16, 19, 21))\n",
    "print(\"Calculated sides, a, b, c:\", sideA(1, 4, 4), sideB(1, 4, 4), sideC(1, 4, 4))\n",
    "print(\"Equilateral:\", equilateral(1, 4))\n",
    "print(\"\")"
   ]
  },
  {
   "cell_type": "code",
   "execution_count": 54,
   "metadata": {},
   "outputs": [
    {
     "name": "stdout",
     "output_type": "stream",
     "text": [
      "75085391\n"
     ]
    }
   ],
   "source": [
    "from itertools import count\n",
    "from math import gcd\n",
    "\n",
    "gcdLookup: dict[int] = {}\n",
    "def isCoprime(kappa: int, lamb: int) -> bool:\n",
    "    pair = frozenset([lamb, kappa])\n",
    "    if pair not in gcdLookup:\n",
    "        gcdLookup[pair] = gcd(lamb, kappa)\n",
    "    return gcdLookup[pair] == 1\n",
    "\n",
    "def tripleCount(kappa: int, lamb: int, rmax: int) -> set[(int, int, int)]:\n",
    "    if isCoprime(kappa, lamb) and not equilateral(kappa, lamb):\n",
    "        step = 4 if kappa % 2 == 0 or lamb % 2 == 0 else 1\n",
    "        _dmax = dmax(kappa, lamb, rmax)\n",
    "        return set([(sideA(kappa, lamb, d), sideB(kappa, lamb, d), sideC(kappa, lamb, d)) for d in range(step, int(_dmax)+1, step)])\n",
    "    else:\n",
    "        return set()\n",
    "\n",
    "rmax = 1053779\n",
    "\n",
    "diophantineSolutions = set()\n",
    "for kappa in count(1):\n",
    "    if r(kappa, 1, 1) > rmax:\n",
    "        break\n",
    "    for lamb in range(1, kappa + 1):\n",
    "        if r(kappa, lamb, 1) > rmax:\n",
    "            break\n",
    "        tmp = tripleCount(kappa, lamb, rmax)\n",
    "        diophantineSolutions.update(tripleCount(kappa, lamb, rmax))\n",
    "\n",
    "for lamb in count(3):\n",
    "    if r(1, lamb, 1) > rmax:\n",
    "        break\n",
    "    for kappa in range(1, lamb // 3 + 1):\n",
    "        if r(kappa, lamb, 1) > rmax:\n",
    "            break\n",
    "        diophantineSolutions.update(tripleCount(kappa, lamb, rmax))\n",
    "\n",
    "print(len(diophantineSolutions))"
   ]
  },
  {
   "cell_type": "code",
   "execution_count": 2,
   "metadata": {},
   "outputs": [],
   "source": [
    "# brute force\n",
    "rmax = 100\n",
    "\n",
    "squares = {}\n",
    "for i in range(1, 10**7):\n",
    "    squares[i**2] = i\n",
    "triples = set()\n",
    "for a in range(1, 5*10**4):\n",
    "    for c in range(a + 1, 5*10**4):\n",
    "        b2 = a**2 + c**2 - a * c\n",
    "        if b2 in squares:\n",
    "            if rFromSideLenghts(a, squares[b2], c) <= rmax:\n",
    "                triples.add((a, squares[b2], c))"
   ]
  },
  {
   "cell_type": "code",
   "execution_count": 4,
   "metadata": {},
   "outputs": [
    {
     "data": {
      "text/plain": [
       "1234"
      ]
     },
     "execution_count": 4,
     "metadata": {},
     "output_type": "execute_result"
    }
   ],
   "source": [
    "len(triples)"
   ]
  }
 ],
 "metadata": {
  "kernelspec": {
   "display_name": "project-euler",
   "language": "python",
   "name": "python3"
  },
  "language_info": {
   "codemirror_mode": {
    "name": "ipython",
    "version": 3
   },
   "file_extension": ".py",
   "mimetype": "text/x-python",
   "name": "python",
   "nbconvert_exporter": "python",
   "pygments_lexer": "ipython3",
   "version": "3.12.2"
  }
 },
 "nbformat": 4,
 "nbformat_minor": 2
}
