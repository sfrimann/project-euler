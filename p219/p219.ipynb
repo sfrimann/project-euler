{
 "cells": [
  {
   "cell_type": "markdown",
   "metadata": {},
   "source": [
    "# Problem 219: Skew-cost Coding\n",
    "\n",
    "Let <span style=\"font-weight:bold;\">A</span> and <span style=\"font-weight:bold;\">B</span> be bit strings (sequences of 0's and 1's).\\\n",
    "If <span style=\"font-weight:bold;\">A</span> is equal to the <span style=\"text-decoration:underline;\">left</span>most length(<span style=\"font-weight:bold;\">A</span>) bits of <span style=\"font-weight:bold;\">B</span>, then <span style=\"font-weight:bold;\">A</span> is said to be a <span style=\"font-style:italic;\">prefix</span> of <span style=\"font-weight:bold;\">B</span>.\\\n",
    "For example, 00110 is a prefix of <span style=\"text-decoration:underline;\">00110</span>1001, but not of 00111 or 100110.\n",
    "\n",
    "A <span style=\"font-style:italic;\">prefix-free code of size</span> <var>n</var> is a collection of <var>n</var> distinct bit strings such that no string is a prefix of any other.  For example, this is a prefix-free code of size 6:\n",
    "\n",
    "<p class=\"center\">0000, 0001, 001, 01, 10, 11</p>\n",
    "\n",
    "Now suppose that it costs one penny to transmit a '0' bit, but four pence to transmit a '1'.\\\n",
    "Then the total cost of the prefix-free code shown above is 35 pence, which happens to be the cheapest possible for the skewed pricing scheme in question.\\\n",
    "In short, we write Cost(6) = 35.\n",
    "\n",
    "What is Cost(10<sup>9</sup>) ?"
   ]
  },
  {
   "cell_type": "code",
   "execution_count": 23,
   "metadata": {},
   "outputs": [
    {
     "name": "stdout",
     "output_type": "stream",
     "text": [
      "cost(6): 35\n",
      "cost(1000): 21708\n",
      "cost(10**6): 43137383\n",
      "cost(10**7): 502677008\n",
      "cost(10**8): 5740035479\n",
      "cost(10**9): 64564225042\n"
     ]
    }
   ],
   "source": [
    "from collections import defaultdict\n",
    "\n",
    "\n",
    "def cost(n: int) -> int:\n",
    "    if n == 0:\n",
    "        return 0\n",
    "    if n == 1:\n",
    "        return 1\n",
    "    if n == 2:\n",
    "        return 5\n",
    "    \n",
    "    _d = defaultdict(int)\n",
    "    _d[1] += 1\n",
    "    _d[4] += 1\n",
    "    min_weight = 1\n",
    "    for _ in range(n-2):\n",
    "        min_weight = min(_d.keys()) if min_weight == -1 else min_weight\n",
    "        _d[min_weight+1] += 1\n",
    "        _d[min_weight+4] += 1\n",
    "        if _d[min_weight] > 1:\n",
    "            _d[min_weight] -= 1\n",
    "        else:\n",
    "            del _d[min_weight]\n",
    "            min_weight = -1\n",
    "\n",
    "    return sum([k*v for k, v in _d.items()])\n",
    "\n",
    "print(\"cost(6):\", cost(6))\n",
    "print(\"cost(1000):\", cost(1000))\n",
    "print(\"cost(10**6):\", cost(10**6))\n",
    "print(\"cost(10**7):\", cost(10**7))\n",
    "print(\"cost(10**8):\", cost(10**8))\n",
    "print(\"cost(10**9):\", cost(10**9))"
   ]
  }
 ],
 "metadata": {
  "kernelspec": {
   "display_name": "project-euler",
   "language": "python",
   "name": "python3"
  },
  "language_info": {
   "codemirror_mode": {
    "name": "ipython",
    "version": 3
   },
   "file_extension": ".py",
   "mimetype": "text/x-python",
   "name": "python",
   "nbconvert_exporter": "python",
   "pygments_lexer": "ipython3",
   "version": "3.12.2"
  }
 },
 "nbformat": 4,
 "nbformat_minor": 2
}
