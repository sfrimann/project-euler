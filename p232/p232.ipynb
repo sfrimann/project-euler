{
 "cells": [
  {
   "cell_type": "markdown",
   "metadata": {},
   "source": [
    "# Problem 232: The Race\n",
    "\n",
    "Two players share an unbiased coin and take it in turns to play <dfn>The Race</dfn>.\n",
    "\n",
    "On Player 1's turn, the coin is tossed once. If it comes up Heads, then Player 1 scores one point; if it comes up Tails, then no points are scored.\n",
    "\n",
    "On Player 2's turn, a positive integer, $T$, is chosen by Player 2 and the coin is tossed $T$ times. If it comes up all Heads, then Player 2 scores $2^{T-1}$ points; otherwise, no points are scored.\n",
    "\n",
    "Player 1 goes first and the winner is the first to 100 or more points.\n",
    "\n",
    "Player 2 will always select the number, $T$, of coin tosses that maximises the probability of winning.\n",
    "\n",
    "What is the probability that Player 2 wins?\n",
    "\n",
    "Give your answer rounded to eight decimal places in the form 0.abcdefgh."
   ]
  },
  {
   "cell_type": "markdown",
   "metadata": {},
   "source": []
  }
 ],
 "metadata": {
  "kernelspec": {
   "display_name": "project-euler",
   "language": "python",
   "name": "python3"
  },
  "language_info": {
   "name": "python",
   "version": "3.12.2"
  }
 },
 "nbformat": 4,
 "nbformat_minor": 2
}
