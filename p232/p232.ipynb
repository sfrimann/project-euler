{
 "cells": [
  {
   "cell_type": "markdown",
   "metadata": {},
   "source": [
    "# Problem 232: The Race\n",
    "\n",
    "Two players share an unbiased coin and take it in turns to play <dfn>The Race</dfn>.\n",
    "\n",
    "On Player 1's turn, the coin is tossed once. If it comes up Heads, then Player 1 scores one point; if it comes up Tails, then no points are scored.\n",
    "\n",
    "On Player 2's turn, a positive integer, $T$, is chosen by Player 2 and the coin is tossed $T$ times. If it comes up all Heads, then Player 2 scores $2^{T-1}$ points; otherwise, no points are scored.\n",
    "\n",
    "Player 1 goes first and the winner is the first to 100 or more points.\n",
    "\n",
    "Player 2 will always select the number, $T$, of coin tosses that maximises the probability of winning.\n",
    "\n",
    "What is the probability that Player 2 wins?\n",
    "\n",
    "Give your answer rounded to eight decimal places in the form 0.abcdefgh."
   ]
  },
  {
   "cell_type": "code",
   "execution_count": 56,
   "metadata": {},
   "outputs": [],
   "source": [
    "from functools import cache\n",
    "import sys\n",
    "\n",
    "\n",
    "def get_recursion_depth():\n",
    "    frame = sys._getframe()\n",
    "    depth = 0\n",
    "    while frame:\n",
    "        frame = frame.f_back\n",
    "        depth += 1\n",
    "    return depth\n",
    "\n",
    "\n",
    "@cache\n",
    "def p2_win_prob(p1_points: int, p2_points: int, turn: int, max_points=100) -> float:\n",
    "    if p1_points >= max_points:\n",
    "        return 0\n",
    "    if p2_points >= max_points:\n",
    "        return 1\n",
    "    if get_recursion_depth() > 400:\n",
    "        return 0.5\n",
    "\n",
    "    if turn == 1:\n",
    "        success_prob = 0.5 * p2_win_prob(\n",
    "            p1_points + 1, p2_points, 2, max_points=max_points\n",
    "        )\n",
    "        failure_prob = 0.5 * p2_win_prob(p1_points, p2_points, 2, max_points=max_points)\n",
    "        return success_prob + failure_prob\n",
    "    elif turn == 2:\n",
    "        max_prob = 0.0\n",
    "        for T in range(1, 9):\n",
    "            success_prob = 0.5**T * p2_win_prob(\n",
    "                p1_points, p2_points + 2 ** (T - 1), 1, max_points=max_points\n",
    "            )\n",
    "            failure_prob = (1 - 1 / 2**T) * p2_win_prob(\n",
    "                p1_points, p2_points, 1, max_points=max_points\n",
    "            )\n",
    "            prob = success_prob + failure_prob\n",
    "            max_prob = max(prob, max_prob)\n",
    "        return max_prob"
   ]
  },
  {
   "cell_type": "code",
   "execution_count": 57,
   "metadata": {},
   "outputs": [
    {
     "name": "stdout",
     "output_type": "stream",
     "text": [
      "Max  10 points = 0.67006457\n",
      "Max  20 points = 0.72900976\n",
      "Max  50 points = 0.79438583\n",
      "Max 100 points = 0.83648556\n"
     ]
    }
   ],
   "source": [
    "p2_win_prob.cache_clear()\n",
    "print(\n",
    "    \"Max  10 points =\", round(p2_win_prob(0, 0, 1, max_points=10), 8)\n",
    ")  # 0.670064571682367\n",
    "print(\n",
    "    \"Max  20 points =\", round(p2_win_prob(0, 0, 1, max_points=20), 8)\n",
    ")  # 0.729009756737729\n",
    "print(\n",
    "    \"Max  50 points =\", round(p2_win_prob(0, 0, 1, max_points=50), 8)\n",
    ")  # 0.794385833126634\n",
    "print(\"Max 100 points =\", round(p2_win_prob(0, 0, 1, max_points=100), 8))"
   ]
  }
 ],
 "metadata": {
  "kernelspec": {
   "display_name": "project-euler",
   "language": "python",
   "name": "python3"
  },
  "language_info": {
   "codemirror_mode": {
    "name": "ipython",
    "version": 3
   },
   "file_extension": ".py",
   "mimetype": "text/x-python",
   "name": "python",
   "nbconvert_exporter": "python",
   "pygments_lexer": "ipython3",
   "version": "3.12.2"
  }
 },
 "nbformat": 4,
 "nbformat_minor": 2
}
