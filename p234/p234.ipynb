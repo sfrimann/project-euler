{
 "cells": [
  {
   "cell_type": "markdown",
   "metadata": {},
   "source": [
    "# Problem 234: Semidivisible Numbers\n",
    "\n",
    "For an integer $n \\ge 4$, we define the <dfn>lower prime square root</dfn> of $n$, denoted by $\\operatorname{lps}(n)$, as the largest prime $\\le \\sqrt n$ and the <dfn>upper prime square root</dfn> of $n$, $\\operatorname{ups}(n)$, as the smallest prime $\\ge \\sqrt n$.\n",
    "\n",
    "So, for example, $\\operatorname{lps}(4) = 2 = \\operatorname{ups}(4)$, $\\operatorname{lps}(1000) = 31$, $\\operatorname{ups}(1000) = 37$.\\\n",
    "Let us call an integer $n \\ge 4$ <dfn>semidivisible</dfn>, if one of $\\operatorname{lps}(n)$ and $\\operatorname{ups}(n)$ divides $n$, but not both.\n",
    "\n",
    "The sum of the semidivisible numbers not exceeding $15$ is $30$, the numbers are $8$, $10$ and $12$.<br> $15$ is not semidivisible because it is a multiple of both $\\operatorname{lps}(15) = 3$ and $\\operatorname{ups}(15) = 5$.\\\n",
    "As a further example, the sum of the $92$ semidivisible numbers up to $1000$ is $34825$.\n",
    "\n",
    "What is the sum of all semidivisible numbers not exceeding $999966663333$?"
   ]
  },
  {
   "cell_type": "code",
   "execution_count": 105,
   "metadata": {},
   "outputs": [
    {
     "name": "stdout",
     "output_type": "stream",
     "text": [
      "1066 36393008\n"
     ]
    }
   ],
   "source": [
    "# brute force\n",
    "\n",
    "from math import isqrt, sqrt\n",
    "from sympy import isprime\n",
    "from sympy.ntheory.primetest import is_square\n",
    "from sympy.ntheory.generate import prevprime, nextprime\n",
    "\n",
    "nmax = 10**5\n",
    "\n",
    "count = 0\n",
    "total = 0\n",
    "for n in range(4, nmax + 1):\n",
    "    if is_square(n) and isprime(isqrt(n)):\n",
    "        continue\n",
    "    lps = prevprime(sqrt(n))\n",
    "    ups = nextprime(sqrt(n))\n",
    "    if (n % lps == 0) ^ (n % ups == 0):\n",
    "        count += 1\n",
    "        total += n\n",
    "\n",
    "print(count, total)"
   ]
  },
  {
   "cell_type": "code",
   "execution_count": 99,
   "metadata": {},
   "outputs": [
    {
     "name": "stdout",
     "output_type": "stream",
     "text": [
      "sum of semidivisible number: 1259187438574927161\n"
     ]
    }
   ],
   "source": [
    "from sympy import primerange\n",
    "\n",
    "\n",
    "nmax = 999966663333\n",
    "pmax = sqrt(nmax)\n",
    "\n",
    "primes = list(primerange(nextprime(pmax) + 1))\n",
    "\n",
    "total = 0\n",
    "for i in range(1, len(primes)):\n",
    "    p1, p2 = primes[i - 1], primes[i]\n",
    "    p1s, p2s = p1 * p1, p2 * p2\n",
    "    divisible_by_p1 = set(range(p1s + p1, min(p2s, nmax) + 1, p1))\n",
    "    divisible_by_p2 = set([_ for _ in range(p2s - p2, p1s, -p2) if _ <= nmax])\n",
    "    valid = divisible_by_p1.symmetric_difference(divisible_by_p2)\n",
    "    total += sum(valid)\n",
    "print(\"sum of semidivisible number:\", total)"
   ]
  }
 ],
 "metadata": {
  "kernelspec": {
   "display_name": "project-euler",
   "language": "python",
   "name": "python3"
  },
  "language_info": {
   "codemirror_mode": {
    "name": "ipython",
    "version": 3
   },
   "file_extension": ".py",
   "mimetype": "text/x-python",
   "name": "python",
   "nbconvert_exporter": "python",
   "pygments_lexer": "ipython3",
   "version": "3.12.2"
  }
 },
 "nbformat": 4,
 "nbformat_minor": 2
}
