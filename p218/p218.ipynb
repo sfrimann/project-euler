{
 "cells": [
  {
   "cell_type": "markdown",
   "metadata": {},
   "source": [
    "# Problem 218: Perfect Right-angled Triangles\n",
    "\n",
    "Consider the right angled triangle with sides $a=7$, $b=24$ and $c=25$.\n",
    "The area of this triangle is $84$, which is divisible by the perfect numbers $6$ and $28$.\\\n",
    "Moreover it is a primitive right angled triangle as $\\gcd(a,b)=1$ and $\\gcd(b,c)=1$.\\\n",
    "Also $c$ is a perfect square.\n",
    "\n",
    "We will call a right angled triangle perfect if\\\n",
    "-it is a primitive right angled triangle\\\n",
    "-its hypotenuse is a perfect square.\n",
    "\n",
    "We will call a right angled triangle super-perfect if\\\n",
    "-it is a perfect right angled triangle and\\\n",
    "-its area is a multiple of the perfect numbers $6$ and $28$.\n",
    "\n",
    "How many perfect right-angled triangles with $c \\le 10^{16}$ exist that are not super-perfect?"
   ]
  },
  {
   "cell_type": "code",
   "execution_count": 11,
   "metadata": {},
   "outputs": [],
   "source": [
    "# generates all odd even co primes (if seeded on m=2, n=1) for m**2 + n**2 < cmax\n",
    "def co_primes(m: int, n: int, cmax: int):\n",
    "    stack = [(m, n)]\n",
    "    while stack:\n",
    "        m, n = stack.pop()\n",
    "        if m * m + n * n < cmax:\n",
    "            yield (m, n)\n",
    "            stack.append((2 * m - n, m))\n",
    "            stack.append((2 * m + n, m))\n",
    "            stack.append((m + 2 * n, n))"
   ]
  },
  {
   "cell_type": "code",
   "execution_count": 39,
   "metadata": {},
   "outputs": [
    {
     "name": "stdout",
     "output_type": "stream",
     "text": [
      "perfect = 15915492\n",
      "super perfect = 15915492\n",
      "diff = 0\n"
     ]
    }
   ],
   "source": [
    "from math import gcd\n",
    "\n",
    "cmax = 10**8\n",
    "\n",
    "num_perfect = 0\n",
    "num_super_perfect = 0\n",
    "for m, n in co_primes(2, 1, cmax):\n",
    "    # a pythagorean triple (a, b, c) can be written as (m^2 - n^2, 2*m*n, m^2 + n^2)\n",
    "    # if c is squre number then that itself is the hypotenuse in a separate pythagorean triple\n",
    "    # c = s^2 = m^2 + n^2\n",
    "    # which we know is also simple since m and n are co prime\n",
    "    # we can then construct the smaller triple and use that to build the \"larger\" triple\n",
    "    match (2 * m * n, m**2 - n**2):\n",
    "        case (_m, _n) if _m > _n:\n",
    "            m2, n2 = _m, _n\n",
    "        case (_n, _m):\n",
    "            m2, n2 = _m, _n\n",
    "\n",
    "    match (m2**2 - n2**2, 2 * m2 * n2, m2**2 + n2**2):\n",
    "        case (_a, _b, _c) if _b > _a:\n",
    "            a, b, c = _a, _b, _c\n",
    "        case (_b, _a, _c):\n",
    "            a, b, c = _a, _b, _c\n",
    "    area = a * b // 2\n",
    "    num_perfect += 1\n",
    "    if (area % 6 == 0) and (area % 28 == 0):\n",
    "        num_super_perfect += 1\n",
    "\n",
    "print(\"perfect =\", num_perfect)\n",
    "print(\"super perfect =\", num_super_perfect)\n",
    "print(\"diff =\", num_perfect - num_super_perfect)"
   ]
  }
 ],
 "metadata": {
  "kernelspec": {
   "display_name": "project-euler",
   "language": "python",
   "name": "python3"
  },
  "language_info": {
   "codemirror_mode": {
    "name": "ipython",
    "version": 3
   },
   "file_extension": ".py",
   "mimetype": "text/x-python",
   "name": "python",
   "nbconvert_exporter": "python",
   "pygments_lexer": "ipython3",
   "version": "3.12.2"
  }
 },
 "nbformat": 4,
 "nbformat_minor": 2
}
