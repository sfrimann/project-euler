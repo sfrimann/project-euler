{
 "cells": [
  {
   "cell_type": "markdown",
   "metadata": {},
   "source": [
    "# Problem 218: Perfect Right-angled Triangles\n",
    "\n",
    "Consider the right angled triangle with sides $a=7$, $b=24$ and $c=25$.\n",
    "The area of this triangle is $84$, which is divisible by the perfect numbers $6$ and $28$.\\\n",
    "Moreover it is a primitive right angled triangle as $\\gcd(a,b)=1$ and $\\gcd(b,c)=1$.\\\n",
    "Also $c$ is a perfect square.\n",
    "\n",
    "We will call a right angled triangle perfect if\\\n",
    "-it is a primitive right angled triangle\\\n",
    "-its hypotenuse is a perfect square.\n",
    "\n",
    "We will call a right angled triangle super-perfect if\\\n",
    "-it is a perfect right angled triangle and\\\n",
    "-its area is a multiple of the perfect numbers $6$ and $28$.\n",
    "\n",
    "How many perfect right-angled triangles with $c \\le 10^{16}$ exist that are not super-perfect?"
   ]
  },
  {
   "cell_type": "code",
   "execution_count": null,
   "metadata": {
    "vscode": {
     "languageId": "plaintext"
    }
   },
   "outputs": [],
   "source": []
  }
 ],
 "metadata": {
  "language_info": {
   "name": "python"
  }
 },
 "nbformat": 4,
 "nbformat_minor": 2
}
