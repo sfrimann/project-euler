{
 "cells": [
  {
   "cell_type": "markdown",
   "metadata": {},
   "source": [
    "# Problem 201: Subsets with a Unique Sum\n",
    "\n",
    "For any set $A$ of numbers, let $\\operatorname{sum}(A)$ be the sum of the elements of $A$.\n",
    "Consider the set $B = \\{1,3,6,8,10,11\\}$.\n",
    "There are $20$ subsets of $B$ containing three elements, and their sums are:\n",
    "\n",
    "\\begin{align}\n",
    "\\operatorname{sum}(\\{1,3,6\\}) &= 10, \\nonumber \\\\\n",
    "\\operatorname{sum}(\\{1,3,8\\}) &= 12, \\nonumber \\\\\n",
    "\\operatorname{sum}(\\{1,3,10\\}) &= 14, \\nonumber \\\\\n",
    "\\operatorname{sum}(\\{1,3,11\\}) &= 15, \\nonumber \\\\\n",
    "\\operatorname{sum}(\\{1,6,8\\}) &= 15, \\nonumber \\\\\n",
    "\\operatorname{sum}(\\{1,6,10\\}) &= 17, \\nonumber \\\\\n",
    "\\operatorname{sum}(\\{1,6,11\\}) &= 18, \\nonumber \\\\\n",
    "\\operatorname{sum}(\\{1,8,10\\}) &= 19, \\nonumber \\\\\n",
    "\\operatorname{sum}(\\{1,8,11\\}) &= 20, \\nonumber \\\\\n",
    "\\operatorname{sum}(\\{1,10,11\\}) &= 22, \\nonumber \\\\\n",
    "\\operatorname{sum}(\\{3,6,8\\}) &= 17, \\nonumber \\\\\n",
    "\\operatorname{sum}(\\{3,6,10\\}) &= 19, \\nonumber \\\\\n",
    "\\operatorname{sum}(\\{3,6,11\\}) &= 20, \\nonumber \\\\\n",
    "\\operatorname{sum}(\\{3,8,10\\}) &= 21, \\nonumber \\\\\n",
    "\\operatorname{sum}(\\{3,8,11\\}) &= 22, \\nonumber \\\\\n",
    "\\operatorname{sum}(\\{3,10,11\\}) &= 24, \\nonumber \\\\\n",
    "\\operatorname{sum}(\\{6,8,10\\}) &= 24, \\nonumber \\\\\n",
    "\\operatorname{sum}(\\{6,8,11\\}) &= 25, \\nonumber \\\\\n",
    "\\operatorname{sum}(\\{6,10,11\\}) &= 27, \\nonumber \\\\\n",
    "\\operatorname{sum}(\\{8,10,11\\}) &= 29. \\nonumber \n",
    "\\end{align}\n",
    "\n",
    "Some of these sums occur more than once, others are unique.\\\n",
    "For a set $A$, let $U(A,k)$ be the set of unique sums of $k$-element subsets of $A$, in our example we find $U(B,3) = \\{10,12,14,18,21,25,27,29\\}$ and $\\operatorname{sum}(U(B,3)) = 156$.\n",
    "\n",
    "Now consider the $100$-element set $S = \\{1^2, 2^2, \\dots, 100^2\\}$.\\\n",
    "S has $100891344545564193334812497256$ $50$-element subsets.\n",
    "\n",
    "Determine the sum of all integers which are the sum of exactly one of the $50$-element subsets of $S$, i.e. find $\\operatorname{sum}(U(S,50))$."
   ]
  },
  {
   "cell_type": "code",
   "execution_count": 1,
   "metadata": {},
   "outputs": [
    {
     "name": "stdout",
     "output_type": "stream",
     "text": [
      "152110\n"
     ]
    }
   ],
   "source": [
    "# brute force\n",
    "\n",
    "from collections import defaultdict\n",
    "from itertools import combinations\n",
    "from typing import List, Set, DefaultDict\n",
    "\n",
    "\n",
    "num_elements = 20\n",
    "num_subset = 10\n",
    "\n",
    "S = set([s**2 for s in range(1, num_elements + 1)])\n",
    "\n",
    "\n",
    "subset_sums: DefaultDict[int, List[Set[int]]] = defaultdict(list)\n",
    "\n",
    "for subset in combinations(S, num_subset):\n",
    "    subset_sums[sum(subset)].append(set(subset))\n",
    "\n",
    "U = [_sum for (_sum, subsets) in subset_sums.items() if len(subsets) == 1]\n",
    "print(sum(U))"
   ]
  },
  {
   "cell_type": "code",
   "execution_count": 23,
   "metadata": {},
   "outputs": [
    {
     "name": "stdout",
     "output_type": "stream",
     "text": [
      "115039000\n"
     ]
    }
   ],
   "source": [
    "import functools\n",
    "from itertools import accumulate\n",
    "\n",
    "num_elements = 100\n",
    "num_subset = 50\n",
    "\n",
    "S: List[int] = [s**2 for s in range(1, num_elements + 1)][::-1]\n",
    "cumulative_S: List[int] = list(accumulate(S, initial=0))\n",
    "\n",
    "\n",
    "# Returns 0 if sum is not possible to make, 1 if the sume is unique and >1 if the sum is not unique\n",
    "@functools.cache\n",
    "def is_unique_sum(\n",
    "    target_sum: int, set_index: int = 0, num_elements_left: int = num_subset\n",
    ") -> int:\n",
    "\n",
    "    max_attainable_sum = (\n",
    "        cumulative_S[set_index + num_elements_left] - cumulative_S[set_index]\n",
    "    )\n",
    "    min_attainable_sum = (\n",
    "        cumulative_S[-num_elements_left] - cumulative_S[-(num_elements_left + 1)]\n",
    "        if num_elements_left > 0\n",
    "        else 0\n",
    "    )\n",
    "\n",
    "    match target_sum:\n",
    "        case 0 if num_elements_left == 0:\n",
    "            return 1\n",
    "        case _ if target_sum < min_attainable_sum or target_sum > max_attainable_sum:\n",
    "            return 0\n",
    "        case _:\n",
    "            num_ways_to_make_sum = 0\n",
    "            for i in range(set_index, num_elements - num_elements_left + 1):\n",
    "                num_ways_to_make_sum += is_unique_sum(\n",
    "                    target_sum - S[i], i + 1, num_elements_left - 1\n",
    "                )\n",
    "                if num_ways_to_make_sum > 1:\n",
    "                    return num_ways_to_make_sum\n",
    "            return num_ways_to_make_sum\n",
    "\n",
    "\n",
    "is_unique_sum.cache_clear()\n",
    "_max_sum = sum(S[:num_subset])\n",
    "_min_sum = sum(S[-num_subset:])\n",
    "U = [n for n in range(_min_sum, _max_sum + 1) if is_unique_sum(n) == 1]\n",
    "print(sum(U))"
   ]
  }
 ],
 "metadata": {
  "kernelspec": {
   "display_name": "project-euler",
   "language": "python",
   "name": "python3"
  },
  "language_info": {
   "codemirror_mode": {
    "name": "ipython",
    "version": 3
   },
   "file_extension": ".py",
   "mimetype": "text/x-python",
   "name": "python",
   "nbconvert_exporter": "python",
   "pygments_lexer": "ipython3",
   "version": "3.12.2"
  }
 },
 "nbformat": 4,
 "nbformat_minor": 2
}
