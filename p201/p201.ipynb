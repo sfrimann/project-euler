{
 "cells": [
  {
   "cell_type": "markdown",
   "metadata": {},
   "source": [
    "# Problem 201: Subsets with a Unique Sum\n",
    "\n",
    "For any set $A$ of numbers, let $\\operatorname{sum}(A)$ be the sum of the elements of $A$.\n",
    "Consider the set $B = \\{1,3,6,8,10,11\\}$.\n",
    "There are $20$ subsets of $B$ containing three elements, and their sums are:\n",
    "\n",
    "\\begin{align}\n",
    "\\operatorname{sum}(\\{1,3,6\\}) &= 10, \\nonumber \\\\\n",
    "\\operatorname{sum}(\\{1,3,8\\}) &= 12, \\nonumber \\\\\n",
    "\\operatorname{sum}(\\{1,3,10\\}) &= 14, \\nonumber \\\\\n",
    "\\operatorname{sum}(\\{1,3,11\\}) &= 15, \\nonumber \\\\\n",
    "\\operatorname{sum}(\\{1,6,8\\}) &= 15, \\nonumber \\\\\n",
    "\\operatorname{sum}(\\{1,6,10\\}) &= 17, \\nonumber \\\\\n",
    "\\operatorname{sum}(\\{1,6,11\\}) &= 18, \\nonumber \\\\\n",
    "\\operatorname{sum}(\\{1,8,10\\}) &= 19, \\nonumber \\\\\n",
    "\\operatorname{sum}(\\{1,8,11\\}) &= 20, \\nonumber \\\\\n",
    "\\operatorname{sum}(\\{1,10,11\\}) &= 22, \\nonumber \\\\\n",
    "\\operatorname{sum}(\\{3,6,8\\}) &= 17, \\nonumber \\\\\n",
    "\\operatorname{sum}(\\{3,6,10\\}) &= 19, \\nonumber \\\\\n",
    "\\operatorname{sum}(\\{3,6,11\\}) &= 20, \\nonumber \\\\\n",
    "\\operatorname{sum}(\\{3,8,10\\}) &= 21, \\nonumber \\\\\n",
    "\\operatorname{sum}(\\{3,8,11\\}) &= 22, \\nonumber \\\\\n",
    "\\operatorname{sum}(\\{3,10,11\\}) &= 24, \\nonumber \\\\\n",
    "\\operatorname{sum}(\\{6,8,10\\}) &= 24, \\nonumber \\\\\n",
    "\\operatorname{sum}(\\{6,8,11\\}) &= 25, \\nonumber \\\\\n",
    "\\operatorname{sum}(\\{6,10,11\\}) &= 27, \\nonumber \\\\\n",
    "\\operatorname{sum}(\\{8,10,11\\}) &= 29. \\nonumber \n",
    "\\end{align}\n",
    "\n",
    "Some of these sums occur more than once, others are unique.\\\n",
    "For a set $A$, let $U(A,k)$ be the set of unique sums of $k$-element subsets of $A$, in our example we find $U(B,3) = \\{10,12,14,18,21,25,27,29\\}$ and $\\operatorname{sum}(U(B,3)) = 156$.\n",
    "\n",
    "Now consider the $100$-element set $S = \\{1^2, 2^2, \\dots, 100^2\\}$.\\\n",
    "S has $100891344545564193334812497256$ $50$-element subsets.\n",
    "\n",
    "Determine the sum of all integers which are the sum of exactly one of the $50$-element subsets of $S$, i.e. find $\\operatorname{sum}(U(S,50))$."
   ]
  },
  {
   "cell_type": "markdown",
   "metadata": {},
   "source": []
  }
 ],
 "metadata": {
  "language_info": {
   "name": "python"
  }
 },
 "nbformat": 4,
 "nbformat_minor": 2
}
