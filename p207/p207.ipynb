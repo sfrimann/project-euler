{
 "cells": [
  {
   "cell_type": "markdown",
   "metadata": {},
   "source": [
    "# Problem 207: Integer Partition Equations\n",
    "\n",
    "For some positive integers $k$, there exists an integer partition of the form $4^t = 2^t + k$,\\\n",
    "where $4^t$, $2^t$, and $k$ are all positive integers and $t$ is a real number.\n",
    "\n",
    "The first two such partitions are $4^1 = 2^1 + 2$ and $4^{1.5849625\\cdots} = 2^{1.5849625\\cdots} + 6$.\n",
    "\n",
    "Partitions where $t$ is also an integer are called <dfn>perfect</dfn>.\\\n",
    "For any $m \\ge 1$ let $P(m)$ be the proportion of such partitions that are perfect with $k \\le m$.\\\n",
    "Thus $P(6) = 1/2$.\n",
    "\n",
    "In the following table are listed some values of $P(m)$.\n",
    "\n",
    "\\begin{align}\n",
    "P(5) &= 1/1 \\nonumber \\\\\n",
    "P(10) &= 1/2 \\nonumber \\\\\n",
    "P(15) &= 2/3 \\nonumber \\\\\n",
    "P(20) &= 1/2 \\nonumber \\\\\n",
    "P(25) &= 1/2 \\nonumber \\\\\n",
    "P(30) &= 2/5 \\nonumber \\\\\n",
    "\\cdots & \\nonumber \\\\\n",
    "P(180) &= 1/4 \\nonumber \\\\\n",
    "P(185) &= 3/13 \\nonumber \n",
    "\\end{align}\n",
    "\n",
    "\n",
    "Find the smallest $m$ for which $P(m) \\lt 1/12345$."
   ]
  },
  {
   "cell_type": "code",
   "execution_count": 8,
   "metadata": {},
   "outputs": [
    {
     "name": "stdout",
     "output_type": "stream",
     "text": [
      "t(6) =  1.584962500721156\n",
      "t(2) =  1.0\n"
     ]
    }
   ],
   "source": [
    "from math import log2, sqrt\n",
    "\n",
    "\n",
    "def t(k: int) -> float:\n",
    "    return log2(sqrt(4 * k + 1) + 1) - 1\n",
    "\n",
    "\n",
    "print(\"t(6) = \", t(6))\n",
    "print(\"t(2) = \", t(2))"
   ]
  },
  {
   "cell_type": "code",
   "execution_count": 54,
   "metadata": {},
   "outputs": [
    {
     "name": "stdout",
     "output_type": "stream",
     "text": [
      "44043947822\n"
     ]
    }
   ],
   "source": [
    "from itertools import count\n",
    "from math import isclose\n",
    "\n",
    "num_partitions = 1\n",
    "num_perfect = 1\n",
    "for _n in count(1):\n",
    "    n = lambda x: (x+1)*(x+2) # using wolfram alpha reveals that all solutions for k follow this pattern\n",
    "    k = n(_n)\n",
    "    _t = t(k)\n",
    "    t2_mod_1 = pow(2, _t)\n",
    "    t4_mod_1 = pow(4, _t)\n",
    "    if isclose(t2_mod_1, round(t2_mod_1)) and isclose(t4_mod_1, round(t4_mod_1)):\n",
    "        num_partitions += 1\n",
    "        if isclose(_t, round(_t)):\n",
    "            num_perfect += 1\n",
    "    if num_perfect / num_partitions < 1 / 12345:\n",
    "        break\n",
    "print(k)"
   ]
  }
 ],
 "metadata": {
  "kernelspec": {
   "display_name": "project-euler",
   "language": "python",
   "name": "python3"
  },
  "language_info": {
   "codemirror_mode": {
    "name": "ipython",
    "version": 3
   },
   "file_extension": ".py",
   "mimetype": "text/x-python",
   "name": "python",
   "nbconvert_exporter": "python",
   "pygments_lexer": "ipython3",
   "version": "3.12.2"
  }
 },
 "nbformat": 4,
 "nbformat_minor": 2
}
