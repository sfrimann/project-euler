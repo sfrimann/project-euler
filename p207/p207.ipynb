{
 "cells": [
  {
   "cell_type": "markdown",
   "metadata": {},
   "source": [
    "# Problem 207: Integer Partition Equations\n",
    "\n",
    "For some positive integers $k$, there exists an integer partition of the form $4^t = 2^t + k$,\\\n",
    "where $4^t$, $2^t$, and $k$ are all positive integers and $t$ is a real number.\n",
    "\n",
    "The first two such partitions are $4^1 = 2^1 + 2$ and $4^{1.5849625\\cdots} = 2^{1.5849625\\cdots} + 6$.\n",
    "\n",
    "Partitions where $t$ is also an integer are called <dfn>perfect</dfn>.\\\n",
    "For any $m \\ge 1$ let $P(m)$ be the proportion of such partitions that are perfect with $k \\le m$.\\\n",
    "Thus $P(6) = 1/2$.\n",
    "\n",
    "In the following table are listed some values of $P(m)$.\n",
    "\n",
    "\\begin{align}\n",
    "P(5) &= 1/1 \\nonumber \\\\\n",
    "P(10) &= 1/2 \\nonumber \\\\\n",
    "P(15) &= 2/3 \\nonumber \\\\\n",
    "P(20) &= 1/2 \\nonumber \\\\\n",
    "P(25) &= 1/2 \\nonumber \\\\\n",
    "P(30) &= 2/5 \\nonumber \\\\\n",
    "\\cdots & \\nonumber \\\\\n",
    "P(180) &= 1/4 \\nonumber \\\\\n",
    "P(185) &= 3/13 \\nonumber \n",
    "\\end{align}\n",
    "\n",
    "\n",
    "Find the smallest $m$ for which $P(m) \\lt 1/12345$."
   ]
  },
  {
   "cell_type": "markdown",
   "metadata": {},
   "source": []
  }
 ],
 "metadata": {
  "kernelspec": {
   "display_name": "project-euler",
   "language": "python",
   "name": "python3"
  },
  "language_info": {
   "name": "python",
   "version": "3.12.2"
  }
 },
 "nbformat": 4,
 "nbformat_minor": 2
}
