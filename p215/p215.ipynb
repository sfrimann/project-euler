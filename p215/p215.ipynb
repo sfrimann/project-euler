{
 "cells": [
  {
   "cell_type": "markdown",
   "metadata": {},
   "source": [
    "# Problem 215: Crack-free Walls\n",
    "\n",
    "Consider the problem of building a wall out of $2 \\times 1$ and $3 \\times 1$ bricks ($\\text{horizontal} \\times \\text{vertical}$ dimensions) such that, for extra strength, the gaps between horizontally-adjacent bricks never line up in consecutive layers, i.e. never form a \"running crack\".\n",
    "\n",
    "For example, the following $9 \\times 3$ wall is not acceptable due to the running crack shown in red:\n",
    "\n",
    "![](0215_crackfree.gif)\n",
    "\n",
    "There are eight ways of forming a crack-free $9 \\times 3$ wall, written $W(9,3) = 8$.\n",
    "\n",
    "Calculate $W(32,10)$."
   ]
  },
  {
   "cell_type": "code",
   "execution_count": 45,
   "metadata": {},
   "outputs": [
    {
     "name": "stdout",
     "output_type": "stream",
     "text": [
      "possible crack positions for row with len = 9: [frozenset({2, 4, 6}), frozenset({2, 4, 7}), frozenset({2, 5, 7}), frozenset({3, 5, 7}), frozenset({3, 6})]\n"
     ]
    }
   ],
   "source": [
    "from itertools import accumulate\n",
    "from typing import List\n",
    "\n",
    "\n",
    "def crack_positions(row_length: int) -> List[List[int]]:\n",
    "    def _build_rows(brick_length: int, row_length: int) -> List[List[int]]:\n",
    "        if row_length < 0:\n",
    "            return [None]\n",
    "        elif row_length == 0:\n",
    "            return [[brick_length]]\n",
    "        else:\n",
    "            return [\n",
    "                [brick_length] + _\n",
    "                for _ in _build_rows(2, row_length - 2)\n",
    "                if _ is not None\n",
    "            ] + [\n",
    "                [brick_length] + _\n",
    "                for _ in _build_rows(3, row_length - 3)\n",
    "                if _ is not None\n",
    "            ]\n",
    "\n",
    "    if row_length < 4:\n",
    "        return set()\n",
    "    else:\n",
    "        rows = _build_rows(2, row_length - 2) + _build_rows(3, row_length - 3)\n",
    "        return [frozenset(list(accumulate(row))[:-1]) for row in rows]\n",
    "\n",
    "\n",
    "# sanity checks\n",
    "print(\"possible crack positions for row with len = 9:\", crack_positions(9))"
   ]
  },
  {
   "cell_type": "code",
   "execution_count": 51,
   "metadata": {},
   "outputs": [
    {
     "name": "stdout",
     "output_type": "stream",
     "text": [
      "W(9, 3) = 8\n",
      "W(32, 10) = 806844323190414\n"
     ]
    }
   ],
   "source": [
    "from functools import cache\n",
    "from typing import Set\n",
    "\n",
    "\n",
    "def W(length: int, height: int) -> int:\n",
    "    rows = crack_positions(length)\n",
    "\n",
    "    @cache\n",
    "    def _w(boundary: Set[int], height: int) -> int:\n",
    "        if height == 0:\n",
    "            return 1\n",
    "        nsol = 0\n",
    "        for row in rows:\n",
    "            if len(boundary.intersection(row)) == 0:\n",
    "                nsol += _w(row, height - 1)\n",
    "        return nsol\n",
    "\n",
    "    nsol = 0\n",
    "    _w.cache_clear()\n",
    "    for row in rows:\n",
    "        nsol += _w(row, height - 1)\n",
    "\n",
    "    return nsol\n",
    "\n",
    "\n",
    "print(\"W(9, 3) =\", W(9, 3))\n",
    "print(\"W(32, 10) =\", W(32, 10))"
   ]
  }
 ],
 "metadata": {
  "kernelspec": {
   "display_name": "project-euler",
   "language": "python",
   "name": "python3"
  },
  "language_info": {
   "codemirror_mode": {
    "name": "ipython",
    "version": 3
   },
   "file_extension": ".py",
   "mimetype": "text/x-python",
   "name": "python",
   "nbconvert_exporter": "python",
   "pygments_lexer": "ipython3",
   "version": "3.12.2"
  }
 },
 "nbformat": 4,
 "nbformat_minor": 2
}
