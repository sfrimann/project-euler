{
 "cells": [
  {
   "cell_type": "markdown",
   "metadata": {},
   "source": [
    "# Problem 215: Crack-free Walls\n",
    "\n",
    "Consider the problem of building a wall out of $2 \\times 1$ and $3 \\times 1$ bricks ($\\text{horizontal} \\times \\text{vertical}$ dimensions) such that, for extra strength, the gaps between horizontally-adjacent bricks never line up in consecutive layers, i.e. never form a \"running crack\".\n",
    "\n",
    "For example, the following $9 \\times 3$ wall is not acceptable due to the running crack shown in red:\n",
    "\n",
    "![](0215_crackfree.gif)\n",
    "\n",
    "There are eight ways of forming a crack-free $9 \\times 3$ wall, written $W(9,3) = 8$.\n",
    "\n",
    "Calculate $W(32,10)$."
   ]
  },
  {
   "cell_type": "markdown",
   "metadata": {},
   "source": []
  }
 ],
 "metadata": {
  "language_info": {
   "name": "python"
  }
 },
 "nbformat": 4,
 "nbformat_minor": 2
}
