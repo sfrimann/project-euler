{
 "cells": [
  {
   "cell_type": "markdown",
   "metadata": {},
   "source": [
    "# Problem 239: Twenty-two Foolish Primes\n",
    "\n",
    "A set of disks numbered $1$ through $100$ are placed in a line in random order.\n",
    "\n",
    "What is the probability that we have a partial derangement such that exactly $22$ prime number discs are found away from their natural positions?<br>\n",
    "(Any number of non-prime disks may also be found in or out of their natural positions.)\n",
    "\n",
    "Give your answer rounded to $12$ places behind the decimal point in the form 0.abcdefghijkl."
   ]
  },
  {
   "cell_type": "markdown",
   "metadata": {},
   "source": []
  }
 ],
 "metadata": {
  "language_info": {
   "name": "python"
  }
 },
 "nbformat": 4,
 "nbformat_minor": 2
}
