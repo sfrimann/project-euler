{
 "cells": [
  {
   "cell_type": "markdown",
   "metadata": {},
   "source": [
    "# Problem 239: Twenty-two Foolish Primes\n",
    "\n",
    "A set of disks numbered $1$ through $100$ are placed in a line in random order.\n",
    "\n",
    "What is the probability that we have a partial derangement such that exactly $22$ prime number discs are found away from their natural positions?<br>\n",
    "(Any number of non-prime disks may also be found in or out of their natural positions.)\n",
    "\n",
    "Give your answer rounded to $12$ places behind the decimal point in the form 0.abcdefghijkl."
   ]
  },
  {
   "cell_type": "code",
   "execution_count": 9,
   "metadata": {},
   "outputs": [
    {
     "data": {
      "text/plain": [
       "1334961"
      ]
     },
     "execution_count": 9,
     "metadata": {},
     "output_type": "execute_result"
    }
   ],
   "source": [
    "# brute force\n",
    "\n",
    "from itertools import permutations\n",
    "\n",
    "\n",
    "# N disks total\n",
    "# n special disks\n",
    "# k fixed disks\n",
    "def pd_brute_force(N: int, n: int, k: int) -> int:\n",
    "    special_positions = tuple(range(n))\n",
    "    num_partial_derangements = 0\n",
    "    for p in permutations(range(N)):\n",
    "        num_fixed = sum(1 for i in special_positions if p[i] == i)\n",
    "        num_partial_derangements += 1 if num_fixed == k else 0\n",
    "    return num_partial_derangements\n",
    "\n",
    "\n",
    "pd_brute_force(10, 10, 0)"
   ]
  },
  {
   "cell_type": "code",
   "execution_count": 61,
   "metadata": {},
   "outputs": [],
   "source": [
    "# inclusion/exclusion\n",
    "def pd(num_disk: int, num_special: int, num_fixed: int) -> int:\n",
    "    subtotal = sum(\n",
    "        (-1) ** i\n",
    "        * comb(num_special - num_fixed, i)\n",
    "        * factorial(num_disk - num_fixed - i)\n",
    "        for i in range(num_special - num_fixed + 1)\n",
    "    )\n",
    "    return comb(num_special, num_fixed) * subtotal"
   ]
  },
  {
   "cell_type": "code",
   "execution_count": 63,
   "metadata": {},
   "outputs": [
    {
     "name": "stdout",
     "output_type": "stream",
     "text": [
      "partial derangements = 0.001887854841\n"
     ]
    }
   ],
   "source": [
    "print(\"partial derangements =\", round(pd(100, 25, 3) / factorial(100), 12))"
   ]
  }
 ],
 "metadata": {
  "kernelspec": {
   "display_name": "project-euler",
   "language": "python",
   "name": "python3"
  },
  "language_info": {
   "codemirror_mode": {
    "name": "ipython",
    "version": 3
   },
   "file_extension": ".py",
   "mimetype": "text/x-python",
   "name": "python",
   "nbconvert_exporter": "python",
   "pygments_lexer": "ipython3",
   "version": "3.12.2"
  }
 },
 "nbformat": 4,
 "nbformat_minor": 2
}
