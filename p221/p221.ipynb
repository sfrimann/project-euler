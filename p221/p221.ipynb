{
 "cells": [
  {
   "cell_type": "markdown",
   "metadata": {},
   "source": [
    "# Problem 221: Alexandrian Integers\n",
    "\n",
    "We shall call a positive integer $A$ an \"Alexandrian integer\", if there exist integers $p, q, r$ such that:\n",
    "\n",
    "$$A = p \\cdot q \\cdot r$$\n",
    "and\n",
    "$$\\dfrac{1}{A} = \\dfrac{1}{p} + \\dfrac{1}{q} + \\dfrac{1}{r}.$$\n",
    "\n",
    "For example, $630$ is an Alexandrian integer ($p = 5, q = -7, r = -18$).\n",
    "In fact, $630$ is the $6$<sup>th</sup> Alexandrian integer,  the first $6$ Alexandrian integers being: $6, 42, 120, 156, 420$, and $630$.\n",
    "\n",
    "Find the $150000$<sup>th</sup> Alexandrian integer."
   ]
  },
  {
   "cell_type": "markdown",
   "metadata": {},
   "source": [
    "## Thoughts\n",
    "\n",
    "Since $A$ is positive two or none of $pqr$ must be negative.\n",
    "\n",
    "Since $1/A < \\{1/p, 1/q, 1/r\\}$ there must be at least one negative among $pqr$.\n",
    "\n",
    "This means that two of the numbers must be negative.\n",
    "\n",
    "We can also deduce that the positive value must be the smallest, and that this has to be unique. Therfore we can say that $p < |q| \\le |r|$.\n",
    "\n",
    "Setting\n",
    "\n",
    "$$\\frac{1}{A} = \\frac{1}{pqr} = \\frac{1}{p} + \\frac{1}{q} + \\frac{1}{r} \\iff 1 = pq + pr + qr$$\n",
    "\n",
    "We can solve to give an expression for r given the other two\n",
    "\n",
    "$$\n",
    "|r| = \\frac{1 + p|q|}{|q|-p}\n",
    "$$\n",
    "\n",
    "We can solve by iterating over $p$ and $q$ and accepting integer solutions\n",
    "\n",
    "To bound $q$ note that $q$ will be maximum when $q = r$, which for a given p implires\n",
    "\n",
    "$$|q|_\\mathrm{max} = \\sqrt{p^2 + 1} + p$$"
   ]
  },
  {
   "cell_type": "code",
   "execution_count": 60,
   "metadata": {},
   "outputs": [
    {
     "name": "stdout",
     "output_type": "stream",
     "text": [
      "595565\n",
      "(630, (5, 7, 18))\n",
      "(1884161251122450, (69073, 89238, 305675))\n"
     ]
    }
   ],
   "source": [
    "from itertools import count\n",
    "from math import sqrt\n",
    "\n",
    "A = []\n",
    "for p in range(1, 100000):\n",
    "    qmax = int(sqrt(p**2 + 1) + p)\n",
    "    for q in range(qmax, p, -1):\n",
    "        r = (1 + p * q) // (q - p)\n",
    "        if (1 + p * q) % (q - p) == 0:\n",
    "            r = (1 + p * q) // (q - p)\n",
    "            A.append((p * q * r, (p, q, r)))\n",
    "print(len(A))\n",
    "print(sorted(A)[5])\n",
    "print(sorted(A)[150000 - 1])"
   ]
  },
  {
   "cell_type": "markdown",
   "metadata": {},
   "source": []
  }
 ],
 "metadata": {
  "kernelspec": {
   "display_name": "project-euler",
   "language": "python",
   "name": "python3"
  },
  "language_info": {
   "codemirror_mode": {
    "name": "ipython",
    "version": 3
   },
   "file_extension": ".py",
   "mimetype": "text/x-python",
   "name": "python",
   "nbconvert_exporter": "python",
   "pygments_lexer": "ipython3",
   "version": "3.12.2"
  }
 },
 "nbformat": 4,
 "nbformat_minor": 2
}
