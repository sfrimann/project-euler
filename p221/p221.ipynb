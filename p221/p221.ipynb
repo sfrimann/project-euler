{
 "cells": [
  {
   "cell_type": "markdown",
   "metadata": {},
   "source": [
    "# Problem 221: Alexandrian Integers\n",
    "\n",
    "We shall call a positive integer $A$ an \"Alexandrian integer\", if there exist integers $p, q, r$ such that:\n",
    "\n",
    "$$A = p \\cdot q \\cdot r$$\n",
    "and\n",
    "$$\\dfrac{1}{A} = \\dfrac{1}{p} + \\dfrac{1}{q} + \\dfrac{1}{r}.$$\n",
    "\n",
    "For example, $630$ is an Alexandrian integer ($p = 5, q = -7, r = -18$).\n",
    "In fact, $630$ is the $6$<sup>th</sup> Alexandrian integer,  the first $6$ Alexandrian integers being: $6, 42, 120, 156, 420$, and $630$.\n",
    "\n",
    "Find the $150000$<sup>th</sup> Alexandrian integer."
   ]
  },
  {
   "cell_type": "markdown",
   "metadata": {},
   "source": []
  }
 ],
 "metadata": {
  "language_info": {
   "name": "python"
  }
 },
 "nbformat": 4,
 "nbformat_minor": 2
}
