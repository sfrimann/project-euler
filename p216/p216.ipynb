{
 "cells": [
  {
   "cell_type": "markdown",
   "metadata": {},
   "source": [
    "# Problem 216: The Primality of $2n^2 - 1$\n",
    "\n",
    "Consider numbers $t(n)$ of the form $t(n) = 2n^2 - 1$ with $n \\gt 1$.\\\n",
    "The first such numbers are $7, 17, 31, 49, 71, 97, 127$ and $161$.\\\n",
    "It turns out that only $49 = 7 \\cdot 7$ and $161 = 7 \\cdot 23$ are not prime.\\\n",
    "For $n \\le 10000$ there are $2202$ numbers $t(n)$ that are prime.\n",
    "\n",
    "How many numbers $t(n)$ are prime for $n \\le 50\\,000\\,000$?"
   ]
  },
  {
   "cell_type": "code",
   "execution_count": 4,
   "metadata": {},
   "outputs": [
    {
     "name": "stdout",
     "output_type": "stream",
     "text": [
      "Result: 5437849\n"
     ]
    }
   ],
   "source": [
    "from sympy import isprime\n",
    "\n",
    "\n",
    "def t(n: int) -> int:\n",
    "    return 2 * n**2 - 1\n",
    "\n",
    "\n",
    "nmax = 50000000\n",
    "\n",
    "_count = 0\n",
    "for n in range(1, nmax + 1):\n",
    "    if isprime(t(n)):\n",
    "        _count += 1\n",
    "\n",
    "\n",
    "print(\"Result:\", _count)"
   ]
  },
  {
   "cell_type": "code",
   "execution_count": null,
   "metadata": {},
   "outputs": [],
   "source": []
  }
 ],
 "metadata": {
  "kernelspec": {
   "display_name": "project-euler",
   "language": "python",
   "name": "python3"
  },
  "language_info": {
   "codemirror_mode": {
    "name": "ipython",
    "version": 3
   },
   "file_extension": ".py",
   "mimetype": "text/x-python",
   "name": "python",
   "nbconvert_exporter": "python",
   "pygments_lexer": "ipython3",
   "version": "3.12.2"
  }
 },
 "nbformat": 4,
 "nbformat_minor": 2
}
