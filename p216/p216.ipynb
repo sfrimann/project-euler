{
 "cells": [
  {
   "cell_type": "markdown",
   "metadata": {},
   "source": [
    "# Problem 216: The Primality of $2n^2 - 1$\n",
    "\n",
    "Consider numbers $t(n)$ of the form $t(n) = 2n^2 - 1$ with $n \\gt 1$.\\\n",
    "The first such numbers are $7, 17, 31, 49, 71, 97, 127$ and $161$.\\\n",
    "It turns out that only $49 = 7 \\cdot 7$ and $161 = 7 \\cdot 23$ are not prime.\\\n",
    "For $n \\le 10000$ there are $2202$ numbers $t(n)$ that are prime.\n",
    "\n",
    "How many numbers $t(n)$ are prime for $n \\le 50\\,000\\,000$?"
   ]
  },
  {
   "cell_type": "markdown",
   "metadata": {},
   "source": []
  }
 ],
 "metadata": {
  "language_info": {
   "name": "python"
  }
 },
 "nbformat": 4,
 "nbformat_minor": 2
}
