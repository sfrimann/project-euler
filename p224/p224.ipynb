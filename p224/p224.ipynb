{
 "cells": [
  {
   "cell_type": "markdown",
   "metadata": {},
   "source": [
    "# Problem 224: Almost Right-angled Triangles II\n",
    "\n",
    "Let us call an integer sided triangle with sides $a \\le b \\le c$ <dfn>barely obtuse</dfn> if the sides satisfy <br>$a^2 + b^2 = c^2 - 1$.\n",
    "\n",
    "How many barely obtuse triangles are there with perimeter $\\le 75\\,000\\,000$?\n"
   ]
  },
  {
   "cell_type": "markdown",
   "metadata": {},
   "source": []
  }
 ],
 "metadata": {
  "language_info": {
   "name": "python"
  }
 },
 "nbformat": 4,
 "nbformat_minor": 2
}
