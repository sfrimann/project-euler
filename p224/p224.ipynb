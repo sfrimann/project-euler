{
 "cells": [
  {
   "cell_type": "markdown",
   "metadata": {},
   "source": [
    "# Problem 224: Almost Right-angled Triangles II\n",
    "\n",
    "Let us call an integer sided triangle with sides $a \\le b \\le c$ <dfn>barely obtuse</dfn> if the sides satisfy <br>$a^2 + b^2 = c^2 - 1$.\n",
    "\n",
    "How many barely obtuse triangles are there with perimeter $\\le 75\\,000\\,000$?\n"
   ]
  },
  {
   "cell_type": "code",
   "execution_count": 13,
   "metadata": {},
   "outputs": [
    {
     "name": "stdout",
     "output_type": "stream",
     "text": [
      "543\n"
     ]
    }
   ],
   "source": [
    "# brute force\n",
    "\n",
    "from math import isqrt\n",
    "\n",
    "pmax = 10**4\n",
    "\n",
    "ntriple = 0\n",
    "for a in range(1, pmax // 2 + 1):\n",
    "    for b in range(a, pmax // 2 + 1):\n",
    "        c2 = a**2 + b**2 + 1\n",
    "        c = isqrt(c2)\n",
    "        if a + b + c > pmax:\n",
    "            break\n",
    "        if c2 == c * c:\n",
    "            ntriple += 1\n",
    "print(ntriple)"
   ]
  },
  {
   "cell_type": "code",
   "execution_count": 14,
   "metadata": {},
   "outputs": [],
   "source": [
    "# generates primitive pythagorean triplets from a primitive seed (a0, b0, c0)\n",
    "# Based on multiplication with matrices U, A, D from https://mathworld.wolfram.com/PythagoreanTriple.html\n",
    "# if a == b two of the generated triplets are duplicated, hence the condition in the function\n",
    "# turns out this also works for equations of the form a^ + b^2 = c^2 +/- k\n",
    "def pythagorean_triplet(a: int, b: int, c: int, pmax: int):\n",
    "    stack = [(a, b, c)]\n",
    "    while stack:\n",
    "        a, b, c = stack.pop()\n",
    "        if a + b + c <= pmax:\n",
    "            yield (a, b, c)\n",
    "            stack.append((2 * c + b - 2 * a, 2 * c + 2 * b - a, 3 * c + 2 * b - 2 * a))\n",
    "            stack.append((2 * c + b + 2 * a, 2 * c + 2 * b + a, 3 * c + 2 * b + 2 * a))\n",
    "            if a != b:\n",
    "                stack.append(\n",
    "                    (2 * c - 2 * b + a, 2 * c - b + 2 * a, 3 * c - 2 * b + 2 * a)\n",
    "                )"
   ]
  },
  {
   "cell_type": "code",
   "execution_count": 15,
   "metadata": {},
   "outputs": [
    {
     "name": "stdout",
     "output_type": "stream",
     "text": [
      "Number of barely obtuce triagnles: 4137330\n"
     ]
    }
   ],
   "source": [
    "pmax = 75 * 10**6\n",
    "\n",
    "ntriple = 0\n",
    "# (2, 2, 3) is base case identified by brute force search above\n",
    "for a, b, c in pythagorean_triplet(2, 2, 3, pmax):\n",
    "    ntriple += 1\n",
    "\n",
    "print(\"Number of barely obtuce triagnles:\", ntriple)"
   ]
  },
  {
   "cell_type": "code",
   "execution_count": null,
   "metadata": {},
   "outputs": [],
   "source": []
  }
 ],
 "metadata": {
  "kernelspec": {
   "display_name": "project-euler",
   "language": "python",
   "name": "python3"
  },
  "language_info": {
   "codemirror_mode": {
    "name": "ipython",
    "version": 3
   },
   "file_extension": ".py",
   "mimetype": "text/x-python",
   "name": "python",
   "nbconvert_exporter": "python",
   "pygments_lexer": "ipython3",
   "version": "3.12.2"
  }
 },
 "nbformat": 4,
 "nbformat_minor": 2
}
