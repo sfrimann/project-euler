{
 "cells": [
  {
   "cell_type": "markdown",
   "metadata": {},
   "source": [
    "# Problem 225: Tribonacci Non-divisors\n",
    "\n",
    "The sequence $1, 1, 1, 3, 5, 9, 17, 31, 57, 105, 193, 355, 653, 1201, \\dots$<br>\n",
    "is defined by $T_1 = T_2 = T_3 = 1$ and $T_n = T_{n - 1} + T_{n - 2} + T_{n - 3}$.\n",
    "\n",
    "It can be shown that $27$ does not divide any terms of this sequence.<br>In fact, $27$ is the first odd number with this property.\n",
    "\n",
    "Find the $124$<sup>th</sup> odd number that does not divide any terms of the above sequence."
   ]
  },
  {
   "cell_type": "code",
   "execution_count": 6,
   "metadata": {},
   "outputs": [
    {
     "name": "stdout",
     "output_type": "stream",
     "text": [
      "3 3\n",
      "6 6\n"
     ]
    }
   ],
   "source": [
    "from functools import cache\n",
    "\n",
    "\n",
    "@cache\n",
    "def T(n: int, mod=None) -> int:\n",
    "    if n <= 0:\n",
    "        return 0\n",
    "    if n <= 3:\n",
    "        return 1\n",
    "    else:\n",
    "        if mod is None:\n",
    "            return T(n - 1) + T(n - 2) + T(n - 3)\n",
    "        else:\n",
    "            return ((T(n - 1, mod) + T(n - 2, mod)) % mod + T(n - 3, mod)) % mod\n",
    "\n",
    "\n",
    "# sanity check\n",
    "print(T(100) % 27, T(100, 27))\n",
    "print(T(134) % 13, T(134, 13))"
   ]
  },
  {
   "cell_type": "code",
   "execution_count": 7,
   "metadata": {},
   "outputs": [
    {
     "name": "stdout",
     "output_type": "stream",
     "text": [
      "124th non divisor: 2009\n"
     ]
    }
   ],
   "source": [
    "from itertools import count\n",
    "\n",
    "T.cache_clear()\n",
    "non_divisors = []\n",
    "for trial in count(3, 2):\n",
    "    remainders = []\n",
    "    for n in count(1):\n",
    "        rem = T(n, trial)\n",
    "        if rem == 0:\n",
    "            break  # is divisor\n",
    "        elif len(remainders) < 20:\n",
    "            remainders.append(rem)\n",
    "        else:\n",
    "            remainders.append(rem)\n",
    "            # if ten last remainders are equal to the ten first, I assume that we have reached a cycle and that the trial is a non-divisor\n",
    "            if remainders[:10] == remainders[-10:]:\n",
    "                non_divisors.append(trial)\n",
    "                break\n",
    "    if len(non_divisors) == 124:\n",
    "        break\n",
    "print(\"124th non divisor:\", non_divisors[-1])"
   ]
  }
 ],
 "metadata": {
  "kernelspec": {
   "display_name": "project-euler",
   "language": "python",
   "name": "python3"
  },
  "language_info": {
   "codemirror_mode": {
    "name": "ipython",
    "version": 3
   },
   "file_extension": ".py",
   "mimetype": "text/x-python",
   "name": "python",
   "nbconvert_exporter": "python",
   "pygments_lexer": "ipython3",
   "version": "3.12.2"
  }
 },
 "nbformat": 4,
 "nbformat_minor": 2
}
