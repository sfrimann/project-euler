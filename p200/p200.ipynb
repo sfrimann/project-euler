{
 "cells": [
  {
   "cell_type": "markdown",
   "metadata": {},
   "source": [
    "# Problem 200: Prime-proof Squbes\n",
    "\n",
    "We shall define a sqube to be a number of the form, $p^2 q^3$, where $p$ and $q$ are distinct primes.\n",
    "For example, $200 = 5^2 2^3$ or $120072949 = 23^2 61^3$.\n",
    "\n",
    "The first five squbes are $72, 108, 200, 392$, and $500$.\n",
    "\n",
    "Interestingly, $200$ is also the first number for which you cannot change any single digit to make a prime; we shall call such numbers, prime-proof. The next prime-proof sqube which contains the contiguous sub-string \"$200$\" is $1992008$.\n",
    "\n",
    "Find the $200$th prime-proof sqube containing the contiguous sub-string \"$200$\"."
   ]
  },
  {
   "cell_type": "code",
   "execution_count": 1,
   "metadata": {},
   "outputs": [
    {
     "name": "stdout",
     "output_type": "stream",
     "text": [
      "True\n",
      "True\n",
      "False\n"
     ]
    }
   ],
   "source": [
    "def contains200(n: int) -> bool:\n",
    "    if \"200\" in str(n):\n",
    "        return True\n",
    "    else:\n",
    "        return False\n",
    "\n",
    "\n",
    "# sanity checks\n",
    "print(contains200(200))\n",
    "print(contains200(12001))\n",
    "print(contains200(12010))"
   ]
  },
  {
   "cell_type": "code",
   "execution_count": 3,
   "metadata": {},
   "outputs": [
    {
     "name": "stdout",
     "output_type": "stream",
     "text": [
      "[1231, 1233, 1239, 1237]\n",
      "[12004, 12014, 12024, 12044, 12054, 12064, 12074, 12084, 12094]\n"
     ]
    }
   ],
   "source": [
    "firstDigits = set([1, 2, 3, 4, 5, 6, 7, 8, 9])\n",
    "middleDigits = set([0, 1, 2, 3, 4, 5, 6, 7, 8, 9])\n",
    "lastDigits = set([1, 3, 7, 9])\n",
    "\n",
    "\n",
    "def replaceIthDigit(n: int, i: int, numDigits: int) -> int:\n",
    "    if i >= numDigits:\n",
    "        raise ValueError(f\"{i}, {n}\")\n",
    "\n",
    "    power = 10 ** (i)\n",
    "    digitToReplace = n // power % 10\n",
    "\n",
    "    if i == 0:\n",
    "        digitsToChooseFrom = lastDigits - {digitToReplace}\n",
    "    elif i < numDigits - 1:\n",
    "        digitsToChooseFrom = middleDigits - {digitToReplace}\n",
    "    else:\n",
    "        digitsToChooseFrom = firstDigits - {digitToReplace}\n",
    "\n",
    "    withoutDigit = n // (10 * power) * 10 * power + n % (power)\n",
    "    return [withoutDigit + newDigit * power for newDigit in digitsToChooseFrom]\n",
    "\n",
    "\n",
    "# sanity checks\n",
    "print(replaceIthDigit(1234, 0, 4))\n",
    "print(replaceIthDigit(12034, 1, 4))"
   ]
  },
  {
   "cell_type": "code",
   "execution_count": 5,
   "metadata": {},
   "outputs": [
    {
     "name": "stdout",
     "output_type": "stream",
     "text": [
      "[121, 123, 129, 127]\n",
      "[121, 123, 129, 107, 117, 137, 147, 157, 167, 177, 187, 197, 227, 327, 427, 527, 627, 727, 827, 927]\n"
     ]
    }
   ],
   "source": [
    "from math import ceil, log10\n",
    "\n",
    "\n",
    "def buildTrialNumbers(n: int) -> list[int]:\n",
    "    lastDigit = n % 10\n",
    "    if lastDigit in [\n",
    "        0,\n",
    "        2,\n",
    "        4,\n",
    "        5,\n",
    "        6,\n",
    "        8,\n",
    "    ]:  # last digit of a prime has to be 1, 3, 7 or 9 so we only  have to check these numbers\n",
    "        return [n - lastDigit + i for i in lastDigits]\n",
    "    else:  # we have to try everyting else\n",
    "        ndigit = ceil(log10(n))\n",
    "        trialNumbers = []\n",
    "        for index in range(ndigit):\n",
    "            trialNumbers.extend(replaceIthDigit(n, index, ndigit))\n",
    "        return trialNumbers\n",
    "\n",
    "\n",
    "print(buildTrialNumbers(126))\n",
    "print(buildTrialNumbers(127))"
   ]
  },
  {
   "cell_type": "code",
   "execution_count": 6,
   "metadata": {},
   "outputs": [
    {
     "name": "stdout",
     "output_type": "stream",
     "text": [
      "False\n",
      "True\n"
     ]
    }
   ],
   "source": [
    "from sympy import isprime\n",
    "\n",
    "\n",
    "def isPrimeProof(n: int) -> bool:\n",
    "    for trial in buildTrialNumbers(n):\n",
    "        if isprime(trial):\n",
    "            return False\n",
    "    return True\n",
    "\n",
    "\n",
    "# sanity check\n",
    "print(isPrimeProof(108))\n",
    "print(isPrimeProof(1992008))"
   ]
  },
  {
   "cell_type": "code",
   "execution_count": 9,
   "metadata": {},
   "outputs": [
    {
     "name": "stdout",
     "output_type": "stream",
     "text": [
      "200 229161792008\n"
     ]
    }
   ],
   "source": [
    "from sympy import sieve, prime\n",
    "\n",
    "numPrime = 10**5\n",
    "\n",
    "primes = list(sieve.primerange(prime(numPrime) + 1))\n",
    "p2q3max = primes[-1] ** 2 * 2**3\n",
    "\n",
    "p2q3 = []\n",
    "for p in primes:\n",
    "    for q in primes:\n",
    "        if p != q:\n",
    "            trial = p**2 * q**3\n",
    "            if trial <= p2q3max:\n",
    "                p2q3.append((trial, p, q))\n",
    "            else:\n",
    "                break\n",
    "\n",
    "p2q3 = sorted(p2q3)\n",
    "\n",
    "counter = 0\n",
    "for n, p, q in p2q3:\n",
    "    if contains200(n) and isPrimeProof(n):\n",
    "        counter += 1\n",
    "        if counter == 200:\n",
    "            break\n",
    "print(counter, n)"
   ]
  }
 ],
 "metadata": {
  "kernelspec": {
   "display_name": "project-euler",
   "language": "python",
   "name": "python3"
  },
  "language_info": {
   "codemirror_mode": {
    "name": "ipython",
    "version": 3
   },
   "file_extension": ".py",
   "mimetype": "text/x-python",
   "name": "python",
   "nbconvert_exporter": "python",
   "pygments_lexer": "ipython3",
   "version": "3.12.2"
  }
 },
 "nbformat": 4,
 "nbformat_minor": 2
}
