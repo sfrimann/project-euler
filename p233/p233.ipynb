{
 "cells": [
  {
   "cell_type": "markdown",
   "metadata": {},
   "source": [
    "# Problem 233: Lattice Points on a Circle\n",
    "\n",
    "Let $f(N)$ be the number of points with integer coordinates that are on a circle passing through $(0,0)$, $(N,0)$,$(0,N)$, and $(N,N)$.\n",
    "It can be shown that $f(10000) = 36$.\n",
    "\n",
    "What is the sum of all positive integers $N \\le 10^{11}$ such that $f(N) = 420$?"
   ]
  },
  {
   "cell_type": "markdown",
   "metadata": {},
   "source": [
    "## Thoughts\n",
    "\n",
    "For a given N, the problem above describes the circle\n",
    "\n",
    "$$\\frac{N}{2}^2 = \\left(x - \\frac{N}{2}\\right)^2 + \\left(y - \\frac{N}{2}\\right)^2$$\n",
    "\n",
    "For any circle, centered on the origin, the number of lattice points on the circle [is given by](https://mathworld.wolfram.com/CircleLatticePoints.html) $n(R) = r_2(R^2)$ where $r_k$ is the [sum of squares function ](https://mathworld.wolfram.com/SumofSquaresFunction.html).\n",
    "\n",
    "This means that, if $N$ is even (so that $(N/2, N/2)$ is a lattice point), $f(N) = r_2(N^2/2)$.\n",
    "\n",
    "What if $N$ is not even? We can try to look at the circle with center at $(N, N)$ and radius $N$. This corresponds to a finer mesh and will have the same integer solutions as the circle $(N/2, N/2)$ with radius $N/2$, but may also have more integer solutions since the mesh is finer.\n",
    "\n",
    "It turnes out that $r_2$ is invariant to input that are powers of two so $r_2(x) = r_2(2^nx)$ where $n$ is an integer $\\geq 0$.\n",
    "\n",
    "This means that, without loss of generality, we can simply consider integer solutions to circles with radius $N$ instead of $N/2$. that is $f(N) = f(2N) = r_2(2N^2)$. In fact, since factors of two are unimportant we can simply say\n",
    "\n",
    "$f(N) = r_2(N^2)$\n",
    "\n",
    "## Nature of $r_2(n)$\n",
    "\n",
    "For an integer, $n$, with prime factorization $n = 2^g\\prod_{i=1}p_i^{f_i}\\prod_{j=1}q_j^{h_i}$ where $p_i$ and $q_i$ are prime factors that are 1 modulo 4 and 3 respectively\n",
    "\n",
    "$$\n",
    "r_2(n) = \\begin{cases}\n",
    "        4\\prod_{i=1} f_i+1 & \\text{if } h_j \\text{ (all) even} \\\\\n",
    "        0 & \\text{otherwise}\n",
    "    \\end{cases}\n",
    "$$\n",
    "\n",
    "For $f(N)$ to be equal to $420=4\\times105$ this implies that $\\prod_i f_i + 1 = 105$. The prime factors of $105$ are 3, 5, and 7, so for three exponents $\\{f_1+1, f_2+1, f_3+1\\} = \\{3, 5, 7\\}$, equivalent to exponents of $N$ of $\\{1, 2, 3\\}$. For two exponents we can have $\\{f_1+1, f_2+1\\} = \\{7, 15\\}, \\{5, 21\\}, \\{3, 35\\}$, and for a single expontent we have $\\{f_1+1\\} = \\{105\\}$"
   ]
  },
  {
   "cell_type": "code",
   "execution_count": 46,
   "metadata": {},
   "outputs": [],
   "source": [
    "from functools import cache\n",
    "\n",
    "\n",
    "@cache\n",
    "def generate_q_factors(qs, mx, factor=1):\n",
    "    yield factor\n",
    "    for q in qs:\n",
    "        if factor * q <= mx:\n",
    "            yield from generate_q_factors(qs, mx, factor * q)\n",
    "\n",
    "\n",
    "def generate_p_factors(ps, mx):\n",
    "    # three exponents (1, 2, 3)\n",
    "    for p3 in ps:\n",
    "        for p2 in ps:\n",
    "            if p2 == p3:\n",
    "                continue\n",
    "            if p2 * p2 * p3 * p3 * p3 > mx:\n",
    "                break\n",
    "            for p1 in ps:\n",
    "                if p3 == p1 or p2 == p1:\n",
    "                    continue\n",
    "                if p1 * p2 * p2 * p3 * p3 * p3 > mx:\n",
    "                    break\n",
    "                yield p1 * p2 * p2 * p3 * p3 * p3\n",
    "\n",
    "    # two exponents (3, 7)\n",
    "    for p2 in ps:\n",
    "        for p1 in ps:\n",
    "            if p1 == p2:\n",
    "                continue\n",
    "            if p2**7 * p1**3 > mx:\n",
    "                break\n",
    "            yield p2**7 * p1**3\n",
    "\n",
    "    # two exponents (2, 10)\n",
    "    for p2 in ps:\n",
    "        for p1 in ps:\n",
    "            if p1 == p2:\n",
    "                continue\n",
    "            if p2**10 * p1**2 > mx:\n",
    "                break\n",
    "            yield p2**10 * p1**2"
   ]
  },
  {
   "cell_type": "code",
   "execution_count": 47,
   "metadata": {},
   "outputs": [
    {
     "name": "stdout",
     "output_type": "stream",
     "text": [
      "Sum of positive integers such that f(N) = 420 and N <= 10^11 271204031455541309\n"
     ]
    }
   ],
   "source": [
    "from sympy import primerange\n",
    "\n",
    "generate_q_factors.cache_clear()\n",
    "\n",
    "nmax = 10**11\n",
    "\n",
    "pmax = nmax // (13**2 * 5**3)\n",
    "qmax = nmax // (17 * 13**2 * 5**3)\n",
    "\n",
    "p, q = [], []\n",
    "\n",
    "for prime in primerange(2, pmax):\n",
    "    if prime % 4 == 1:\n",
    "        p.append(prime)\n",
    "    elif prime <= qmax:\n",
    "        q.append(prime)\n",
    "\n",
    "p_factors = sorted(generate_p_factors(p, nmax))\n",
    "q_factors = sorted(generate_q_factors(tuple(q), qmax))\n",
    "\n",
    "sumN = 0\n",
    "for pf in p_factors:\n",
    "    for qf in q_factors:\n",
    "        if pf * qf > nmax:\n",
    "            break\n",
    "        sumN += pf * qf\n",
    "\n",
    "print(\"Sum of positive integers such that f(N) = 420 and N <= 10^11\", sumN)"
   ]
  },
  {
   "cell_type": "code",
   "execution_count": null,
   "metadata": {},
   "outputs": [],
   "source": []
  }
 ],
 "metadata": {
  "kernelspec": {
   "display_name": "project-euler",
   "language": "python",
   "name": "python3"
  },
  "language_info": {
   "codemirror_mode": {
    "name": "ipython",
    "version": 3
   },
   "file_extension": ".py",
   "mimetype": "text/x-python",
   "name": "python",
   "nbconvert_exporter": "python",
   "pygments_lexer": "ipython3",
   "version": "3.12.2"
  }
 },
 "nbformat": 4,
 "nbformat_minor": 2
}
