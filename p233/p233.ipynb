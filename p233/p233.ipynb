{
 "cells": [
  {
   "cell_type": "markdown",
   "metadata": {},
   "source": [
    "# Problem 233: Lattice Points on a Circle\n",
    "\n",
    "Let $f(N)$ be the number of points with integer coordinates that are on a circle passing through $(0,0)$, $(N,0)$,$(0,N)$, and $(N,N)$.\n",
    "It can be shown that $f(10000) = 36$.\n",
    "\n",
    "What is the sum of all positive integers $N \\le 10^{11}$ such that $f(N) = 420$?"
   ]
  },
  {
   "cell_type": "markdown",
   "metadata": {},
   "source": []
  }
 ],
 "metadata": {
  "language_info": {
   "name": "python"
  }
 },
 "nbformat": 4,
 "nbformat_minor": 2
}
