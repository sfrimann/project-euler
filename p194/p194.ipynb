{
 "cells": [
  {
   "cell_type": "markdown",
   "metadata": {},
   "source": [
    "# Problem 194: Coloured Configurations\n",
    "\n",
    "Consider graphs built with the units $A$: \n",
    "\n",
    "![](./0194_GraphA.png)\n",
    "\n",
    "and $B$: \n",
    "\n",
    "![](./0194_GraphB.png)\n",
    "\n",
    "where the units are glued along the vertical edges as in the graph \n",
    "\n",
    "![](./0194_Fig.png)\n",
    "\n",
    "A configuration of type $(a, b, c)$ is a graph thus built of $a$ units $A$ and $b$ units $B$, where the graph's vertices are coloured using up to $c$ colours, so that no two adjacent vertices have the same colour.\n",
    "The compound graph above is an example of a configuration of type $(2,2,6)$, in fact of type $(2,2,c)$ for all $c \\ge 4$.\n",
    "\n",
    "Let $N(a, b, c)$ be the number of configurations of type $(a, b, c)$.\n",
    "For example, $N(1,0,3) = 24$, $N(0,2,4) = 92928$ and $N(2,2,3) = 20736$.\n",
    "\n",
    "Find the last $8$ digits of $N(25,75,1984)$."
   ]
  },
  {
   "cell_type": "markdown",
   "metadata": {},
   "source": []
  }
 ],
 "metadata": {
  "language_info": {
   "name": "python"
  }
 },
 "nbformat": 4,
 "nbformat_minor": 2
}
