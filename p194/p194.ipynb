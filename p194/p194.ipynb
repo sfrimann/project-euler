{
 "cells": [
  {
   "cell_type": "markdown",
   "metadata": {},
   "source": [
    "# Problem 194: Coloured Configurations\n",
    "\n",
    "Consider graphs built with the units $A$: \n",
    "\n",
    "![](./0194_GraphA.png)\n",
    "\n",
    "and $B$: \n",
    "\n",
    "![](./0194_GraphB.png)\n",
    "\n",
    "where the units are glued along the vertical edges as in the graph \n",
    "\n",
    "![](./0194_Fig.png)\n",
    "\n",
    "A configuration of type $(a, b, c)$ is a graph thus built of $a$ units $A$ and $b$ units $B$, where the graph's vertices are coloured using up to $c$ colours, so that no two adjacent vertices have the same colour.\n",
    "The compound graph above is an example of a configuration of type $(2,2,6)$, in fact of type $(2,2,c)$ for all $c \\ge 4$.\n",
    "\n",
    "Let $N(a, b, c)$ be the number of configurations of type $(a, b, c)$.\n",
    "For example, $N(1,0,3) = 24$, $N(0,2,4) = 92928$ and $N(2,2,3) = 20736$.\n",
    "\n",
    "Find the last $8$ digits of $N(25,75,1984)$."
   ]
  },
  {
   "cell_type": "code",
   "execution_count": 89,
   "metadata": {},
   "outputs": [],
   "source": [
    "graphA = {\n",
    "    0: [1, 2, 5],\n",
    "    1: [0, 2, 6],\n",
    "    2: [0, 1, 3],\n",
    "    3: [2, 4],\n",
    "    4: [3, 5, 6],\n",
    "    5: [0, 4, 6],\n",
    "    6: [1, 4, 5]\n",
    "}\n",
    "\n",
    "graphB = {\n",
    "    0: [2, 5],\n",
    "    1: [2, 6],\n",
    "    2: [0, 1, 3],\n",
    "    3: [2, 4],\n",
    "    4: [3, 5, 6],\n",
    "    5: [0, 4, 6],\n",
    "    6: [1, 4, 5]\n",
    "}\n",
    "\n",
    "completeGraph = {\n",
    "    0: [1, 2],\n",
    "    1: [0, 2],\n",
    "    2: [0, 1]\n",
    "}\n",
    "\n",
    "def countColouredConfigurations(graph: dict[list[int]], numColors=int) -> int:\n",
    "    colors = [x for x in range(numColors)]\n",
    "    count = [0]\n",
    "\n",
    "    def backtrack(vertex: int, currentColors: list[int]) -> int:\n",
    "        if vertex == 0: # first pass\n",
    "            currentColors[0] = colors[0]\n",
    "            backtrack(1, currentColors.copy())\n",
    "        elif vertex >= len(graph): # bottom of spanning tree\n",
    "            count[0] = count[0] + 1 if currentColors[-1] >= 0 else count[0]\n",
    "            return\n",
    "        else: \n",
    "            if currentColors[vertex-1] < 0: # no valid colorings\n",
    "                return\n",
    "            for color in colors:\n",
    "                if color not in [currentColors[neighbour] for neighbour in graph[vertex]]:\n",
    "                    currentColors[vertex] = color\n",
    "                    backtrack(vertex + 1, currentColors.copy())\n",
    "    \n",
    "    currentColors = [-1 for x in range(len(graph))]\n",
    "    backtrack(0, currentColors)\n",
    "    return numColors*count[0]"
   ]
  },
  {
   "cell_type": "code",
   "execution_count": 96,
   "metadata": {},
   "outputs": [
    {
     "data": {
      "text/plain": [
       "3824640"
      ]
     },
     "execution_count": 96,
     "metadata": {},
     "output_type": "execute_result"
    }
   ],
   "source": [
    "countColouredConfigurations(graphB, 10)"
   ]
  },
  {
   "cell_type": "code",
   "execution_count": 4,
   "metadata": {},
   "outputs": [
    {
     "data": {
      "text/plain": [
       "True"
      ]
     },
     "execution_count": 4,
     "metadata": {},
     "output_type": "execute_result"
    }
   ],
   "source": [
    "0 in [1, 0]"
   ]
  },
  {
   "cell_type": "code",
   "execution_count": null,
   "metadata": {},
   "outputs": [],
   "source": []
  }
 ],
 "metadata": {
  "kernelspec": {
   "display_name": "project-euler",
   "language": "python",
   "name": "python3"
  },
  "language_info": {
   "codemirror_mode": {
    "name": "ipython",
    "version": 3
   },
   "file_extension": ".py",
   "mimetype": "text/x-python",
   "name": "python",
   "nbconvert_exporter": "python",
   "pygments_lexer": "ipython3",
   "version": "3.12.2"
  }
 },
 "nbformat": 4,
 "nbformat_minor": 2
}
