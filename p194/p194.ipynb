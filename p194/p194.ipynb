{
 "cells": [
  {
   "cell_type": "markdown",
   "metadata": {},
   "source": [
    "# Problem 194: Coloured Configurations\n",
    "\n",
    "Consider graphs built with the units $A$: \n",
    "\n",
    "![](./0194_GraphA.png)\n",
    "\n",
    "and $B$: \n",
    "\n",
    "![](./0194_GraphB.png)\n",
    "\n",
    "where the units are glued along the vertical edges as in the graph \n",
    "\n",
    "![](./0194_Fig.png)\n",
    "\n",
    "A configuration of type $(a, b, c)$ is a graph thus built of $a$ units $A$ and $b$ units $B$, where the graph's vertices are coloured using up to $c$ colours, so that no two adjacent vertices have the same colour.\n",
    "The compound graph above is an example of a configuration of type $(2,2,6)$, in fact of type $(2,2,c)$ for all $c \\ge 4$.\n",
    "\n",
    "Let $N(a, b, c)$ be the number of configurations of type $(a, b, c)$.\n",
    "For example, $N(1,0,3) = 24$, $N(0,2,4) = 92928$ and $N(2,2,3) = 20736$.\n",
    "\n",
    "Find the last $8$ digits of $N(25,75,1984)$."
   ]
  },
  {
   "cell_type": "markdown",
   "metadata": {},
   "source": [
    "I label each vertex from 0 to 6 starting from the bottom left. Then I define graph $A$ and $B$ as a dictionary where each key is the vertex and the value is the vertices of its neighbours.\n",
    "\n",
    "For sanity checking I also include he complete graph condisting of three vertices that are all connected. Such a graph has a chromatic polynomial of\n",
    "\n",
    "$$P(G_\\mathrm{complete}, k) = k \\times (k-1) \\times (k-2)$$"
   ]
  },
  {
   "cell_type": "code",
   "execution_count": 65,
   "metadata": {},
   "outputs": [],
   "source": [
    "from dataclasses import dataclass\n",
    "from collections import defaultdict\n",
    "\n",
    "\n",
    "@dataclass\n",
    "class Graph:\n",
    "    definition: dict[list[int]]\n",
    "\n",
    "    def concat(self, other: \"Graph\") -> \"Graph\":\n",
    "        newGraph = defaultdict(list[int])\n",
    "        offset = len(self.definition) - 2\n",
    "        for leftKey, leftValues in self.definition.items():\n",
    "            newGraph[leftKey].extend(leftValues)\n",
    "        for rightKey, rightValues in other.definition.items():\n",
    "            newGraph[rightKey + offset].extend([v + offset for v in rightValues])\n",
    "        for k, v in newGraph.items():\n",
    "            newGraph[k] = sorted(list(set(newGraph[k])))\n",
    "\n",
    "        return Graph(newGraph)\n",
    "\n",
    "\n",
    "graphA = Graph(\n",
    "    {\n",
    "        0: [1, 2, 5],\n",
    "        1: [0, 4, 6],\n",
    "        2: [0, 3, 5],\n",
    "        3: [2, 4],\n",
    "        4: [1, 3, 6],\n",
    "        5: [0, 2, 6],\n",
    "        6: [1, 4, 5],\n",
    "    }\n",
    ")\n",
    "\n",
    "graphB = Graph(\n",
    "    {\n",
    "        0: [1, 2, 5],\n",
    "        1: [0, 4],\n",
    "        2: [0, 3, 5],\n",
    "        3: [2, 4],\n",
    "        4: [1, 3, 6],\n",
    "        5: [0, 2, 6],\n",
    "        6: [4, 5],\n",
    "    }\n",
    ")\n",
    "\n",
    "completeGraph = Graph({0: [1, 2], 1: [0, 2], 2: [0, 1]})"
   ]
  },
  {
   "cell_type": "markdown",
   "metadata": {},
   "source": [
    "I create a backtracking algorithm that can calculate the number of coloured configurations for small graphs"
   ]
  },
  {
   "cell_type": "code",
   "execution_count": 66,
   "metadata": {},
   "outputs": [
    {
     "name": "stdout",
     "output_type": "stream",
     "text": [
      "Backtracking algoritm\n",
      "[0, 0, 6, 24, 60, 120, 210, 336, 504, 720]\n",
      "\n",
      "chromatic polynomial\n",
      "[0, 0, 6, 24, 60, 120, 210, 336, 504, 720]\n"
     ]
    }
   ],
   "source": [
    "def countColouredConfigurations(input: \"Graph\", numColors=int) -> int:\n",
    "    if numColors < 1:\n",
    "        return 0\n",
    "    colors = [x for x in range(numColors)]\n",
    "\n",
    "    graph = input.definition\n",
    "\n",
    "    def backtrack(count: int, vertex: int, currentColors: list[int]) -> int:\n",
    "        if vertex == 0:  # first pass\n",
    "            currentColors[0] = colors[0]\n",
    "            return backtrack(count, 1, currentColors.copy())\n",
    "        elif vertex >= len(graph):  # bottom of spanning tree\n",
    "            if currentColors[-1] >= 0:\n",
    "                return 1\n",
    "            else:\n",
    "                return 0\n",
    "        else:\n",
    "            if currentColors[vertex - 1] < 0:  # no valid colorings\n",
    "                return 0\n",
    "            counts = []\n",
    "            for color in colors:\n",
    "                if color not in [\n",
    "                    currentColors[neighbour] for neighbour in graph[vertex]\n",
    "                ]:\n",
    "                    currentColors[vertex] = color\n",
    "                    counts.append(backtrack(count, vertex + 1, currentColors.copy()))\n",
    "            return sum(counts)\n",
    "\n",
    "    currentColors = [-1 for x in range(len(graph))]\n",
    "    cnt = backtrack(0, 0, currentColors)\n",
    "    return numColors * cnt\n",
    "\n",
    "\n",
    "# chromatic polynomial of complete graph with 3 vertices\n",
    "def PcompleteGraph(x: int) -> int:\n",
    "    return x * (x - 1) * (x - 2)\n",
    "\n",
    "\n",
    "print(\"Backtracking algoritm\")\n",
    "print([countColouredConfigurations(completeGraph, n) for n in range(1, 11)])\n",
    "print(\"\")\n",
    "print(\"chromatic polynomial\")\n",
    "print([PcompleteGraph(n) for n in range(1, 11)])"
   ]
  },
  {
   "cell_type": "markdown",
   "metadata": {},
   "source": [
    "If I give the above sequence to Wolfram Alpha it is able to infer the correct chromatic polynomial, so the idea is to try and do the same for graphs $A$ and $B$"
   ]
  },
  {
   "cell_type": "code",
   "execution_count": 67,
   "metadata": {},
   "outputs": [
    {
     "name": "stdout",
     "output_type": "stream",
     "text": [
      "Sequence: Graph A\n",
      "[0, 0, 24, 744, 7440, 41880, 167160, 530544, 1429344, 3404880]\n",
      "\n",
      "Sequence: Graph B\n",
      "[0, 0, 36, 1056, 9720, 51840, 199500, 616896, 1629936, 3824640]\n"
     ]
    }
   ],
   "source": [
    "print(\"Sequence: Graph A\")\n",
    "print([countColouredConfigurations(graphA, n) for n in range(1, 11)])\n",
    "print(\"\")\n",
    "print(\"Sequence: Graph B\")\n",
    "print([countColouredConfigurations(graphB, n) for n in range(1, 11)])"
   ]
  },
  {
   "cell_type": "code",
   "execution_count": 68,
   "metadata": {},
   "outputs": [],
   "source": [
    "def PGraphA(n: int) -> int:\n",
    "    return (n - 2) * (n - 1) * (n**5 - 7 * n**4 + 20 * n**3 - 29 * n**2 + 19 * n)\n",
    "\n",
    "\n",
    "def PGraphB(n: int) -> int:\n",
    "    return (n - 2) * (n - 1) * (n**5 - 6 * n**4 + 15 * n**3 - 20 * n**2 + 12 * n)"
   ]
  },
  {
   "cell_type": "code",
   "execution_count": 69,
   "metadata": {},
   "outputs": [
    {
     "name": "stdout",
     "output_type": "stream",
     "text": [
      "Graph A 15 colours\n",
      "Backtracking algorithm: 84859320\n",
      "Chromatic polynomial: 84859320\n",
      "\n",
      "Graph B 15 colours\n",
      "Backtracking algorithm: 91351260\n",
      "Chromatic polynomial: 91351260\n"
     ]
    }
   ],
   "source": [
    "# Sanity checks\n",
    "\n",
    "print(\"Graph A 15 colours\")\n",
    "print(\"Backtracking algorithm:\", countColouredConfigurations(graphA, 15))\n",
    "print(\"Chromatic polynomial:\", PGraphA(15))\n",
    "print(\"\")\n",
    "print(\"Graph B 15 colours\")\n",
    "print(\"Backtracking algorithm:\", countColouredConfigurations(graphB, 15))\n",
    "print(\"Chromatic polynomial:\", PGraphB(15))"
   ]
  },
  {
   "cell_type": "markdown",
   "metadata": {},
   "source": [
    "To calculate the number possible coloured configurations, we note that the chromatic polynomial of two graphs summed on a clique consisting of n vertices is\n",
    "\n",
    "$$\\frac{P(G_1, k) \\times P(G_2, k)}{P(G_\\mathrm{n-clique}, k)}$$\n",
    "\n",
    "Since the configurations in the problem are joined on a two clique which has chromatic polynomial\n",
    "\n",
    "$$P(G_\\mathrm{2-clique}, k) = k \\times (k - 1)$$\n",
    "\n",
    "it's easy to calculate the number of coloured configurations"
   ]
  },
  {
   "cell_type": "code",
   "execution_count": 113,
   "metadata": {},
   "outputs": [
    {
     "name": "stdout",
     "output_type": "stream",
     "text": [
      "24\n",
      "92928\n",
      "20736\n",
      "61190912\n"
     ]
    }
   ],
   "source": [
    "from functools import reduce\n",
    "from math import factorial\n",
    "\n",
    "\n",
    "def PTwoClique(n: int) -> int:\n",
    "    return n * (n - 1)\n",
    "\n",
    "\n",
    "def N(a: int, b: int, ncolors: int, modolu=10**8) -> int:\n",
    "    twoClique = PTwoClique(ncolors)\n",
    "    multinomialCoefficient = factorial(a + b) // (factorial(a) * factorial(b))\n",
    "    individualConfigurations = (\n",
    "        (\n",
    "            pow(PGraphA(ncolors) // twoClique, a)\n",
    "            * pow(PGraphB(ncolors) // twoClique, b)\n",
    "            % modolu\n",
    "        )\n",
    "        * twoClique\n",
    "        % modolu\n",
    "    ) % modolu\n",
    "    return multinomialCoefficient % modolu * individualConfigurations % modolu % modolu\n",
    "\n",
    "\n",
    "print(N(1, 0, 3))\n",
    "print(N(0, 2, 4))\n",
    "print(N(2, 2, 3))\n",
    "print(N(25, 75, 1984))"
   ]
  },
  {
   "cell_type": "code",
   "execution_count": 86,
   "metadata": {},
   "outputs": [],
   "source": [
    "graphAA = graphA.concat(graphA)\n",
    "graphBB = graphB.concat(graphB)\n",
    "graphAB = graphA.concat(graphB)\n",
    "graphBA = graphB.concat(graphA)\n",
    "graphAAA = graphA.concat(graphA).concat(graphA)\n",
    "graphBAA = graphB.concat(graphA).concat(graphA)\n",
    "graphABA = graphA.concat(graphB).concat(graphA)\n",
    "graphAAB = graphA.concat(graphA).concat(graphB)\n",
    "graphAAAA = graphA.concat(graphA).concat(graphA).concat(graphA)\n",
    "graphABBA = graphA.concat(graphB).concat(graphB).concat(graphA)"
   ]
  },
  {
   "cell_type": "code",
   "execution_count": 87,
   "metadata": {},
   "outputs": [
    {
     "name": "stdout",
     "output_type": "stream",
     "text": [
      "Sequence: Graph A\n",
      "[0, 0, 24, 744, 7440, 41880, 167160, 530544, 1429344, 3404880]\n",
      "\n",
      "Sequence: Graph B\n",
      "[0, 0, 36, 1056, 9720, 51840, 199500, 616896, 1629936, 3824640]\n",
      "\n",
      "Sequence: Graph AAAA\n",
      "[0, 0, 1536]\n",
      "\n",
      "Sequence: Graph ABBA\n",
      "[0, 0, 3456]\n",
      "\n"
     ]
    }
   ],
   "source": [
    "print(\"Sequence: Graph A\")\n",
    "print([countColouredConfigurations(graphA, n) for n in range(1, 11)])\n",
    "print(\"\")\n",
    "print(\"Sequence: Graph B\")\n",
    "print([countColouredConfigurations(graphB, n) for n in range(1, 11)])\n",
    "print(\"\")\n",
    "print(\"Sequence: Graph AAAA\")\n",
    "print([countColouredConfigurations(graphAAAA, n) for n in range(1, 4)])\n",
    "print(\"\")\n",
    "print(\"Sequence: Graph ABBA\")\n",
    "print([countColouredConfigurations(graphABBA, n) for n in range(1, 4)])\n",
    "print(\"\")\n",
    "# print(\"Sequence: Graph AA\")\n",
    "# print([countColouredConfigurations(graphAA, n) for n in range(1, 5)])\n",
    "# print(\"\")\n",
    "# print(\"Sequence: Graph BB\")\n",
    "# print([countColouredConfigurations(graphBB, n) for n in range(1, 5)])\n",
    "# print(\"\")\n",
    "# print(\"Sequence: Graph AB\")\n",
    "# print([countColouredConfigurations(graphAB, n) for n in range(1, 5)])\n",
    "# print(\"\")\n",
    "# print(\"Sequence: Graph BA\")\n",
    "# print([countColouredConfigurations(graphBA, n) for n in range(1, 5)])\n",
    "# print(\"\")\n",
    "# print(\"Sequence: Graph AAA\")\n",
    "# print([countColouredConfigurations(graphAAA, n) for n in range(1, 5)])\n",
    "# print(\"\")\n",
    "# print(\"Sequence: Graph BAA\")\n",
    "# print([countColouredConfigurations(graphBAA, n) for n in range(1, 5)])\n",
    "# print(\"\")\n",
    "# print(\"Sequence: Graph ABA\")\n",
    "# print([countColouredConfigurations(graphABA, n) for n in range(1, 5)])\n",
    "# print(\"\")\n",
    "# print(\"Sequence: Graph AAB\")\n",
    "# print([countColouredConfigurations(graphAAB, n) for n in range(1, 5)])\n",
    "# print(\"\")"
   ]
  }
 ],
 "metadata": {
  "kernelspec": {
   "display_name": "project-euler",
   "language": "python",
   "name": "python3"
  },
  "language_info": {
   "codemirror_mode": {
    "name": "ipython",
    "version": 3
   },
   "file_extension": ".py",
   "mimetype": "text/x-python",
   "name": "python",
   "nbconvert_exporter": "python",
   "pygments_lexer": "ipython3",
   "version": "3.12.2"
  }
 },
 "nbformat": 4,
 "nbformat_minor": 2
}
