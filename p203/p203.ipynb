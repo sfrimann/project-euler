{
 "cells": [
  {
   "cell_type": "markdown",
   "metadata": {},
   "source": [
    "# Problem 203: Squarefree Binomial Coefficients\n",
    "\n",
    "The binomial coefficients $\\displaystyle \\binom n k$ can be arranged in triangular form, Pascal's triangle, like this:\n",
    "\n",
    "<div class=\"center\">\n",
    "<table align=\"center\"><tr><td colspan=\"7\"></td><td>1</td><td colspan=\"7\"></td></tr><tr><td colspan=\"6\"></td><td>1</td><td></td><td>1</td><td colspan=\"6\"></td></tr><tr><td colspan=\"5\"></td><td>1</td><td></td><td>2</td><td></td><td>1</td><td colspan=\"5\"></td></tr><tr><td colspan=\"4\"></td><td>1</td><td></td><td>3</td><td></td><td>3</td><td></td><td>1</td><td colspan=\"4\"></td></tr><tr><td colspan=\"3\"></td><td>1</td><td></td><td>4</td><td></td><td>6</td><td></td><td>4</td><td></td><td>1</td><td colspan=\"3\"></td></tr><tr><td colspan=\"2\"></td><td>1</td><td></td><td>5</td><td></td><td>10</td><td></td><td>10</td><td></td><td>5</td><td></td><td>1</td><td colspan=\"2\"></td></tr><tr><td colspan=\"1\"></td><td>1</td><td></td><td>6</td><td></td><td>15</td><td></td><td>20</td><td></td><td>15</td><td></td><td>6</td><td></td><td>1</td><td colspan=\"1\"></td></tr><tr><td>1</td><td></td><td>7</td><td></td><td>21</td><td></td><td>35</td><td></td><td>35</td><td></td><td>21</td><td></td><td>7</td><td></td><td>1</td></tr></table>\n",
    ".........\n",
    "</div>\n",
    "\n",
    "It can be seen that the first eight rows of Pascal's triangle contain twelve distinct numbers: 1, 2, 3, 4, 5, 6, 7, 10, 15, 20, 21 and 35.\n",
    "\n",
    "A positive integer <var>n</var> is called squarefree if no square of a prime divides <var>n</var>.\n",
    "Of the twelve distinct numbers in the first eight rows of Pascal's triangle, all except 4 and 20 are squarefree.\n",
    "The sum of the distinct squarefree numbers in the first eight rows is 105.\n",
    "\n",
    "Find the sum of the distinct squarefree numbers in the first 51 rows of Pascal's triangle."
   ]
  },
  {
   "cell_type": "code",
   "execution_count": 22,
   "metadata": {},
   "outputs": [
    {
     "name": "stdout",
     "output_type": "stream",
     "text": [
      "0 choose 0 = 1\n",
      "6 choose 3 = 20\n"
     ]
    }
   ],
   "source": [
    "import functools\n",
    "\n",
    "\n",
    "@functools.cache\n",
    "def C(n: int, k: int) -> int:\n",
    "    match (n, k):\n",
    "        case (_n, 0):\n",
    "            return 1\n",
    "        case (_n, _k) if _n == _k:\n",
    "            return 1\n",
    "        case _:\n",
    "            return C(n - 1, k - 1) + C(n - 1, k)\n",
    "\n",
    "\n",
    "print(\"0 choose 0 =\", C(0, 0))\n",
    "print(\"6 choose 3 =\", C(6, 3))"
   ]
  },
  {
   "cell_type": "code",
   "execution_count": 23,
   "metadata": {},
   "outputs": [
    {
     "name": "stdout",
     "output_type": "stream",
     "text": [
      "1 True\n",
      "4 False\n",
      "20 False\n",
      "35 True\n"
     ]
    }
   ],
   "source": [
    "from math import sqrt\n",
    "from sympy import primerange\n",
    "\n",
    "\n",
    "# no prime factors of C(n, k) are greater than n so we only have to check primes up to 51\n",
    "# in fact since it needs to be divisible by p**2 we only have to check up to 7**2 = 49\n",
    "square_primes = [p**2 for p in primerange(sqrt(51))]\n",
    "\n",
    "\n",
    "@functools.cache\n",
    "def is_square_free(number: int) -> bool:\n",
    "    for p2 in square_primes:\n",
    "        if number % p2 == 0:\n",
    "            return False\n",
    "    return True\n",
    "\n",
    "\n",
    "print(\"1\", is_square_free(1))\n",
    "print(\"4\", is_square_free(4))\n",
    "print(\"20\", is_square_free(20))\n",
    "print(\"35\", is_square_free(35))"
   ]
  },
  {
   "cell_type": "code",
   "execution_count": 24,
   "metadata": {},
   "outputs": [
    {
     "name": "stdout",
     "output_type": "stream",
     "text": [
      "nrow = 8 105\n",
      "nrow = 51 34029210557338\n"
     ]
    }
   ],
   "source": [
    "from typing import Set\n",
    "\n",
    "is_square_free.cache_clear()\n",
    "\n",
    "\n",
    "def square_free_sum(nrow: int) -> int:\n",
    "    square_free_coefficients: Set[int] = set()\n",
    "    for n in range(nrow):\n",
    "        for k in range(n // 2 + 1):\n",
    "            match C(n, k):\n",
    "                case c if c not in square_free_coefficients and is_square_free(c):\n",
    "                    square_free_coefficients.add(c)\n",
    "    return sum(square_free_coefficients)\n",
    "\n",
    "\n",
    "print(\"nrow = 8\", square_free_sum(8))\n",
    "print(\"nrow = 51\", square_free_sum(51))"
   ]
  }
 ],
 "metadata": {
  "kernelspec": {
   "display_name": "project-euler",
   "language": "python",
   "name": "python3"
  },
  "language_info": {
   "codemirror_mode": {
    "name": "ipython",
    "version": 3
   },
   "file_extension": ".py",
   "mimetype": "text/x-python",
   "name": "python",
   "nbconvert_exporter": "python",
   "pygments_lexer": "ipython3",
   "version": "3.12.2"
  }
 },
 "nbformat": 4,
 "nbformat_minor": 2
}
