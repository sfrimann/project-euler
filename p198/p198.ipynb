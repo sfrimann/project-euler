{
 "cells": [
  {
   "cell_type": "markdown",
   "metadata": {},
   "source": [
    "# Problem 198: Ambiguous Numbers\n",
    "\n",
    "A best approximation to a real number $x$ for the denominator bound $d$ is a rational number $\\frac r s$ (in reduced form) with $s \\le d$, so that any rational number $\\frac p q$ which is closer to $x$ than $\\frac r s$ has $q \\gt d$.\n",
    "\n",
    "Usually the best approximation to a real number is uniquely determined for all denominator bounds. However, there are some exceptions, e.g. $\\frac 9 {40}$ has the two best approximations $\\frac 1 4$ and $\\frac 1 5$ for the denominator bound $6$.\n",
    "We shall call a real number $x$ <dfn>ambiguous</dfn>, if there is at least one denominator bound for which $x$ possesses two best approximations. Clearly, an ambiguous number is necessarily rational.\n",
    "\n",
    "How many ambiguous numbers $x=\\frac p q, 0 \\lt x \\lt \\frac 1 {100}$, are there whose denominator $q$ does not exceed $10^8$?"
   ]
  },
  {
   "cell_type": "code",
   "execution_count": 36,
   "metadata": {},
   "outputs": [
    {
     "name": "stdout",
     "output_type": "stream",
     "text": [
      "0.0\n",
      "0/1\n",
      "1/0\n",
      "SternBrocotLeaf(1/1)\n",
      "(SternBrocotLeaf(1/2), SternBrocotLeaf(2/1))\n",
      "[(SternBrocotLeaf(1/3), SternBrocotLeaf(2/3)), (SternBrocotLeaf(3/2), SternBrocotLeaf(3/1))]\n"
     ]
    }
   ],
   "source": [
    "from dataclasses import dataclass\n",
    "\n",
    "\n",
    "@dataclass\n",
    "class Fraction:\n",
    "    num: int\n",
    "    denum: int\n",
    "\n",
    "    @property\n",
    "    def as_float(self) -> float:\n",
    "        if self.denum == 0:\n",
    "            return float(\"inf\")\n",
    "        else:\n",
    "            return self.num / self.denum\n",
    "\n",
    "    @property\n",
    "    def value(self) -> tuple[int, int]:\n",
    "        return (self.num, self.denum)\n",
    "\n",
    "    def __repr__(self) -> str:\n",
    "        return f\"{self.num}/{self.denum}\"\n",
    "\n",
    "\n",
    "zero = Fraction(0, 1)\n",
    "infty = Fraction(1, 0)\n",
    "print(zero.as_float)\n",
    "print(zero)\n",
    "print(infty)\n",
    "\n",
    "\n",
    "@dataclass\n",
    "class SternBrocotBranch:\n",
    "    left: \"Fraction\"\n",
    "    right: \"Fraction\"\n",
    "\n",
    "    def __post_init__(self):\n",
    "        self.value = Fraction(\n",
    "            self.left.num + self.right.num, self.left.denum + self.right.denum\n",
    "        )\n",
    "\n",
    "    @property\n",
    "    def left_child(self) -> \"SternBrocotBranch\":\n",
    "        return SternBrocotBranch(self.left, self.value)\n",
    "\n",
    "    @property\n",
    "    def right_child(self) -> \"SternBrocotBranch\":\n",
    "        return SternBrocotBranch(self.value, self.right)\n",
    "\n",
    "    @property\n",
    "    def children(self) -> tuple[\"SternBrocotBranch\", \"SternBrocotBranch\"]:\n",
    "        return (self.left_child, self.right_child)\n",
    "\n",
    "    def get_ambigous_fraction(self, lft: \"Fraction\", rgt: \"Fraction\") -> \"Fraction\":\n",
    "        num = lft.num * rgt.denum + rgt.num * lft.denum\n",
    "        denum = 2 * lft.denum * rgt.denum\n",
    "        return Fraction(num, denum)\n",
    "\n",
    "    @property\n",
    "    def left_ambigous(self) -> \"Fraction\":\n",
    "        return self.get_ambigous_fraction(self.left, self.value)\n",
    "\n",
    "    @property\n",
    "    def right_ambigous(self) -> \"Fraction\":\n",
    "        return self.get_ambigous_fraction(self.value, self.right)\n",
    "\n",
    "    def __repr__(self) -> str:\n",
    "        return f\"SternBrocotLeaf({self.value})\"\n",
    "\n",
    "\n",
    "root = SternBrocotBranch(zero, infty)\n",
    "print(root)\n",
    "print(root.children)\n",
    "print([r.children for r in root.children])"
   ]
  },
  {
   "cell_type": "code",
   "execution_count": 48,
   "metadata": {},
   "outputs": [
    {
     "name": "stdout",
     "output_type": "stream",
     "text": [
      "52374425\n"
     ]
    }
   ],
   "source": [
    "xmax = Fraction(1, 100)\n",
    "denom_bound = 10**8 + 1\n",
    "\n",
    "zero = Fraction(0, 1)\n",
    "infty = Fraction(1, 0)\n",
    "\n",
    "leafs = [SternBrocotBranch(zero, infty)]\n",
    "counter = 0\n",
    "# ambigous = []\n",
    "while len(leafs) > 0:\n",
    "    _leafs = []\n",
    "    for leaf in leafs:\n",
    "        # ambigous numbers\n",
    "        _min_denom = denom_bound\n",
    "        for amb in [leaf.left_ambigous, leaf.right_ambigous]:\n",
    "            _min_denom = min(amb.denum, _min_denom)\n",
    "            if amb.denum < denom_bound and amb.as_float < xmax.as_float:\n",
    "                counter += 1\n",
    "                # ambigous.append(amb)\n",
    "\n",
    "        # add next row\n",
    "        (left_child, right_child) = leaf.children\n",
    "        if _min_denom < denom_bound:\n",
    "            _leafs.append(left_child)\n",
    "        if right_child.value.as_float < xmax.as_float and _min_denom < denom_bound:\n",
    "            _leafs.append(right_child)\n",
    "    leafs = _leafs\n",
    "print(counter)"
   ]
  }
 ],
 "metadata": {
  "kernelspec": {
   "display_name": "project-euler",
   "language": "python",
   "name": "python3"
  },
  "language_info": {
   "codemirror_mode": {
    "name": "ipython",
    "version": 3
   },
   "file_extension": ".py",
   "mimetype": "text/x-python",
   "name": "python",
   "nbconvert_exporter": "python",
   "pygments_lexer": "ipython3",
   "version": "3.12.2"
  }
 },
 "nbformat": 4,
 "nbformat_minor": 2
}
