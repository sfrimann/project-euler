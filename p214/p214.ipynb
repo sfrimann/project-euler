{
 "cells": [
  {
   "cell_type": "markdown",
   "metadata": {},
   "source": [
    "# Problem 214: Totient Chains\n",
    "\n",
    "Let $\\phi$ be Euler's totient function, i.e. for a natural number $n$,\n",
    "$\\phi(n)$ is the number of $k$, $1 \\le k \\le n$, for which $\\gcd(k, n) = 1$.\n",
    "\n",
    "By iterating $\\phi$, each positive integer generates a decreasing chain of numbers ending in $1$.\\\n",
    "E.g. if we start with $5$ the sequence $5,4,2,1$ is generated.\\\n",
    "Here is a listing of all chains with length $4$:\n",
    "\n",
    "\\begin{align}\n",
    "5,4,2,1& \\nonumber \\\\\n",
    "7,6,2,1& \\nonumber \\\\\n",
    "8,4,2,1& \\nonumber \\\\\n",
    "9,6,2,1& \\nonumber \\\\\n",
    "10,4,2,1& \\nonumber \\\\\n",
    "12,4,2,1& \\nonumber \\\\\n",
    "14,6,2,1& \\nonumber \\\\\n",
    "18,6,2,1 \\nonumber\n",
    "\\end{align}\n",
    "\n",
    "Only two of these chains start with a prime, their sum is $12$.\n",
    "\n",
    "What is the sum of all primes less than $40000000$ which generate a chain of length $25$?"
   ]
  },
  {
   "cell_type": "code",
   "execution_count": 13,
   "metadata": {},
   "outputs": [
    {
     "name": "stdout",
     "output_type": "stream",
     "text": [
      "totient_chain_length(5) = 4\n",
      "totient_chain_length(4) = 3\n"
     ]
    }
   ],
   "source": [
    "from functools import cache\n",
    "from sympy import totient\n",
    "\n",
    "\n",
    "@cache\n",
    "def totient_chain_length(n: int) -> int:\n",
    "    if n == 1:\n",
    "        return 1\n",
    "    else:\n",
    "        return 1 + totient_chain_length(totient(n))\n",
    "\n",
    "\n",
    "# sanity checks\n",
    "print(\"totient_chain_length(5) =\", totient_chain_length(5))\n",
    "print(\"totient_chain_length(4) =\", totient_chain_length(4))"
   ]
  },
  {
   "cell_type": "code",
   "execution_count": 15,
   "metadata": {},
   "outputs": [
    {
     "name": "stdout",
     "output_type": "stream",
     "text": [
      "sum primes with totient_chain_length == 25: 1677366278943\n"
     ]
    }
   ],
   "source": [
    "from sympy import primerange\n",
    "\n",
    "\n",
    "nmax = 40000000\n",
    "\n",
    "\n",
    "prime_sum = 0\n",
    "totient_chain_length.cache_clear()\n",
    "for prime in primerange(nmax):\n",
    "    if totient_chain_length(prime) == 25:\n",
    "        prime_sum += prime\n",
    "\n",
    "print(\"sum primes with totient_chain_length == 25:\", prime_sum)"
   ]
  }
 ],
 "metadata": {
  "kernelspec": {
   "display_name": "project-euler",
   "language": "python",
   "name": "python3"
  },
  "language_info": {
   "codemirror_mode": {
    "name": "ipython",
    "version": 3
   },
   "file_extension": ".py",
   "mimetype": "text/x-python",
   "name": "python",
   "nbconvert_exporter": "python",
   "pygments_lexer": "ipython3",
   "version": "3.12.2"
  }
 },
 "nbformat": 4,
 "nbformat_minor": 2
}
