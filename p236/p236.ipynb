{
 "cells": [
  {
   "cell_type": "markdown",
   "metadata": {},
   "source": [
    "# Problem 236: Luxury Hampers\n",
    "\n",
    "Suppliers 'A' and 'B' provided the following numbers of products for the luxury hamper market:\n",
    "\n",
    "<center><table class=\"p236\"><tr><th>Product</th><th class=\"center\">'A'</th><th class=\"center\">'B'</th></tr><tr><td>Beluga Caviar</td><td>5248</td><td>640</td></tr><tr><td>Christmas Cake</td><td>1312</td><td>1888</td></tr><tr><td>Gammon Joint</td><td>2624</td><td>3776</td></tr><tr><td>Vintage Port</td><td>5760</td><td>3776</td></tr><tr><td>Champagne Truffles</td><td>3936</td><td>5664</td></tr></table></center>\n",
    "\n",
    "Although the suppliers try very hard to ship their goods in perfect condition, there is inevitably some spoilage - <i>i.e.</i> products gone bad.\n",
    "\n",
    "The suppliers compare their performance using two types of statistic:</p><ul><li>The five <i>per-product spoilage rates</i> for each supplier are equal to the number of products gone bad divided by the number of products supplied, for each of the five products in turn.</li>\n",
    "  <li>The <i>overall spoilage rate</i> for each supplier is equal to the total number of products gone bad divided by the total number of products provided by that supplier.</li></ul><p>To their surprise, the suppliers found that each of the five per-product spoilage rates was worse (higher) for 'B' than for 'A' by the same factor (ratio of spoilage rates), <var>m</var>&gt;1; and yet, paradoxically, the overall spoilage rate was worse for 'A' than for 'B', also by a factor of <var>m</var>.\n",
    "\n",
    "There are thirty-five <var>m</var>&gt;1 for which this surprising result could have occurred, the smallest of which is 1476/1475.\n",
    "\n",
    "What's the largest possible value of <var>m</var>?\\\n",
    "Give your answer as a fraction reduced to its lowest terms, in the form <var>u</var>/<var>v</var>."
   ]
  },
  {
   "cell_type": "code",
   "execution_count": 1,
   "metadata": {},
   "outputs": [],
   "source": [
    "from collections import defaultdict\n",
    "from fractions import Fraction\n",
    "from math import ceil\n",
    "\n",
    "N_A = [5248, 1312, 2624, 5760, 3936]\n",
    "N_B = [640, 1888, 3776, 3776, 5664]\n",
    "\n",
    "five_per_product_ms = defaultdict(lambda: [[], [], [], [], []])\n",
    "\n",
    "for i, (_N_A, _N_B) in enumerate(zip(N_A, N_B)):\n",
    "    for n_A in range(1, _N_A + 1):\n",
    "        b_min = Fraction(n_A * _N_B, _N_A)\n",
    "        b_min = b_min.numerator + 1 if b_min.is_integer() else ceil(b_min)\n",
    "        for n_B in range(b_min, N_B[i] + 1):\n",
    "            m = Fraction(n_B * _N_A, n_A * _N_B)\n",
    "            five_per_product_ms[m][i].append(n_A)\n",
    "\n",
    "# filter out solutions where some products have no spoilage\n",
    "five_per_product_ms = dict(\n",
    "    filter(lambda pair: min(len(_) for _ in pair[1]) > 0, five_per_product_ms.items())\n",
    ")"
   ]
  },
  {
   "cell_type": "code",
   "execution_count": 2,
   "metadata": {},
   "outputs": [],
   "source": [
    "from typing import List\n",
    "\n",
    "\n",
    "def get_overall_spoilage_rate(five_per_product_m: Fraction, n_As: List[int]):\n",
    "    N_Bs = sum(N_B)\n",
    "    N_As = sum(N_A)\n",
    "    m_num = five_per_product_m.numerator\n",
    "    m_denom = five_per_product_m.denominator\n",
    "    n_Bs = [\n",
    "        m_num * n_A * _N_B // (_N_A * m_denom)\n",
    "        for n_A, _N_A, _N_B in zip(n_As, N_A, N_B)\n",
    "    ]\n",
    "    overall_spoilage_rate = Fraction(sum(n_As) * N_Bs, sum(n_Bs) * N_As)\n",
    "    return overall_spoilage_rate"
   ]
  },
  {
   "cell_type": "code",
   "execution_count": 3,
   "metadata": {},
   "outputs": [],
   "source": [
    "# filter out solutions max/min overall spilage rate are outside the target rate\n",
    "\n",
    "\n",
    "def filter_rate(pairs):\n",
    "    five_per_product_rate, n_As = pairs\n",
    "    max_ratio = get_overall_spoilage_rate(\n",
    "        m, [max(n_As[0]), min(n_As[1]), min(n_As[2]), min(n_As[3]), min(n_As[4])]\n",
    "    )\n",
    "    min_ratio = get_overall_spoilage_rate(\n",
    "        m, [min(n_As[0]), max(n_As[1]), max(n_As[2]), max(n_As[3]), max(n_As[4])]\n",
    "    )\n",
    "    if min_ratio <= five_per_product_rate <= max_ratio:\n",
    "        return True\n",
    "    else:\n",
    "        return False\n",
    "\n",
    "\n",
    "five_per_product_ms = dict(filter(filter_rate, five_per_product_ms.items()))"
   ]
  },
  {
   "cell_type": "code",
   "execution_count": 4,
   "metadata": {},
   "outputs": [
    {
     "name": "stdout",
     "output_type": "stream",
     "text": [
      "[Fraction(41, 5), Fraction(41, 59), Fraction(41, 59), Fraction(90, 59), Fraction(41, 59)]\n"
     ]
    }
   ],
   "source": [
    "print([Fraction(n_A, n_B) for n_A, n_B in zip(N_A, N_B)])"
   ]
  },
  {
   "cell_type": "code",
   "execution_count": 5,
   "metadata": {},
   "outputs": [
    {
     "name": "stdout",
     "output_type": "stream",
     "text": [
      "SOLUTION 1.000677966101695 1476/1475 (2065, 1125, 2750) [252, 738, 3960]\n",
      "SOLUTION 1.0169491525423728 60/59 (2419, 375, 2706) [300, 250, 3960]\n",
      "SOLUTION 1.0192090395480227 902/885 (2478, 2025, 3120) [308, 1353, 4576]\n",
      "SOLUTION 1.0234206471494607 3321/3245 (1947, 5500, 3245) [243, 3690, 4779]\n",
      "SOLUTION 1.025 41/40 (3640, 3600, 4560) [455, 2419, 6726]\n",
      "SOLUTION 1.0423728813559323 123/118 (826, 60, 804) [105, 41, 1206]\n",
      "SOLUTION 1.0677966101694916 63/59 (2419, 3900, 2501) [315, 2730, 3843]\n",
      "SOLUTION 1.111864406779661 328/295 (59, 900, 65) [8, 656, 104]\n",
      "SOLUTION 1.1292372881355932 533/472 (1888, 3600, 1272) [260, 2665, 2067]\n",
      "SOLUTION 1.1371340523882896 738/649 (1298, 4675, 792) [180, 3485, 1296]\n",
      "SOLUTION 1.1466101694915254 1353/1180 (1652, 1200, 1020) [231, 902, 1683]\n",
      "SOLUTION 1.1581920903954803 205/177 (354, 1674, 147) [50, 1271, 245]\n",
      "SOLUTION 1.167457627118644 1722/1475 (885, 1875, 425) [126, 1435, 714]\n",
      "SOLUTION 1.1813559322033897 697/590 (2124, 4500, 890) [306, 3485, 1513]\n",
      "SOLUTION 1.1912832929782082 492/413 (826, 2415, 259) [120, 1886, 444]\n",
      "SOLUTION 1.2045197740112994 1066/885 (3717, 2700, 1695) [546, 2132, 2938]\n",
      "SOLUTION 1.2161016949152543 287/236 (3068, 3600, 1172) [455, 2870, 2051]\n",
      "SOLUTION 1.226321036889332 1230/1003 (2006, 3825, 544) [300, 3075, 960]\n",
      "SOLUTION 1.2508474576271187 369/295 (59, 50, 20) [9, 41, 36]\n",
      "SOLUTION 1.3029661016949152 615/472 (2832, 2256, 712) [450, 1927, 1335]\n",
      "SOLUTION 1.3550847457627118 1599/1180 (3776, 3000, 660) [624, 2665, 1287]\n",
      "SOLUTION 1.3559322033898304 80/59 (2419, 1971, 410) [400, 1752, 800]\n",
      "SOLUTION 1.3728813559322033 81/59 (2419, 570, 656) [405, 513, 1296]\n",
      "SOLUTION 1.3898305084745763 82/59 (413, 45, 117) [70, 41, 234]\n",
      "SOLUTION 1.4377556984219755 2460/1711 (1711, 957, 232) [300, 902, 480]\n",
      "SOLUTION 1.459322033898305 861/590 (1770, 300, 380) [315, 287, 798]\n",
      "SOLUTION 1.4891041162227603 615/413 (2891, 126, 658) [525, 123, 1410]\n",
      "SOLUTION 1.528813559322034 451/295 (826, 450, 55) [154, 451, 121]\n",
      "SOLUTION 1.5635593220338984 369/236 (2832, 200, 508) [540, 205, 1143]\n",
      "SOLUTION 1.6677966101694914 492/295 (1239, 75, 170) [252, 82, 408]\n",
      "SOLUTION 1.7372881355932204 205/118 (1062, 144, 94) [225, 164, 235]\n",
      "SOLUTION 1.7869249394673123 738/413 (2891, 665, 119) [630, 779, 306]\n",
      "SOLUTION 1.8305084745762712 108/59 (2419, 35, 246) [540, 42, 648]\n",
      "SOLUTION 1.9457627118644067 574/295 (2360, 225, 110) [560, 287, 308]\n",
      "SOLUTION 2.0847457627118646 123/59 (413, 30, 12) [105, 41, 36]\n"
     ]
    }
   ],
   "source": [
    "from itertools import product\n",
    "\n",
    "\n",
    "def search_overall_spoilage_rate_solutions(\n",
    "    five_per_product_rate: Fraction, n_As: List[int]\n",
    "):\n",
    "    N_Bs = sum(N_B)\n",
    "    N_As = sum(N_A)\n",
    "    m_num = five_per_product_rate.numerator\n",
    "    m_denom = five_per_product_rate.denominator\n",
    "    # N_A/N_B for index 1, 2, 4 are the same, so we can avoid finding duplicate solutions by lifting that degeneracy\n",
    "    non_degenerate_n_As = [\n",
    "        n_As[0],\n",
    "        n_As[3],\n",
    "        range(\n",
    "            sum([n_As[1][0], n_As[2][0], n_As[4][0]]),\n",
    "            sum([n_As[1][-1], n_As[2][-1], n_As[4][-1]]) + 1,\n",
    "            n_As[1][0],\n",
    "        ),\n",
    "    ]\n",
    "    non_degenerate_N_As = [N_A[0], N_A[3], N_A[4]]\n",
    "    non_degenerate_N_Bs = [N_B[0], N_B[3], N_B[4]]\n",
    "    for _n_As in product(*non_degenerate_n_As):\n",
    "        n_Bs = [\n",
    "            m_num * n_A * _N_B // (_N_A * m_denom)\n",
    "            for n_A, _N_A, _N_B in zip(_n_As, non_degenerate_N_As, non_degenerate_N_Bs)\n",
    "        ]\n",
    "        overall_spoilage_rate = Fraction(sum(_n_As) * N_Bs, sum(n_Bs) * N_As)\n",
    "        if five_per_product_rate == overall_spoilage_rate:\n",
    "            print(\n",
    "                \"SOLUTION\",\n",
    "                float(overall_spoilage_rate),\n",
    "                overall_spoilage_rate,\n",
    "                _n_As,\n",
    "                n_Bs,\n",
    "            )\n",
    "            return\n",
    "\n",
    "\n",
    "for m, n_As in sorted(five_per_product_ms.items()):\n",
    "    search_overall_spoilage_rate_solutions(m, n_As)"
   ]
  }
 ],
 "metadata": {
  "kernelspec": {
   "display_name": "project-euler",
   "language": "python",
   "name": "python3"
  },
  "language_info": {
   "codemirror_mode": {
    "name": "ipython",
    "version": 3
   },
   "file_extension": ".py",
   "mimetype": "text/x-python",
   "name": "python",
   "nbconvert_exporter": "python",
   "pygments_lexer": "ipython3",
   "version": "3.12.2"
  }
 },
 "nbformat": 4,
 "nbformat_minor": 2
}
