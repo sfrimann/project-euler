{
 "cells": [
  {
   "cell_type": "markdown",
   "metadata": {},
   "source": [
    "# Problem 222: Sphere Packing\n",
    "\n",
    "What is the length of the shortest pipe, of internal radius $50\\,\\mathrm{mm}$, that can fully contain $21$ balls of radii $30\\,\\mathrm{mm}, 31\\,\\mathrm{mm}, \\dots, 50\\,\\mathrm{mm}$?\n",
    "\n",
    "Give your answer in micrometres ($10^{-6}\\,\\mathrm{m}$) rounded to the nearest integer."
   ]
  },
  {
   "cell_type": "markdown",
   "metadata": {},
   "source": []
  }
 ],
 "metadata": {
  "language_info": {
   "name": "python"
  }
 },
 "nbformat": 4,
 "nbformat_minor": 2
}
