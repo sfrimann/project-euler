{
 "cells": [
  {
   "cell_type": "markdown",
   "metadata": {},
   "source": [
    "# Problem 222: Sphere Packing\n",
    "\n",
    "What is the length of the shortest pipe, of internal radius $50\\,\\mathrm{mm}$, that can fully contain $21$ balls of radii $30\\,\\mathrm{mm}, 31\\,\\mathrm{mm}, \\dots, 50\\,\\mathrm{mm}$?\n",
    "\n",
    "Give your answer in micrometres ($10^{-6}\\,\\mathrm{m}$) rounded to the nearest integer."
   ]
  },
  {
   "cell_type": "code",
   "execution_count": 29,
   "metadata": {},
   "outputs": [],
   "source": [
    "from functools import cache\n",
    "from math import sqrt\n",
    "\n",
    "\n",
    "# distance between the centers of two adjacent balls\n",
    "@cache\n",
    "def d(r1: int, r2: int) -> float:\n",
    "    return 10 * sqrt(2 * (r1 + r2 - 50))"
   ]
  },
  {
   "cell_type": "code",
   "execution_count": 44,
   "metadata": {},
   "outputs": [
    {
     "name": "stdout",
     "output_type": "stream",
     "text": [
      "981.031752238829\n",
      "(49, 47, 45, 43, 41, 40, 42, 44, 46, 48, 50)\n"
     ]
    }
   ],
   "source": [
    "from itertools import permutations\n",
    "\n",
    "\n",
    "# brute force of reduced problem\n",
    "\n",
    "ball_radii = [_ for _ in range(40, 51)]\n",
    "\n",
    "min_pipe_length = 10**9\n",
    "optimal_configuration = []\n",
    "for c in permutations(ball_radii):\n",
    "    _d = sum([d(c[i], c[i + 1]) for i in range(len(ball_radii) - 1)])\n",
    "    if (_d + c[0] + c[-1]) < min_pipe_length:\n",
    "        min_pipe_length = _d + c[0] + c[-1]\n",
    "        optimal_configuration = c\n",
    "print(min_pipe_length)\n",
    "print(optimal_configuration)"
   ]
  },
  {
   "cell_type": "code",
   "execution_count": 45,
   "metadata": {},
   "outputs": [
    {
     "name": "stdout",
     "output_type": "stream",
     "text": [
      "min pipe length =  1590933\n"
     ]
    }
   ],
   "source": [
    "min_radius = 30\n",
    "max_radius = 50\n",
    "\n",
    "optimal_configuration = list(range(max_radius - 1, min_radius, -2)) + list(\n",
    "    range(min_radius, max_radius + 1, 2)\n",
    ")\n",
    "\n",
    "min_pipe_length = (\n",
    "    sum(\n",
    "        [\n",
    "            d(optimal_configuration[i], optimal_configuration[i + 1])\n",
    "            for i in range(len(optimal_configuration) - 1)\n",
    "        ]\n",
    "    )\n",
    "    + optimal_configuration[0]\n",
    "    + optimal_configuration[-1]\n",
    ")\n",
    "\n",
    "print(\"min pipe length = \", round(min_pipe_length * 1000))"
   ]
  }
 ],
 "metadata": {
  "kernelspec": {
   "display_name": "project-euler",
   "language": "python",
   "name": "python3"
  },
  "language_info": {
   "codemirror_mode": {
    "name": "ipython",
    "version": 3
   },
   "file_extension": ".py",
   "mimetype": "text/x-python",
   "name": "python",
   "nbconvert_exporter": "python",
   "pygments_lexer": "ipython3",
   "version": "3.12.2"
  }
 },
 "nbformat": 4,
 "nbformat_minor": 2
}
