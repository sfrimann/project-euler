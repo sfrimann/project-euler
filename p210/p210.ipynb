{
 "cells": [
  {
   "cell_type": "markdown",
   "metadata": {},
   "source": [
    "# Problem 210: Obtuse Angled Triangles\n",
    "\n",
    "Consider the set $S(r)$ of points $(x,y)$ with integer coordinates satisfying $|x| + |y| \\le r$.\\\n",
    "Let $O$ be the point $(0,0)$ and $C$ the point $(r/4,r/4)$.\\\n",
    "Let $N(r)$ be the number of points $B$ in $S(r)$, so that the triangle $OBC$ has an obtuse angle, i.e. the largest angle $\\alpha$ satisfies $90^\\circ \\lt \\alpha \\lt 180^\\circ$.\\\n",
    "So, for example, $N(4)=24$ and $N(8)=100$.\n",
    "\n",
    "What is $N(1\\,000\\,000\\,000)$?"
   ]
  },
  {
   "cell_type": "code",
   "execution_count": null,
   "metadata": {},
   "outputs": [],
   "source": []
  }
 ],
 "metadata": {
  "kernelspec": {
   "display_name": "project-euler",
   "language": "python",
   "name": "python3"
  },
  "language_info": {
   "name": "python",
   "version": "3.12.2"
  }
 },
 "nbformat": 4,
 "nbformat_minor": 2
}
