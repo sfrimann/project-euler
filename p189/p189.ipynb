{
 "cells": [
  {
   "cell_type": "markdown",
   "metadata": {},
   "source": [
    "# Problem 189: Tri-colouring a Triangular Grid\n",
    "\n",
    "Consider the following configuration of $64$ triangles:\n",
    "\n",
    "![](./0189_grid.gif)\n",
    "\n",
    "We wish to colour the interior of each triangle with one of three colours: red, green or blue, so that no two neighbouring triangles have the same colour. Such a colouring shall be called valid. Here, two triangles are said to be neighbouring if they share an edge.\n",
    "Note: if they only share a vertex, then they are not neighbours.\n",
    "\n",
    "For example, here is a valid colouring of the above grid:\n",
    "\n",
    "![](./0189_colours.gif)\n",
    "\n",
    "A colouring $C^\\prime$ which is obtained from a colouring $C$ by rotation or reflection is considered _distinct_ from $C$ unless the two are identical.\n",
    "\n",
    "How many distinct valid colourings are there for the above configuration?"
   ]
  },
  {
   "cell_type": "code",
   "execution_count": 3,
   "metadata": {},
   "outputs": [
    {
     "name": "stdout",
     "output_type": "stream",
     "text": [
      "[0, 1, 0] [(0,), (2,)] (0, 0)\n",
      "[0, 1, 2] [(0,), (2,)] (0, 2)\n",
      "[0, 2, 0] [(0,), (1,)] (0, 0)\n",
      "[0, 2, 1] [(0,), (1,)] (0, 1)\n",
      "[1, 0, 1] [(1,), (2,)] (1, 1)\n",
      "[1, 0, 2] [(1,), (2,)] (1, 2)\n",
      "[1, 2, 0] [(0,), (1,)] (1, 0)\n",
      "[1, 2, 1] [(0,), (1,)] (1, 1)\n",
      "[2, 0, 1] [(1,), (2,)] (2, 1)\n",
      "[2, 0, 2] [(1,), (2,)] (2, 2)\n",
      "[2, 1, 0] [(0,), (2,)] (2, 0)\n",
      "[2, 1, 2] [(0,), (2,)] (2, 2)\n"
     ]
    }
   ],
   "source": [
    "from typing import Optional, Generator\n",
    "from itertools import product\n",
    "\n",
    "def generate_row_states(k: int, row_length: int, x: Optional[list[int]] = None) -> Generator[list[int], list[int], list[int]]:\n",
    "    if x == None:\n",
    "        x = []\n",
    "\n",
    "    if len(x) == row_length:\n",
    "        yield x\n",
    "    elif len(x) > 0:\n",
    "        for label in range(k):\n",
    "            if label != x[-1]:\n",
    "                yield from generate_row_states(k, row_length, x = x + [label])\n",
    "    else:\n",
    "        for label in range(k):\n",
    "            yield from generate_row_states(k, row_length, x + [label])\n",
    "\n",
    "def get_output_state(row_state: list[int]) -> tuple[int]:\n",
    "    return tuple(row_state[0::2])\n",
    "\n",
    "def generate_receiving_states(row_state: list[int], num_colors: int) -> Generator[tuple[int], list[int], tuple[int]]:\n",
    "    input_state = tuple(row_state[1::2])\n",
    "    product_list = []\n",
    "    for state_color in input_state:\n",
    "        product_list.append([i for i in range(num_colors) if i != state_color])\n",
    "    for receiving_state in product(*product_list):\n",
    "        yield receiving_state\n",
    "\n",
    "\n",
    "for i in generate_row_states(3, 3):\n",
    "    print(i, [x for x in generate_receiving_states(i, 3)], get_output_state(i))"
   ]
  },
  {
   "cell_type": "code",
   "execution_count": 12,
   "metadata": {},
   "outputs": [
    {
     "name": "stdout",
     "output_type": "stream",
     "text": [
      "10834893628237824\n"
     ]
    }
   ],
   "source": [
    "from collections import defaultdict\n",
    "num_colors = 3 # number of colours\n",
    "num_rows = 8 # number of rows\n",
    "\n",
    "row_states = defaultdict(int)\n",
    "# initialize states for first row of triangle\n",
    "for i in range(num_colors):\n",
    "    row_states[(i,)] += 1\n",
    "\n",
    "aggregate = 0\n",
    "for num_row in range(1, num_rows):\n",
    "    row_length = 2*num_row + 1\n",
    "    for row_state in generate_row_states(num_colors, row_length):\n",
    "        output_state = get_output_state(row_state)\n",
    "        for receiving_state in generate_receiving_states(row_state, num_colors=num_colors):\n",
    "            row_states[output_state] += row_states[receiving_state]\n",
    "            if num_row == num_rows-1:\n",
    "                aggregate += row_states[receiving_state]\n",
    "\n",
    "print(aggregate)"
   ]
  },
  {
   "cell_type": "markdown",
   "metadata": {},
   "source": []
  }
 ],
 "metadata": {
  "kernelspec": {
   "display_name": "project-euler",
   "language": "python",
   "name": "python3"
  },
  "language_info": {
   "codemirror_mode": {
    "name": "ipython",
    "version": 3
   },
   "file_extension": ".py",
   "mimetype": "text/x-python",
   "name": "python",
   "nbconvert_exporter": "python",
   "pygments_lexer": "ipython3",
   "version": "3.12.2"
  }
 },
 "nbformat": 4,
 "nbformat_minor": 2
}
