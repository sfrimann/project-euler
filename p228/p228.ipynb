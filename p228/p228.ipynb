{
 "cells": [
  {
   "cell_type": "markdown",
   "metadata": {},
   "source": [
    "# Problem 228: Minkowski Sums\n",
    "\n",
    "Let $S_n$ be the regular $n$-sided polygon – or <dfn>shape</dfn> – whose vertices \n",
    "\n",
    "$v_k$ ($k = 1, 2, \\dots, n$) have coordinates:\n",
    "\\begin{align}\n",
    "x_k &= \\cos((2k - 1)/n \\times 180^\\circ)\\\\\n",
    "y_k &= \\sin((2k - 1)/n \\times 180^\\circ)\n",
    "\\end{align}\n",
    "\n",
    "Each $S_n$ is to be interpreted as a filled shape consisting of all points on the perimeter and in the interior.\n",
    "\n",
    "The <strong>Minkowski sum</strong>, $S + T$, of two shapes $S$ and $T$ is the result of adding every point in $S$ to every point in $T$, where point addition is performed coordinate-wise: $(u, v) + (x, y) = (u + x, v + y)$.\n",
    "\n",
    "For example, the sum of $S_3$ and $S_4$ is the six-sided shape shown in pink below:\n",
    "\n",
    "<div class=\"center\">\n",
    "<img src=\"./0228.png\" class=\"dark_img\" alt=\"picture showing S_3 + S_4\"></div>\n",
    "\n",
    "How many sides does $S_{1864} + S_{1865} + \\cdots + S_{1909}$ have?"
   ]
  },
  {
   "cell_type": "markdown",
   "metadata": {},
   "source": []
  }
 ],
 "metadata": {
  "language_info": {
   "name": "python"
  }
 },
 "nbformat": 4,
 "nbformat_minor": 2
}
