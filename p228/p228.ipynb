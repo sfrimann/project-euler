{
 "cells": [
  {
   "cell_type": "markdown",
   "metadata": {},
   "source": [
    "# Problem 228: Minkowski Sums\n",
    "\n",
    "Let $S_n$ be the regular $n$-sided polygon – or <dfn>shape</dfn> – whose vertices \n",
    "\n",
    "$v_k$ ($k = 1, 2, \\dots, n$) have coordinates:\n",
    "\\begin{align}\n",
    "x_k &= \\cos((2k - 1)/n \\times 180^\\circ)\\\\\n",
    "y_k &= \\sin((2k - 1)/n \\times 180^\\circ)\n",
    "\\end{align}\n",
    "\n",
    "Each $S_n$ is to be interpreted as a filled shape consisting of all points on the perimeter and in the interior.\n",
    "\n",
    "The <strong>Minkowski sum</strong>, $S + T$, of two shapes $S$ and $T$ is the result of adding every point in $S$ to every point in $T$, where point addition is performed coordinate-wise: $(u, v) + (x, y) = (u + x, v + y)$.\n",
    "\n",
    "For example, the sum of $S_3$ and $S_4$ is the six-sided shape shown in pink below:\n",
    "\n",
    "<div class=\"center\">\n",
    "<img src=\"./0228.png\" class=\"dark_img\" alt=\"picture showing S_3 + S_4\"></div>\n",
    "\n",
    "How many sides does $S_{1864} + S_{1865} + \\cdots + S_{1909}$ have?"
   ]
  },
  {
   "cell_type": "code",
   "execution_count": 15,
   "metadata": {},
   "outputs": [],
   "source": [
    "from math import cos, pi, sin\n",
    "from typing import List, Tuple\n",
    "import matplotlib.pyplot as plt\n",
    "\n",
    "\n",
    "def S(n: int) -> List[Tuple[int, int]]:\n",
    "    return [\n",
    "        (n * cos((2 * k - 1) / n * pi), n * sin((2 * k - 1) / n * pi))\n",
    "        for k in range(1, n + 1)\n",
    "    ]\n",
    "\n",
    "\n",
    "def plot_polygon(points: List[Tuple[int, int]]) -> None:\n",
    "    for x, y in points:\n",
    "        plt.plot(x, y, \"k.\")\n",
    "    plt.axis(\"equal\")"
   ]
  },
  {
   "cell_type": "code",
   "execution_count": 32,
   "metadata": {},
   "outputs": [
    {
     "data": {
      "image/png": "[encoded data removed]",
      "text/plain": [
       "<Figure size 640x480 with 1 Axes>"
      ]
     },
     "metadata": {},
     "output_type": "display_data"
    }
   ],
   "source": [
    "plot_polygon(S(6))"
   ]
  },
  {
   "cell_type": "code",
   "execution_count": 39,
   "metadata": {},
   "outputs": [
    {
     "name": "stdout",
     "output_type": "stream",
     "text": [
      "S(3) + S(4) = 6\n",
      "Sum_{k=1864}^{1909} S(k) = 86226\n"
     ]
    }
   ],
   "source": [
    "def Spolar(n: int) -> List[float]:\n",
    "    return [k / n * 360 for k in range(n)]\n",
    "\n",
    "\n",
    "print(\"S(3) + S(4) =\", len(set(Spolar(3) + Spolar(4))))\n",
    "print(\n",
    "    \"Sum_{k=1864}^{1909} S(k) =\",\n",
    "    len(set(sum([Spolar(k) for k in range(1864, 1909 + 1)], []))),\n",
    ")"
   ]
  }
 ],
 "metadata": {
  "kernelspec": {
   "display_name": "project-euler",
   "language": "python",
   "name": "python3"
  },
  "language_info": {
   "codemirror_mode": {
    "name": "ipython",
    "version": 3
   },
   "file_extension": ".py",
   "mimetype": "text/x-python",
   "name": "python",
   "nbconvert_exporter": "python",
   "pygments_lexer": "ipython3",
   "version": "3.12.2"
  }
 },
 "nbformat": 4,
 "nbformat_minor": 2
}
