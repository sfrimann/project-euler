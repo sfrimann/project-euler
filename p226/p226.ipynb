{
 "cells": [
  {
   "cell_type": "markdown",
   "metadata": {},
   "source": [
    "# Problem 226: A Scoop of Blancmange\n",
    "\n",
    "The <strong>blancmange curve</strong> is the set of points $(x, y)$ such that $0 \\le x \\le 1$ and $y = \\sum \\limits_{n = 0}^{\\infty} {\\dfrac{s(2^n x)}{2^n}}$, where $s(x)$ is the distance from $x$ to the nearest integer.\n",
    "\n",
    "The area under the blancmange curve is equal to ½, shown in pink in the diagram below.\n",
    "\n",
    "<div class=\"center\">\n",
    "<img src=\"./0226_scoop2.gif\" class=\"dark_img\" alt=\"blancmange curve\"></div>\n",
    "\n",
    "Let $C$ be the circle with centre $\\left ( \\frac{1}{4}, \\frac{1}{2} \\right )$ and radius $\\frac{1}{4}$, shown in black in the diagram.\n",
    "\n",
    "What area under the blancmange curve is enclosed by $C$?<br>Give your answer rounded to eight decimal places in the form <i>0.abcdefgh</i>."
   ]
  },
  {
   "cell_type": "markdown",
   "metadata": {},
   "source": []
  }
 ],
 "metadata": {
  "language_info": {
   "name": "python"
  }
 },
 "nbformat": 4,
 "nbformat_minor": 2
}
