{
 "cells": [
  {
   "cell_type": "markdown",
   "metadata": {},
   "source": [
    "# Problem 212: Combined Volume of Cuboids\n",
    "\n",
    "An <dfn>axis-aligned cuboid</dfn>, specified by parameters $\\{(x_0, y_0, z_0), (dx, dy, dz)\\}$, consists of all points $(X,Y,Z)$ such that $x_0 \\le X \\le x_0 + dx$, $y_0 \\le Y \\le y_0 + dy$ and $z_0 \\le Z \\le z_0 + dz$.  The volume of the cuboid is the product, $dx \\times dy \\times dz$.  The <dfn>combined volume</dfn> of a collection of cuboids is the volume of their union and will be less than the sum of the individual volumes if any cuboids overlap.\n",
    "\n",
    "Let $C_1, \\dots, C_{50000}$ be a collection of $50000$ axis-aligned cuboids such that $C_n$ has parameters\n",
    "\n",
    "\\begin{align}\n",
    "x_0 &= S_{6n - 5} \\bmod 10000 \\nonumber \\\\\n",
    "y_0 &= S_{6n - 4} \\bmod 10000 \\nonumber \\\\\n",
    "z_0 &= S_{6n - 3} \\bmod 10000 \\nonumber \\\\\n",
    "dx &= 1 + (S_{6n - 2} \\bmod 399) \\nonumber \\\\\n",
    "dy &= 1 + (S_{6n - 1} \\bmod 399) \\nonumber \\\\\n",
    "dz &= 1 + (S_{6n} \\bmod 399) \\nonumber\n",
    "\\end{align}\n",
    "\n",
    "where $S_1,\\dots,S_{300000}$ come from the \"Lagged Fibonacci Generator\":\n",
    "\n",
    "For $1 \\le k \\le 55$, $S_k = [100003 - 200003k + 300007k^3] \\pmod{1000000}$. \\\n",
    "For $56 \\le k$, $S_k = [S_{k -24} + S_{k - 55}] \\pmod{1000000}$.\n",
    "\n",
    "Thus, $C_1$ has parameters $\\{(7,53,183),(94,369,56)\\}$, $C_2$ has parameters $\\{(2383,3563,5079),(42,212,344)\\}$, and so on.\n",
    "\n",
    "The combined volume of the first $100$ cuboids, $C_1, \\dots, C_{100}$, is $723581599$.\n",
    "\n",
    "What is the combined volume of all $50000$ cuboids, $C_1, \\dots, C_{50000}$?"
   ]
  },
  {
   "cell_type": "code",
   "execution_count": 1,
   "metadata": {},
   "outputs": [
    {
     "name": "stdout",
     "output_type": "stream",
     "text": [
      "C(1) =  [7, 53, 183, 94, 369, 56]\n",
      "C(2) =  [2383, 3563, 5079, 42, 212, 344]\n"
     ]
    }
   ],
   "source": [
    "import functools\n",
    "\n",
    "@functools.cache\n",
    "def S(k: int) -> int:\n",
    "    if k <= 55:\n",
    "        return (100003 - 200003*k + 300007*k*k*k) % 1000000\n",
    "    else:\n",
    "        return S(k-24) + S(k-55) % 1000000\n",
    "\n",
    "def C(n: int):\n",
    "    x0 = S(6*n-5) % 10000\n",
    "    y0 = S(6*n-4) % 10000\n",
    "    z0 = S(6*n-3) % 10000\n",
    "    dx = 1 + (S(6*n-2) % 399)\n",
    "    dy = 1 + (S(6*n-1) % 399)\n",
    "    dz = 1 + (S(6*n) % 399)\n",
    "    return [x0, y0, z0, dx, dy, dz]\n",
    "\n",
    "S.cache_clear()\n",
    "print(\"C(1) = \", C(1))\n",
    "print(\"C(2) = \", C(2))"
   ]
  },
  {
   "cell_type": "code",
   "execution_count": 59,
   "metadata": {},
   "outputs": [
    {
     "name": "stdout",
     "output_type": "stream",
     "text": [
      "c1.volume 1000\n",
      "c1.overlaps(c2) = False\n",
      "c1.overlap(c3) = Cuboid(x0=4, y0=4, z0=4, dx=2, dy=2, dz=6)\n"
     ]
    }
   ],
   "source": [
    "from dataclasses import dataclass\n",
    "from functools import cached_property\n",
    "from typing import Tuple\n",
    "\n",
    "\n",
    "@dataclass\n",
    "class Cuboid:\n",
    "    x0: int\n",
    "    y0: int\n",
    "    z0: int\n",
    "    dx: int\n",
    "    dy: int\n",
    "    dz: int\n",
    "\n",
    "    @cached_property\n",
    "    def volume(self) -> int:\n",
    "        return self.dx * self.dy * self.dz\n",
    "\n",
    "    @property\n",
    "    def xmin(self) -> int:\n",
    "        return self.x0\n",
    "\n",
    "    @property\n",
    "    def ymin(self) -> int:\n",
    "        return self.y0\n",
    "\n",
    "    @property\n",
    "    def zmin(self) -> int:\n",
    "        return self.y0\n",
    "\n",
    "    @cached_property\n",
    "    def xmax(self) -> int:\n",
    "        return self.x0 + self.dx\n",
    "\n",
    "    @cached_property\n",
    "    def ymax(self) -> int:\n",
    "        return self.y0 + self.dy\n",
    "\n",
    "    @cached_property\n",
    "    def zmax(self) -> int:\n",
    "        return self.z0 + self.dz\n",
    "\n",
    "    def x_overlap(self, other: \"Cuboid\") -> Tuple[int, int, int]:\n",
    "        xmin = max(self.xmin, other.xmin)\n",
    "        xmax = min(self.xmax, other.xmax)\n",
    "        dx = xmax - xmin\n",
    "        return (xmin, xmax, dx)\n",
    "\n",
    "    def y_overlap(self, other: \"Cuboid\") -> Tuple[int, int, int]:\n",
    "        ymin = max(self.ymin, other.ymin)\n",
    "        ymax = min(self.ymax, other.ymax)\n",
    "        dy = ymax - ymin\n",
    "        return (ymin, ymax, dy)\n",
    "\n",
    "    def z_overlap(self, other: \"Cuboid\") -> Tuple[int, int, int]:\n",
    "        zmin = max(self.zmin, other.zmin)\n",
    "        zmax = min(self.zmax, other.zmax)\n",
    "        dz = zmax - zmin\n",
    "        return (zmin, zmax, dz)\n",
    "\n",
    "    def is_overlap(self, other: \"Cuboid\") -> bool:\n",
    "        if self.xmin >= other.xmax:\n",
    "            return False\n",
    "        elif self.xmax <= other.xmin:\n",
    "            return False\n",
    "        if self.ymin >= other.ymax:\n",
    "            return False\n",
    "        elif self.ymax <= other.ymin:\n",
    "            return False\n",
    "        if self.zmin >= other.zmax:\n",
    "            return False\n",
    "        elif self.zmax <= other.zmin:\n",
    "            return False\n",
    "        else:\n",
    "            return True\n",
    "        # _, _, d = self.x_overlap(other)\n",
    "        # if d <= 0:\n",
    "        #     return False\n",
    "        # _, _, d = self.y_overlap(other)\n",
    "        # if d <= 0:\n",
    "        #     return False\n",
    "        # _, _, d = self.z_overlap(other)\n",
    "        # if d <= 0:\n",
    "        #     return False\n",
    "        # return True\n",
    "\n",
    "    def overlap(self, other: \"Cuboid\") -> \"Cuboid\":\n",
    "        xmin, _, dx = self.x_overlap(other)\n",
    "        ymin, _, dy = self.y_overlap(other)\n",
    "        zmin, _, dz = self.z_overlap(other)\n",
    "        if dx <= 0 or dy <= 0 or dz <= 0:\n",
    "            raise ValueError(\"No overlap\")\n",
    "        return Cuboid(xmin, ymin, zmin, dx, dy, dz)\n",
    "\n",
    "\n",
    "c1 = Cuboid(0, 0, 0, 10, 10, 10)\n",
    "c2 = Cuboid(10, 0, 0, 10, 10, 10)\n",
    "c3 = Cuboid(4, 4, 4, 2, 2, 20)\n",
    "print(\"c1.volume\", c1.volume)\n",
    "print(\"c1.overlaps(c2) =\", c1.is_overlap(c2))\n",
    "print(\"c1.overlap(c3) =\", c1.overlap(c3))"
   ]
  },
  {
   "cell_type": "code",
   "execution_count": 60,
   "metadata": {},
   "outputs": [
    {
     "name": "stdout",
     "output_type": "stream",
     "text": [
      "300 ns ± 0.56 ns per loop (mean ± std. dev. of 7 runs, 1,000,000 loops each)\n"
     ]
    }
   ],
   "source": [
    "%timeit c1.is_overlap(c3)"
   ]
  },
  {
   "cell_type": "code",
   "execution_count": 61,
   "metadata": {},
   "outputs": [],
   "source": [
    "cuboids = [Cuboid(*C(n)) for n in range(1, 50000+1)]"
   ]
  },
  {
   "cell_type": "code",
   "execution_count": 63,
   "metadata": {},
   "outputs": [
    {
     "data": {
      "text/plain": [
       "400699965543"
      ]
     },
     "execution_count": 63,
     "metadata": {},
     "output_type": "execute_result"
    }
   ],
   "source": [
    "sum([c.volume for c in cuboids])"
   ]
  },
  {
   "cell_type": "code",
   "execution_count": 65,
   "metadata": {},
   "outputs": [],
   "source": [
    "g1 = []\n",
    "g1.append(cuboids.pop(0))"
   ]
  },
  {
   "cell_type": "code",
   "execution_count": 70,
   "metadata": {},
   "outputs": [],
   "source": [
    "for _g1 in g1:\n",
    "    index = []\n",
    "    for i in range(len(cuboids)):\n",
    "        if _g1.is_overlap(cuboids[i]):\n",
    "            index.append(i)\n",
    "    if len(index) == 0:\n",
    "        break\n",
    "    for i in index[::-1]:\n",
    "        g1.append(cuboids.pop(i))"
   ]
  },
  {
   "cell_type": "code",
   "execution_count": 71,
   "metadata": {},
   "outputs": [
    {
     "data": {
      "text/plain": [
       "74"
      ]
     },
     "execution_count": 71,
     "metadata": {},
     "output_type": "execute_result"
    }
   ],
   "source": [
    "len(g1)"
   ]
  },
  {
   "cell_type": "code",
   "execution_count": 62,
   "metadata": {},
   "outputs": [
    {
     "name": "stdout",
     "output_type": "stream",
     "text": [
      "0 1249975000 0.0\n",
      "100000000 1249975000 0.02000040000800016\n",
      "200000000 1249975000 0.04000080001600032\n",
      "300000000 1249975000 0.06000120002400048\n",
      "400000000 1249975000 0.08000160003200064\n",
      "500000000 1249975000 0.1000020000400008\n"
     ]
    },
    {
     "ename": "KeyboardInterrupt",
     "evalue": "",
     "output_type": "error",
     "traceback": [
      "\u001b[0;31m---------------------------------------------------------------------------\u001b[0m",
      "\u001b[0;31mKeyboardInterrupt\u001b[0m                         Traceback (most recent call last)",
      "Cell \u001b[0;32mIn[62], line 7\u001b[0m\n\u001b[1;32m      5\u001b[0m \u001b[38;5;28;01mif\u001b[39;00m i \u001b[38;5;241m%\u001b[39m \u001b[38;5;241m10\u001b[39m\u001b[38;5;241m*\u001b[39m\u001b[38;5;241m*\u001b[39m\u001b[38;5;241m8\u001b[39m \u001b[38;5;241m==\u001b[39m \u001b[38;5;241m0\u001b[39m:\n\u001b[1;32m      6\u001b[0m     \u001b[38;5;28mprint\u001b[39m(i, \u001b[38;5;241m50000\u001b[39m\u001b[38;5;241m*\u001b[39m\u001b[38;5;241m49999\u001b[39m\u001b[38;5;241m/\u001b[39m\u001b[38;5;241m/\u001b[39m\u001b[38;5;241m2\u001b[39m, i\u001b[38;5;241m/\u001b[39m\u001b[38;5;241m50000\u001b[39m\u001b[38;5;241m/\u001b[39m\u001b[38;5;241m49999\u001b[39m\u001b[38;5;241m/\u001b[39m\u001b[38;5;241m2\u001b[39m)\n\u001b[0;32m----> 7\u001b[0m \u001b[38;5;28;01mif\u001b[39;00m c1\u001b[38;5;241m.\u001b[39mis_overlap(c2):\n\u001b[1;32m      8\u001b[0m     \u001b[38;5;28;01mcontinue\u001b[39;00m\n",
      "Cell \u001b[0;32mIn[59], line 62\u001b[0m, in \u001b[0;36mCuboid.is_overlap\u001b[0;34m(self, other)\u001b[0m\n\u001b[1;32m     61\u001b[0m \u001b[38;5;28;01mdef\u001b[39;00m \u001b[38;5;21mis_overlap\u001b[39m(\u001b[38;5;28mself\u001b[39m, other: \u001b[38;5;124m\"\u001b[39m\u001b[38;5;124mCuboid\u001b[39m\u001b[38;5;124m\"\u001b[39m) \u001b[38;5;241m-\u001b[39m\u001b[38;5;241m>\u001b[39m \u001b[38;5;28mbool\u001b[39m:\n\u001b[0;32m---> 62\u001b[0m     \u001b[38;5;28;01mif\u001b[39;00m \u001b[38;5;28mself\u001b[39m\u001b[38;5;241m.\u001b[39mxmin \u001b[38;5;241m>\u001b[39m\u001b[38;5;241m=\u001b[39m other\u001b[38;5;241m.\u001b[39mxmax:\n\u001b[1;32m     63\u001b[0m         \u001b[38;5;28;01mreturn\u001b[39;00m \u001b[38;5;28;01mFalse\u001b[39;00m\n\u001b[1;32m     64\u001b[0m     \u001b[38;5;28;01melif\u001b[39;00m \u001b[38;5;28mself\u001b[39m\u001b[38;5;241m.\u001b[39mxmax \u001b[38;5;241m<\u001b[39m\u001b[38;5;241m=\u001b[39m other\u001b[38;5;241m.\u001b[39mxmin:\n",
      "Cell \u001b[0;32mIn[59], line 19\u001b[0m, in \u001b[0;36mCuboid.xmin\u001b[0;34m(self)\u001b[0m\n\u001b[1;32m     15\u001b[0m \u001b[38;5;129m@cached_property\u001b[39m\n\u001b[1;32m     16\u001b[0m \u001b[38;5;28;01mdef\u001b[39;00m \u001b[38;5;21mvolume\u001b[39m(\u001b[38;5;28mself\u001b[39m) \u001b[38;5;241m-\u001b[39m\u001b[38;5;241m>\u001b[39m \u001b[38;5;28mint\u001b[39m:\n\u001b[1;32m     17\u001b[0m     \u001b[38;5;28;01mreturn\u001b[39;00m \u001b[38;5;28mself\u001b[39m\u001b[38;5;241m.\u001b[39mdx \u001b[38;5;241m*\u001b[39m \u001b[38;5;28mself\u001b[39m\u001b[38;5;241m.\u001b[39mdy \u001b[38;5;241m*\u001b[39m \u001b[38;5;28mself\u001b[39m\u001b[38;5;241m.\u001b[39mdz\n\u001b[0;32m---> 19\u001b[0m \u001b[38;5;129m@property\u001b[39m\n\u001b[1;32m     20\u001b[0m \u001b[38;5;28;01mdef\u001b[39;00m \u001b[38;5;21mxmin\u001b[39m(\u001b[38;5;28mself\u001b[39m) \u001b[38;5;241m-\u001b[39m\u001b[38;5;241m>\u001b[39m \u001b[38;5;28mint\u001b[39m:\n\u001b[1;32m     21\u001b[0m     \u001b[38;5;28;01mreturn\u001b[39;00m \u001b[38;5;28mself\u001b[39m\u001b[38;5;241m.\u001b[39mx0\n\u001b[1;32m     23\u001b[0m \u001b[38;5;129m@property\u001b[39m\n\u001b[1;32m     24\u001b[0m \u001b[38;5;28;01mdef\u001b[39;00m \u001b[38;5;21mymin\u001b[39m(\u001b[38;5;28mself\u001b[39m) \u001b[38;5;241m-\u001b[39m\u001b[38;5;241m>\u001b[39m \u001b[38;5;28mint\u001b[39m:\n",
      "\u001b[0;31mKeyboardInterrupt\u001b[0m: "
     ]
    }
   ],
   "source": [
    "from itertools import combinations\n",
    "\n",
    "for (i, (c1, c2)) in enumerate(combinations(cuboids, 2)):\n",
    "    if i % 10**8 == 0:\n",
    "        print(i, 50000*49999//2, i/50000/49999/2)\n",
    "    if c1.is_overlap(c2):\n",
    "        continue"
   ]
  },
  {
   "cell_type": "code",
   "execution_count": null,
   "metadata": {},
   "outputs": [],
   "source": []
  }
 ],
 "metadata": {
  "kernelspec": {
   "display_name": "project-euler",
   "language": "python",
   "name": "python3"
  },
  "language_info": {
   "codemirror_mode": {
    "name": "ipython",
    "version": 3
   },
   "file_extension": ".py",
   "mimetype": "text/x-python",
   "name": "python",
   "nbconvert_exporter": "python",
   "pygments_lexer": "ipython3",
   "version": "3.12.2"
  }
 },
 "nbformat": 4,
 "nbformat_minor": 2
}
