{
 "cells": [
  {
   "cell_type": "markdown",
   "metadata": {},
   "source": [
    "# Problem 213: Flea Circus\n",
    "\n",
    "A $30 \\times 30$ grid of squares contains $900$ fleas, initially one flea per square.\\\n",
    "When a bell is rung, each flea jumps to an adjacent square at random (usually $4$ possibilities, except for fleas on the edge of the grid or at the corners).\n",
    "\n",
    "What is the expected number of unoccupied squares after $50$ rings of the bell? Give your answer rounded to six decimal places."
   ]
  },
  {
   "cell_type": "markdown",
   "metadata": {},
   "source": []
  }
 ],
 "metadata": {
  "language_info": {
   "name": "python"
  }
 },
 "nbformat": 4,
 "nbformat_minor": 2
}
