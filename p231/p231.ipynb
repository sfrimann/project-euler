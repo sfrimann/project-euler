{
 "cells": [
  {
   "cell_type": "markdown",
   "metadata": {},
   "source": [
    "# Problem 231: Prime Factorisation of Binomial Coefficients\n",
    "\n",
    "The binomial coefficient $\\displaystyle \\binom {10} 3 = 120$.\\\n",
    "$120 = 2^3 \\times 3 \\times 5 = 2 \\times 2 \\times 2 \\times 3 \\times 5$, and $2 + 2 + 2 + 3 + 5 = 14$.\\\n",
    "So the sum of the terms in the prime factorisation of $\\displaystyle \\binom {10} 3$ is $14$.\n",
    "\n",
    "Find the sum of the terms in the prime factorisation of $\\displaystyle \\binom {20\\,000\\,000} {15\\,000\\,000}$."
   ]
  },
  {
   "cell_type": "code",
   "execution_count": 11,
   "metadata": {},
   "outputs": [
    {
     "name": "stdout",
     "output_type": "stream",
     "text": [
      "Legendre: defaultdict(<class 'int'>, {2: 8, 3: 4, 5: 2, 7: 1, 11: 1})\n",
      "Integer factorization: {2: 8, 3: 4, 5: 2, 7: 1, 11: 1}\n"
     ]
    }
   ],
   "source": [
    "from collections import defaultdict\n",
    "from itertools import count\n",
    "from math import factorial\n",
    "from sympy import factorint, primerange\n",
    "\n",
    "\n",
    "def legendre_formula(x: int):\n",
    "    prime_factors = defaultdict(int)\n",
    "    for prime in primerange(x + 1):\n",
    "        for exponent in count(1):\n",
    "            power = x // prime**exponent\n",
    "            if power == 0:\n",
    "                break\n",
    "            prime_factors[prime] += power\n",
    "    return prime_factors\n",
    "\n",
    "\n",
    "# sanity check\n",
    "print(\"Legendre:\", legendre_formula(11))\n",
    "print(\"Integer factorization:\", factorint(factorial(11)))"
   ]
  },
  {
   "cell_type": "code",
   "execution_count": 15,
   "metadata": {},
   "outputs": [
    {
     "name": "stdout",
     "output_type": "stream",
     "text": [
      "{2: 3, 3: 1, 5: 1} 14\n"
     ]
    }
   ],
   "source": [
    "def binomial_prime_factors(n: int, k: int):\n",
    "    n_factors = legendre_formula(n)\n",
    "    k_factors = legendre_formula(k)\n",
    "    nmk_factors = legendre_formula(n - k)\n",
    "\n",
    "    binomial_factors = {}\n",
    "    for prime, n_exponent in n_factors.items():\n",
    "        k_exponent = k_factors[prime]\n",
    "        nmk_exponent = nmk_factors[prime]\n",
    "        if n_exponent - k_exponent - nmk_exponent > 0:\n",
    "            binomial_factors[prime] = n_exponent - k_exponent - nmk_exponent\n",
    "    return binomial_factors\n",
    "\n",
    "\n",
    "bp = binomial_prime_factors(10, 3)\n",
    "print(bp, sum(p * e for p, e in bp.items()))"
   ]
  },
  {
   "cell_type": "code",
   "execution_count": 16,
   "metadata": {},
   "outputs": [
    {
     "name": "stdout",
     "output_type": "stream",
     "text": [
      "Result: 7526965179680\n"
     ]
    }
   ],
   "source": [
    "n = 20 * 10**6\n",
    "k = 15 * 10**6\n",
    "\n",
    "bp = binomial_prime_factors(n, k)\n",
    "print(\"Result:\", sum(p * e for p, e in bp.items()))"
   ]
  }
 ],
 "metadata": {
  "kernelspec": {
   "display_name": "project-euler",
   "language": "python",
   "name": "python3"
  },
  "language_info": {
   "codemirror_mode": {
    "name": "ipython",
    "version": 3
   },
   "file_extension": ".py",
   "mimetype": "text/x-python",
   "name": "python",
   "nbconvert_exporter": "python",
   "pygments_lexer": "ipython3",
   "version": "3.12.2"
  }
 },
 "nbformat": 4,
 "nbformat_minor": 2
}
